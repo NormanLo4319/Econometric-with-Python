{
 "cells": [
  {
   "cell_type": "markdown",
   "id": "consistent-timothy",
   "metadata": {},
   "source": [
    "## Multiple Regression Analysis: Further Issues\n",
    "\n",
    "In this notebook, we cover some issues regarding the implementation of regression analyses. We first discuss more flexible specification of regression equations such as variable scaling, standardization, polynomials, and interactions. They can be conveinently included in the **formula** and used in the **statsmodels** OLS estimation. Then, we discuss the model predictions and their confidence intervals. After that we would like to introduce using the **qualitatve regressors** or **categorical variable** in the regression model.\n",
    "\n",
    "#### Topics:\n",
    "\n",
    "1. Model Formula / Specification\n",
    "2. Prediction\n",
    "3. Qualitative Regressors\n",
    "\n",
    "### 1. Model Formula / Specification\n",
    "\n",
    "If we run a regression in **statsmodels** using a syntax like\n",
    "\n",
    "``` python\n",
    "smf.ols('y ~ x1 + x2 + x3', data = sample)\n",
    "```\n",
    "\n",
    "the expression **y ~ x1 + x2 + x3** is referred to as a model **formula** or **specification**. It is a compact symbolic way to describe our regression equation. The dependent variable is separated from the regressors by a '~' and the regressors are separated by a '+' indicating that they enter the equation in a linear fashion. A constant is added by default. Such formula can be specified in more complex ways to indicate different kinds of regression equations. We will cover the most important ones in this section.\n",
    "\n",
    "#### Data Scaling: Arithmetic Operations within a Formula\n",
    "\n",
    "Woodldrige (2019) discusses how different scaling of the variables in the model affect the parameter estimates and other statistics in Section 6.1. As an example, a model relating the birth weight to cigarette smoking of the mother during pregnancy and the family income. The basic model equation is\n",
    "\n",
    "$$bwght = \\beta_0 + \\beta_1 cigs + \\beta_2 faminc + u$$\n",
    "\n",
    "which translates into formula syntax as **bwght ~ cigs + faminc**.\n",
    "\n",
    "If we want to measure the weight in pounds rather than ounces, there are two ways to implement different rescaling in *Python*. We can\n",
    "\n",
    "- Define a different variable like **bwghtlbs = bwght / 16** and use this variable in the formula: **bwghtlbs ~ cigs + faminc**\n",
    "- Specify this rescaling directly in the formula: **I(bwght/16) ~ cigs + faminc**\n",
    "\n",
    "The later approach can be more convenient. Note that the **I(...)** brackets describe any parts of the formula in which we specify arithmetic transformations.\n",
    "\n",
    "If we want to measure the number of cigarettes smoked per day in packs, we could again define a new variable **pack = cigs / 20** and use it as a regressor or simply specify the formula **bwght ~ I(cigs/20) + faminc**. Here, the importance to use the **I** function is easy to see. If we specified the formula **bwght ~ I(cigs/20 + faminc)** instead, we would have a nonsense model with only one regressor: the sum of the packs smoked and the income.\n",
    "\n",
    "Below example demonstrates these features. As discussed in Wooldridge (2019, Section 6.1), dividing the dependent variable by 16 changes all coefficients by the same factor $\\frac{1}{16}$ and dividing a regressor by 20 changes its coefficient by the factor 20. Other statistics like $R^2$ are unaffected.        "
   ]
  },
  {
   "cell_type": "code",
   "execution_count": 2,
   "id": "educational-antenna",
   "metadata": {},
   "outputs": [],
   "source": [
    "# Import the dependencies\n",
    "import wooldridge as woo\n",
    "import pandas as pd\n",
    "import statsmodels.formula.api as smf"
   ]
  },
  {
   "cell_type": "code",
   "execution_count": 3,
   "id": "magnetic-crime",
   "metadata": {},
   "outputs": [],
   "source": [
    "# Load the data set 'bwght'\n",
    "bwght = woo.dataWoo('bwght')"
   ]
  },
  {
   "cell_type": "code",
   "execution_count": 4,
   "id": "nominated-equation",
   "metadata": {},
   "outputs": [],
   "source": [
    "# Regress and report coefficients:\n",
    "reg = smf.ols(formula = 'bwght ~ cigs + faminc', data = bwght)\n",
    "results = reg.fit()"
   ]
  },
  {
   "cell_type": "code",
   "execution_count": 6,
   "id": "scenic-adventure",
   "metadata": {},
   "outputs": [],
   "source": [
    "# Weight in pounds, manual way:\n",
    "bwght['bwght_lbs'] = bwght['bwght'] / 16\n",
    "reg_lbs = smf.ols(formula = 'bwght_lbs ~ cigs + faminc', data = bwght)\n",
    "results_lbs = reg_lbs.fit()"
   ]
  },
  {
   "cell_type": "code",
   "execution_count": 7,
   "id": "velvet-stylus",
   "metadata": {},
   "outputs": [],
   "source": [
    "# Weight in pounds, direct way:\n",
    "reg_lbs2 = smf.ols(formula = 'I(bwght/16) ~ cigs + faminc', data = bwght)\n",
    "results_lbs2 = reg_lbs2.fit()"
   ]
  },
  {
   "cell_type": "code",
   "execution_count": 9,
   "id": "chubby-series",
   "metadata": {},
   "outputs": [],
   "source": [
    "# Packs of cigarettes:\n",
    "reg_packs = smf.ols(formula = 'bwght ~ I(cigs / 20) + faminc', data = bwght)\n",
    "results_packs = reg_packs.fit()"
   ]
  },
  {
   "cell_type": "code",
   "execution_count": 13,
   "id": "atlantic-antibody",
   "metadata": {},
   "outputs": [
    {
     "name": "stdout",
     "output_type": "stream",
     "text": [
      "Compare Results: \n",
      "              No Scaling  Manual (Pounds)  Direct (Pounds)  Packs of Cigarettes\n",
      "I(cigs / 20)         NaN              NaN              NaN              -9.2682\n",
      "Intercept       116.9741           7.3109           7.3109             116.9741\n",
      "cigs             -0.4634          -0.0290          -0.0290                  NaN\n",
      "faminc            0.0928           0.0058           0.0058               0.0928\n",
      "\n"
     ]
    }
   ],
   "source": [
    "# Compare results:\n",
    "table = pd.DataFrame({\"No Scaling\": round(results.params, 4),\n",
    "                     \"Manual (Pounds)\": round(results_lbs.params, 4),\n",
    "                     \"Direct (Pounds)\": round(results_lbs2.params, 4),\n",
    "                     \"Packs of Cigarettes\": round(results_packs.params, 4)})\n",
    "\n",
    "print(f'Compare Results: \\n{table}\\n')"
   ]
  },
  {
   "cell_type": "markdown",
   "id": "armed-dispute",
   "metadata": {},
   "source": [
    "#### Standardization: Beta Coefficients\n",
    "\n",
    "A specific arithmetic operation is the standardization. A variable is standardized by subtracting its mean and dividing by its standard deviation. For example, the standardized dependent variable $y$ and regressor $x_1$ are\n",
    "\n",
    "$$z_y = \\frac{y - \\bar{y}}{sd(y)}$$\n",
    "\n",
    "and\n",
    "\n",
    "$$z_{x_{1}} = \\frac{x_1 - \\bar{x_1}}{sd(x_1)}$$\n",
    "\n",
    "If the regression model only contains standardized variables, the coefficients have a special interpretation. They measure by how many *standard deviation* $y$ changes as the respective independent variable by *one standard deviation*. Inconsistent with the notation used here, they are sometimes referred to as beta coefficients.\n",
    "\n",
    "In *Python*, we can use the same type of arithmetic transformations to subtract the mean and divide by the standard deviation. It can be done more conveniently by defining and using a function **scale()** directly for all variables we want to standardize. \n",
    "\n",
    "#### Wooldridge, Example 6.1: Effects of Pollution on Housing Prices\n",
    "\n",
    "We are interested in how air pollution (nox) and other neighborhood characteristics affect the value of a house. A model using standardization for all variables is expressed in a formula as\n",
    "\n",
    "``` python\n",
    "price_sc ~ 0 + nox_sc + crime_sc + rooms_sc + dist_sc + stratio_sc\n",
    "```\n",
    "\n",
    "With **variable_sc** denoting the scaled version of **variable**. The ouptut shows the parameter estimates of this model. The housing price drops by 0.34 standard deviations as the air pollution increases by one standard deviation."
   ]
  },
  {
   "cell_type": "code",
   "execution_count": 14,
   "id": "looking-revolution",
   "metadata": {},
   "outputs": [],
   "source": [
    "# Import the dependencies\n",
    "import wooldridge as woo\n",
    "import pandas as pd\n",
    "import numpy as np\n",
    "import statsmodels.formula.api as smf"
   ]
  },
  {
   "cell_type": "code",
   "execution_count": 15,
   "id": "knowing-formula",
   "metadata": {},
   "outputs": [],
   "source": [
    "# Import the data set 'hprice2'\n",
    "hprice2 = woo.dataWoo('hprice2')"
   ]
  },
  {
   "cell_type": "code",
   "execution_count": 16,
   "id": "frequent-compilation",
   "metadata": {},
   "outputs": [],
   "source": [
    "# Define a function for the standardization\n",
    "def scale(x):\n",
    "    x_mean = np.mean(x)\n",
    "    x_var = np.var(x, ddof = 1)\n",
    "    x_scaled = (x - x_mean) / np.sqrt(x_var)\n",
    "    return x_scaled"
   ]
  },
  {
   "cell_type": "code",
   "execution_count": 17,
   "id": "industrial-deployment",
   "metadata": {},
   "outputs": [],
   "source": [
    "# Standardize the variables\n",
    "hprice2['price_sc'] = scale(hprice2['price'])\n",
    "hprice2['nox_sc'] = scale(hprice2['nox'])\n",
    "hprice2['crime_sc'] = scale(hprice2['crime'])\n",
    "hprice2['rooms_sc'] = scale(hprice2['rooms'])\n",
    "hprice2['dist_sc'] = scale(hprice2['dist'])\n",
    "hprice2['stratio_sc'] = scale(hprice2['stratio'])"
   ]
  },
  {
   "cell_type": "code",
   "execution_count": 18,
   "id": "outer-young",
   "metadata": {},
   "outputs": [],
   "source": [
    "# Build the regression model based on the standardized variables\n",
    "reg = smf.ols(formula = \n",
    "              'price_sc ~ 0 + nox_sc + crime_sc + rooms_sc + dist_sc + stratio_sc',\n",
    "             data = hprice2)\n",
    "results = reg.fit()"
   ]
  },
  {
   "cell_type": "code",
   "execution_count": 19,
   "id": "valid-viking",
   "metadata": {},
   "outputs": [
    {
     "name": "stdout",
     "output_type": "stream",
     "text": [
      "Regression Table: \n",
      "             Betas      SE   t-Stat  pValue\n",
      "nox_sc     -0.3404  0.0445  -7.6511     0.0\n",
      "crime_sc   -0.1433  0.0307  -4.6693     0.0\n",
      "rooms_sc    0.5139  0.0300  17.1295     0.0\n",
      "dist_sc    -0.2348  0.0430  -5.4641     0.0\n",
      "stratio_sc -0.2703  0.0299  -9.0274     0.0\n",
      "\n"
     ]
    }
   ],
   "source": [
    "# Print Regression Table\n",
    "table = pd.DataFrame({'Betas': round(results.params, 4),\n",
    "                     'SE': round(results.bse, 4),\n",
    "                     \"t-Stat\": round(results.tvalues, 4),\n",
    "                     \"pValue\": round(results.pvalues, 4)})\n",
    "\n",
    "print(f'Regression Table: \\n{table}\\n')"
   ]
  },
  {
   "cell_type": "code",
   "execution_count": null,
   "id": "moderate-trance",
   "metadata": {},
   "outputs": [],
   "source": []
  },
  {
   "cell_type": "code",
   "execution_count": null,
   "id": "wireless-equity",
   "metadata": {},
   "outputs": [],
   "source": []
  },
  {
   "cell_type": "code",
   "execution_count": null,
   "id": "corresponding-welcome",
   "metadata": {},
   "outputs": [],
   "source": []
  },
  {
   "cell_type": "code",
   "execution_count": null,
   "id": "alternative-investment",
   "metadata": {},
   "outputs": [],
   "source": []
  },
  {
   "cell_type": "code",
   "execution_count": null,
   "id": "quality-gravity",
   "metadata": {},
   "outputs": [],
   "source": []
  },
  {
   "cell_type": "code",
   "execution_count": null,
   "id": "hollow-prompt",
   "metadata": {},
   "outputs": [],
   "source": []
  },
  {
   "cell_type": "code",
   "execution_count": null,
   "id": "lined-duration",
   "metadata": {},
   "outputs": [],
   "source": []
  },
  {
   "cell_type": "code",
   "execution_count": null,
   "id": "legislative-estimate",
   "metadata": {},
   "outputs": [],
   "source": []
  },
  {
   "cell_type": "code",
   "execution_count": null,
   "id": "insured-criticism",
   "metadata": {},
   "outputs": [],
   "source": []
  },
  {
   "cell_type": "code",
   "execution_count": null,
   "id": "extreme-stadium",
   "metadata": {},
   "outputs": [],
   "source": []
  },
  {
   "cell_type": "code",
   "execution_count": null,
   "id": "engaged-walter",
   "metadata": {},
   "outputs": [],
   "source": []
  },
  {
   "cell_type": "code",
   "execution_count": null,
   "id": "optical-battle",
   "metadata": {},
   "outputs": [],
   "source": []
  },
  {
   "cell_type": "code",
   "execution_count": null,
   "id": "lesser-ambassador",
   "metadata": {},
   "outputs": [],
   "source": []
  },
  {
   "cell_type": "code",
   "execution_count": null,
   "id": "popular-defense",
   "metadata": {},
   "outputs": [],
   "source": []
  },
  {
   "cell_type": "code",
   "execution_count": null,
   "id": "powerful-austria",
   "metadata": {},
   "outputs": [],
   "source": []
  },
  {
   "cell_type": "code",
   "execution_count": null,
   "id": "wicked-declaration",
   "metadata": {},
   "outputs": [],
   "source": []
  }
 ],
 "metadata": {
  "hide_input": false,
  "kernelspec": {
   "display_name": "Python 3",
   "language": "python",
   "name": "python3"
  },
  "language_info": {
   "codemirror_mode": {
    "name": "ipython",
    "version": 3
   },
   "file_extension": ".py",
   "mimetype": "text/x-python",
   "name": "python",
   "nbconvert_exporter": "python",
   "pygments_lexer": "ipython3",
   "version": "3.7.1"
  },
  "nbTranslate": {
   "displayLangs": [
    "*"
   ],
   "hotkey": "alt-t",
   "langInMainMenu": true,
   "sourceLang": "en",
   "targetLang": "fr",
   "useGoogleTranslate": true
  },
  "varInspector": {
   "cols": {
    "lenName": 16,
    "lenType": 16,
    "lenVar": 40
   },
   "kernels_config": {
    "python": {
     "delete_cmd_postfix": "",
     "delete_cmd_prefix": "del ",
     "library": "var_list.py",
     "varRefreshCmd": "print(var_dic_list())"
    },
    "r": {
     "delete_cmd_postfix": ") ",
     "delete_cmd_prefix": "rm(",
     "library": "var_list.r",
     "varRefreshCmd": "cat(var_dic_list()) "
    }
   },
   "types_to_exclude": [
    "module",
    "function",
    "builtin_function_or_method",
    "instance",
    "_Feature"
   ],
   "window_display": false
  }
 },
 "nbformat": 4,
 "nbformat_minor": 5
}
