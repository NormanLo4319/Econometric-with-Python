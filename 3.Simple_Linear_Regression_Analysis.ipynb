{
 "cells": [
  {
   "cell_type": "markdown",
   "id": "transsexual-feelings",
   "metadata": {},
   "source": [
    "## Simple Linear Regression Analysis\n",
    "\n",
    "Econometric methods such as regression can help overcome the problem of complete uncertainty, guide planning and decision-making. Of course, building a model is not an easy task. Models shoudl meet certain criteria (for example, a model should not suffer from serial correlation) in order to be valid, and a lot of work is usually needed before we achieve a good model. Furthermore, much decision-making is required regarding which variables to include in the model. Too many may cause problems (unneeded variables misspecification), while too few may cause other problems (omitted variables misspecification or incorrect functional form).\n",
    "\n",
    "The classical linear regression model is a way of examining the nature and form of the relationships between two or more variables. In this section we consider the case of only two variables. One important issue in the regression analysis is the direction of causation between the two varaibles; in other words, we want to know which variable is affecting the other. Alternatively, this can be stated as which variable depends on the other. Therefore we refer to the variable as the dependent variable (usually denoted by *y*) and the independent or explanatory variable (usually denoted by *x*). We want to explain / predict the value of *y* for different values of the explanatory variable *x*.\n",
    "\n",
    "#### Topics:\n",
    "\n",
    "- Simple Linear Regression\n",
    "- Coefficients, Fitted Values, and Residuals\n",
    "- Goodness of Fit\n",
    "- Regression through the Origin and Regression on an Constant\n",
    "- Expected Values, Variances, and Standard Errors\n",
    "- Monte Carlo Simulations\n",
    "\n",
    "### Simple OLS Regression:\n",
    "\n",
    "We are concerned with estimating the population parameters $\\beta_0$ and $\\beta_1$ of the simple linear regrsssion model\n",
    "\n",
    "$$y = \\beta_0 + \\beta_1 x + u$$\n",
    "\n",
    "from a random sample of *y* and *x*. According to Wooldridge (2019, Section 2.2), the ordinary least squares (OLS) estimator are\n",
    "\n",
    "$$\\hat{\\beta}_0 = \\bar{y} - \\hat{\\beta}_1 \\bar{x}$$\n",
    "\n",
    "$$\\hat{\\beta}_1 = \\frac{Cov(x, y)}{Var(x)}$$\n",
    "\n",
    "Based on these estimated parameters, the OLS regression line is \n",
    "\n",
    "$$\\hat{y} = \\hat{\\beta}_0 + \\hat{\\beta}_1 x$$\n",
    "\n",
    "For a given sample, we just need to calculate the four statistics $\\bar{y}, \\bar{x}, Cov(x, y), Var(x)$ and plug them into these equations. We alreayd know how to make these calculations in *Python*. Let's do it!\n",
    "\n",
    "---\n",
    "\n",
    "#### Wooldridge, Example 2.3: CEO Salary and Return on Equity\n",
    "\n",
    "We are using the data set CEOSAL1 we alreayd analyzed in the previous section. We consider the simple regression model\n",
    "\n",
    "$$salary = \\beta_0 + \\beta_1 roe + u$$\n",
    "\n",
    "where *salary* is the salary of a CEO in thousand dollars and *roe* is the return on investment in percent. We first load the modules and the data set. We also calculate the four statistics we need for the OLS formulas by hand. Finally, the parameter estimated are caculated. So the OLS regression line is\n",
    "\n",
    "$$\\hat{salary} = 963.1913 + 18.50119 \\cdot roe$$"
   ]
  },
  {
   "cell_type": "code",
   "execution_count": 1,
   "id": "copyrighted-intake",
   "metadata": {},
   "outputs": [],
   "source": [
    "# Import modules\n",
    "import wooldridge as woo\n",
    "import numpy as np"
   ]
  },
  {
   "cell_type": "code",
   "execution_count": 2,
   "id": "southwest-festival",
   "metadata": {},
   "outputs": [],
   "source": [
    "# Load the CEOSAL1 data set and assign the variables\n",
    "ceosal1 = woo.dataWoo('ceosal1')\n",
    "x = ceosal1['roe']\n",
    "y = ceosal1['salary']"
   ]
  },
  {
   "cell_type": "code",
   "execution_count": 3,
   "id": "ready-fourth",
   "metadata": {},
   "outputs": [],
   "source": [
    "# Calculate the statistics for OLS formulas:\n",
    "cov_xy = np.cov(x, y)[1, 0]  # access 2nd row and 1st column of covariance matrix\n",
    "var_x = np.var(x, ddof = 1)\n",
    "x_bar = np.mean(x)\n",
    "y_bar = np.mean(y)"
   ]
  },
  {
   "cell_type": "code",
   "execution_count": 4,
   "id": "stable-tiffany",
   "metadata": {},
   "outputs": [
    {
     "name": "stdout",
     "output_type": "stream",
     "text": [
      "Interception Coefficient: 963.1913364725577\n",
      "\n",
      "Slope Coefficient: 18.50118634521493\n",
      "\n"
     ]
    }
   ],
   "source": [
    "# Manual calculation of OLS coefficients:\n",
    "b1 = cov_xy / var_x\n",
    "b0 = y_bar - b1 * x_bar\n",
    "print(f'Interception Coefficient: {b0}\\n')\n",
    "print(f'Slope Coefficient: {b1}\\n')"
   ]
  },
  {
   "cell_type": "markdown",
   "id": "looking-bacteria",
   "metadata": {},
   "source": [
    "While calculating OLS coefficients using this pedestrian approach is straightforward, there is a more convenient way to do it. Given the importance of OLS regression, it is not surprising that many *Python* modules have a specialized command to do the calculations automatically. In the following notebook, we will often use module **statsmodels** to apply linear regression and other econometric methods. More information about the module is provided by [Seabold and Perktold (2010)](https://conference.scipy.org/proceedings/scipy2010/pdfs/seabold.pdf). When working with statsmodels, the first line of code often is:\n",
    "\n",
    "``` Python\n",
    "import statsmodels.formula.api as smf\n",
    "```\n",
    "\n",
    "If the data frame sample contains the values of the dependent variable in column **y** and those of the regressor in the column **x**, we can calculate the OLS coefficients as\n",
    "\n",
    "``` Python\n",
    "reg = smf.ols(forumla = 'y ~ x', data = sample)\n",
    "result = reg.fit()\n",
    "```\n",
    "\n",
    "The first argument **y ~ x** is called a **formula**. Essentially, it means that we want to model a left-hand-side variable **y** to be explained by a right-hand-side variable **x** in a linear fashion. We will discuss more general model forumlae in later section. In the second line of code, the actual calculation of OLS coefficients and many other results are performed by calling the method **fit()**.\n",
    "\n",
    "Finally, all kind of results are assigned to the variable **result**. The name could of course be anything, for example **yummy_chocolate_chip_cookies**, but choosing intuitive variable names makes our life easier. As already mentioned, the referened object does not only include the OLS coefficients, but also information on the data source and much more we will get to know and use later on.\n",
    "\n",
    "In the following example, we repeat the analysis we have already done manually. Besides the import of the data, there are only a few lines of code. The output shows how to access both estimated parameters with **result.params**: $\\hat{\\beta}_0$ is labeled **Intercept** and $\\hat{\\beta}_1$ is labeled with the name of the explanatory variable **roe**. The values are the same we already calculated excepted for different rounding in the ouptut."
   ]
  },
  {
   "cell_type": "code",
   "execution_count": 5,
   "id": "accessible-apparel",
   "metadata": {},
   "outputs": [],
   "source": [
    "# Import modules\n",
    "import statsmodels.formula.api as smf"
   ]
  },
  {
   "cell_type": "code",
   "execution_count": 6,
   "id": "negative-combine",
   "metadata": {},
   "outputs": [
    {
     "name": "stdout",
     "output_type": "stream",
     "text": [
      "OLS Estimated Parameters: \n",
      "Intercept    963.191336\n",
      "roe           18.501186\n",
      "dtype: float64\n",
      "\n"
     ]
    }
   ],
   "source": [
    "reg = smf.ols(formula = 'salary ~ roe', data = ceosal1)\n",
    "results = reg.fit()\n",
    "b = results.params\n",
    "print(f'OLS Estimated Parameters: \\n{b}\\n')"
   ]
  },
  {
   "cell_type": "markdown",
   "id": "advised-collection",
   "metadata": {},
   "source": [
    "From now on, we will reply on the built-in routine in **statsmodels** instead of doing the calculations manually. It is not only more convenient for calculating the coefficients, but also for further analyses as we will see soon.\n",
    "\n",
    "Given the results from a regression, plotting the regression line is straightforward. As we have already seen in the plotting section, the command **plot()** can add points to a graph. In this case, we simply supply the regressor **roe** and the predicted values (available under **result.fittedvalues**) and connect them by a line."
   ]
  },
  {
   "cell_type": "code",
   "execution_count": 7,
   "id": "chronic-shepherd",
   "metadata": {},
   "outputs": [],
   "source": [
    "# Import module\n",
    "import matplotlib.pyplot as plt"
   ]
  },
  {
   "cell_type": "code",
   "execution_count": 8,
   "id": "mature-guest",
   "metadata": {},
   "outputs": [
    {
     "data": {
      "image/png": "[encoded data removed]",
      "text/plain": [
       "<Figure size 432x288 with 1 Axes>"
      ]
     },
     "metadata": {
      "needs_background": "light"
     },
     "output_type": "display_data"
    }
   ],
   "source": [
    "# Scatter plot and fitted values:\n",
    "plt.plot('roe', 'salary', data = ceosal1, color = 'grey',\n",
    "        marker = 'o', linestyle = '')\n",
    "plt.plot(ceosal1['roe'], results.fittedvalues, \n",
    "         color = 'black', linestyle = '-')\n",
    "plt.ylabel('Salary')\n",
    "plt.xlabel('Return on Equity')\n",
    "plt.savefig('images/simple_reg_1.png')\n",
    "plt.show()\n",
    "plt.close()"
   ]
  },
  {
   "cell_type": "code",
   "execution_count": null,
   "id": "specified-weather",
   "metadata": {},
   "outputs": [],
   "source": []
  },
  {
   "cell_type": "code",
   "execution_count": null,
   "id": "social-error",
   "metadata": {},
   "outputs": [],
   "source": []
  },
  {
   "cell_type": "code",
   "execution_count": null,
   "id": "prepared-morning",
   "metadata": {},
   "outputs": [],
   "source": []
  },
  {
   "cell_type": "code",
   "execution_count": null,
   "id": "latest-individual",
   "metadata": {},
   "outputs": [],
   "source": []
  },
  {
   "cell_type": "code",
   "execution_count": null,
   "id": "former-cornwall",
   "metadata": {},
   "outputs": [],
   "source": []
  },
  {
   "cell_type": "code",
   "execution_count": null,
   "id": "accomplished-final",
   "metadata": {},
   "outputs": [],
   "source": []
  },
  {
   "cell_type": "code",
   "execution_count": null,
   "id": "fancy-interface",
   "metadata": {},
   "outputs": [],
   "source": []
  },
  {
   "cell_type": "code",
   "execution_count": null,
   "id": "mobile-experience",
   "metadata": {},
   "outputs": [],
   "source": []
  },
  {
   "cell_type": "code",
   "execution_count": null,
   "id": "novel-marsh",
   "metadata": {},
   "outputs": [],
   "source": []
  },
  {
   "cell_type": "code",
   "execution_count": null,
   "id": "confirmed-participant",
   "metadata": {},
   "outputs": [],
   "source": []
  },
  {
   "cell_type": "code",
   "execution_count": null,
   "id": "still-freight",
   "metadata": {},
   "outputs": [],
   "source": []
  },
  {
   "cell_type": "code",
   "execution_count": null,
   "id": "metropolitan-saudi",
   "metadata": {},
   "outputs": [],
   "source": []
  },
  {
   "cell_type": "code",
   "execution_count": null,
   "id": "charged-bridal",
   "metadata": {},
   "outputs": [],
   "source": []
  },
  {
   "cell_type": "code",
   "execution_count": null,
   "id": "black-tunisia",
   "metadata": {},
   "outputs": [],
   "source": []
  },
  {
   "cell_type": "code",
   "execution_count": null,
   "id": "middle-mount",
   "metadata": {},
   "outputs": [],
   "source": []
  },
  {
   "cell_type": "code",
   "execution_count": null,
   "id": "special-charity",
   "metadata": {},
   "outputs": [],
   "source": []
  },
  {
   "cell_type": "code",
   "execution_count": null,
   "id": "infrared-source",
   "metadata": {},
   "outputs": [],
   "source": []
  },
  {
   "cell_type": "code",
   "execution_count": null,
   "id": "blind-flush",
   "metadata": {},
   "outputs": [],
   "source": []
  },
  {
   "cell_type": "code",
   "execution_count": null,
   "id": "broken-absolute",
   "metadata": {},
   "outputs": [],
   "source": []
  }
 ],
 "metadata": {
  "kernelspec": {
   "display_name": "Python 3",
   "language": "python",
   "name": "python3"
  },
  "language_info": {
   "codemirror_mode": {
    "name": "ipython",
    "version": 3
   },
   "file_extension": ".py",
   "mimetype": "text/x-python",
   "name": "python",
   "nbconvert_exporter": "python",
   "pygments_lexer": "ipython3",
   "version": "3.7.1"
  }
 },
 "nbformat": 4,
 "nbformat_minor": 5
}
