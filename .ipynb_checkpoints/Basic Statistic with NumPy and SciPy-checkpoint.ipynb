{
 "cells": [
  {
   "cell_type": "markdown",
   "id": "olive-editor",
   "metadata": {},
   "source": [
    "## Basic Statistics with Numpy and SciPy\n",
    "\n",
    "Econometrics is the quantitative application of statistical methods to economic data in order to give empirical content to economic relationship. Before we jump into some basic tool for econometrics, such as simple linear regression and multiple linear regression model, we first practice the basic statistics with **NumPy** and **SciPy** in *Python*.\n",
    "\n",
    "\n",
    "### Topics:\n",
    "\n",
    "1. Descriptive Statistics\n",
    "2. Probability Distributions\n",
    "3. Confidence Intervals and Statistical Inference\n",
    "4. Advance Python\n",
    "5. Monte Carlo Simulation"
   ]
  },
  {
   "cell_type": "markdown",
   "id": "alpine-refund",
   "metadata": {},
   "source": [
    "### 1. Descriptive Statistics\n",
    "\n",
    "The *Python* modules **pandas**, **numpy**, and **matplotlib** offer many commands for descriptive statistics. \n",
    "\n",
    "#### Discrete Distributions: Frequencies and Contingency Tables\n",
    "\n",
    "Suppose we have a sample of randome variable *X* and *Y* stored in **numpy** or **pandas** data types *x* and *y*, respectively. For discrete variables, the most fundamental statistics are the frequencies of outcomes. The **numpy** command **unique(x, return_counts = True)** or **pandas** command **x.value_counts()** returns such a table of counts. If we are interested in the contingency table, i.e. the counts of each combination of outcomes for variables *x* and *y*, we provide it to the crosstab function in **pandas**. For getting the sample *shares* instead of the *counts*, we can change the functions arugment **normalize**:\n",
    "\n",
    "- The overall sample share: **crosstab(x, y, normalize = 'all')**\n",
    "- The share within x values (raw percentages): **crosstab(x, y, normalize = 'index')**\n",
    "- The share within y values (column percentages): **crosstab(x, y, normalize = 'columns')**\n",
    "\n",
    "We demonstrate the use of **numpy** and **pandas** comands with two variables in the data set *affairs* from the **wooldridge** module. \n",
    "\n",
    "- **kids** = 1 if the respondent has at least one child\n",
    "- **ratemarr** = Ratiing of the own marriage (1 = very unhappy, ..., 5 = very happy)"
   ]
  },
  {
   "cell_type": "code",
   "execution_count": 1,
   "id": "wanted-inventory",
   "metadata": {},
   "outputs": [],
   "source": [
    "# Import the modules for analysis\n",
    "import wooldridge as woo\n",
    "import numpy as np\n",
    "import pandas as pd"
   ]
  },
  {
   "cell_type": "code",
   "execution_count": 2,
   "id": "internal-messenger",
   "metadata": {},
   "outputs": [],
   "source": [
    "# Loading the affair data set from wooldridge module\n",
    "affairs = woo.dataWoo('affairs')"
   ]
  },
  {
   "cell_type": "code",
   "execution_count": 3,
   "id": "controlled-heating",
   "metadata": {},
   "outputs": [],
   "source": [
    "# Adjust codings to [0-4] (Categorical rquires a start from 0):\n",
    "affairs['ratemarr'] = affairs['ratemarr'] - 1"
   ]
  },
  {
   "cell_type": "code",
   "execution_count": 5,
   "id": "romantic-hometown",
   "metadata": {},
   "outputs": [],
   "source": [
    "# Use a pandas.Categorical object to attach labels for 'haskids':\n",
    "affairs['haskids'] = pd.Categorical.from_codes(affairs['kids'],\n",
    "                                              categories = ['no', 'yes'])"
   ]
  },
  {
   "cell_type": "code",
   "execution_count": 7,
   "id": "seasonal-combination",
   "metadata": {},
   "outputs": [],
   "source": [
    "# Labels for 'marriage' (for example: 0 = 'very unhappy', 1 = 'unhappy', ...)\n",
    "mlab = ['very unhappy', 'unhappy', 'average', 'happy', 'very happy']\n",
    "affairs['marriage'] = pd.Categorical.from_codes(affairs['ratemarr'],\n",
    "                                              categories = mlab)"
   ]
  },
  {
   "cell_type": "code",
   "execution_count": 9,
   "id": "bibliographic-embassy",
   "metadata": {},
   "outputs": [
    {
     "name": "stdout",
     "output_type": "stream",
     "text": [
      "Unique Elements: \n",
      "['average' 'happy' 'unhappy' 'very happy' 'very unhappy']\n",
      "\n",
      "Counts for each Element: \n",
      "[ 93 194  66 232  16]\n",
      "\n"
     ]
    }
   ],
   "source": [
    "# Frequency table in numpy (alphabetical order of elements)\n",
    "ft_np = np.unique(affairs['marriage'], return_counts = True)\n",
    "unique_elem_np = ft_np[0]\n",
    "counts_np = ft_np[1]\n",
    "print(f'Unique Elements: \\n{unique_elem_np}\\n')\n",
    "print(f'Counts for each Element: \\n{counts_np}\\n')"
   ]
  },
  {
   "cell_type": "code",
   "execution_count": 10,
   "id": "multiple-ceramic",
   "metadata": {},
   "outputs": [
    {
     "name": "stdout",
     "output_type": "stream",
     "text": [
      "Frequency Table: \n",
      "very happy      232\n",
      "happy           194\n",
      "average          93\n",
      "unhappy          66\n",
      "very unhappy     16\n",
      "Name: marriage, dtype: int64\n",
      "\n"
     ]
    }
   ],
   "source": [
    "# Frequency table in pandas\n",
    "ft_pd = affairs['marriage'].value_counts()\n",
    "print(f'Frequency Table: \\n{ft_pd}\\n')"
   ]
  },
  {
   "cell_type": "code",
   "execution_count": 12,
   "id": "closing-being",
   "metadata": {},
   "outputs": [
    {
     "name": "stdout",
     "output_type": "stream",
     "text": [
      "Frequency Table by Groups: \n",
      "haskids  marriage    \n",
      "no       very happy       96\n",
      "         happy            40\n",
      "         average          24\n",
      "         unhappy           8\n",
      "         very unhappy      3\n",
      "yes      happy           154\n",
      "         very happy      136\n",
      "         average          69\n",
      "         unhappy          58\n",
      "         very unhappy     13\n",
      "Name: marriage, dtype: int64\n",
      "\n"
     ]
    }
   ],
   "source": [
    "# Frequency table with groupby\n",
    "ft_pd2 = affairs['marriage'].groupby(affairs['haskids']).value_counts()\n",
    "print(f'Frequency Table by Groups: \\n{ft_pd2}\\n')"
   ]
  },
  {
   "cell_type": "code",
   "execution_count": 13,
   "id": "regulated-regression",
   "metadata": {},
   "outputs": [
    {
     "name": "stdout",
     "output_type": "stream",
     "text": [
      "Absolute Contingency Table: \n",
      "haskids        no  yes  All\n",
      "marriage                   \n",
      "very unhappy    3   13   16\n",
      "unhappy         8   58   66\n",
      "average        24   69   93\n",
      "happy          40  154  194\n",
      "very happy     96  136  232\n",
      "All           171  430  601\n",
      "\n",
      "Relative Contingency Table: \n",
      "haskids             no       yes\n",
      "marriage                        \n",
      "very unhappy  0.004992  0.021631\n",
      "unhappy       0.013311  0.096506\n",
      "average       0.039933  0.114809\n",
      "happy         0.066556  0.256240\n",
      "very happy    0.159734  0.226290\n",
      "\n"
     ]
    }
   ],
   "source": [
    "# Contingency table in pandas\n",
    "ct_all_abs = pd.crosstab(affairs['marriage'], affairs['haskids'], margins = 3)\n",
    "print(f'Absolute Contingency Table: \\n{ct_all_abs}\\n')\n",
    "ct_all_rel = pd.crosstab(affairs['marriage'], affairs['haskids'], normalize = 'all')\n",
    "print(f'Relative Contingency Table: \\n{ct_all_rel}\\n')"
   ]
  },
  {
   "cell_type": "code",
   "execution_count": 14,
   "id": "square-facing",
   "metadata": {},
   "outputs": [
    {
     "name": "stdout",
     "output_type": "stream",
     "text": [
      "Relative Contingency Table: \n",
      "haskids             no       yes\n",
      "marriage                        \n",
      "very unhappy  0.187500  0.812500\n",
      "unhappy       0.121212  0.878788\n",
      "average       0.258065  0.741935\n",
      "happy         0.206186  0.793814\n",
      "very happy    0.413793  0.586207\n",
      "\n"
     ]
    }
   ],
   "source": [
    "# Share within marriage (i.e. within a row)\n",
    "ct_row = pd.crosstab(affairs['marriage'], affairs['haskids'], normalize = 'index')\n",
    "print(f'Relative Contingency Table by Row: \\n{ct_row}\\n')"
   ]
  },
  {
   "cell_type": "code",
   "execution_count": 15,
   "id": "welsh-affair",
   "metadata": {},
   "outputs": [
    {
     "name": "stdout",
     "output_type": "stream",
     "text": [
      "Relative Contingency Table by Column: \n",
      "haskids             no       yes\n",
      "marriage                        \n",
      "very unhappy  0.017544  0.030233\n",
      "unhappy       0.046784  0.134884\n",
      "average       0.140351  0.160465\n",
      "happy         0.233918  0.358140\n",
      "very happy    0.561404  0.316279\n",
      "\n"
     ]
    }
   ],
   "source": [
    "# Share within haskids (i.e. within a column)\n",
    "ct_row = pd.crosstab(affairs['marriage'], affairs['haskids'], normalize = 'columns')\n",
    "print(f'Relative Contingency Table by Column: \\n{ct_row}\\n')"
   ]
  },
  {
   "cell_type": "markdown",
   "id": "circular-register",
   "metadata": {},
   "source": [
    "In these examples, we first generate **Categorical** versions of the two variable of interest from the coded values provided by the data set *affairs*. In this way, we can generate tables with meaningful labels instead of numbers for the outcomes. Then different tables are produced. Of the 601 respondents, 430 (= 71.5%) have children. Overall, 16 respondents report to be very unhappy with their marriage and 232 respondent are very happy. In the contingency table with counts, we see for example that 136 respondent are very happy and have kids.\n",
    "\n",
    "The table reporting shares within the row tell us that for example 81.25% of very unhappy individual have children and only 58.6% of very happy respondents have kids. The last table reports the distribution of marriage ratings separately for people with and without kids: 56.1% of the respondents without kids are very happy, whereas only 31.6% of those with kids report to be very happy with their marriage. Before drawing any conclusions for our own family planning, please keep on studying econometrics at least until you fully appreciate the difference between correlation and causation!\n",
    "\n",
    "There are several ways to graphically depict the information in these tables. In the following examples, we demonstrate the creation of basic pie and bar charts using the commands **pie** and **bar**, respectively. These figures can of course be tweaked in many ways. The best way to explore the options is to tinker with the specification and observe the result."
   ]
  },
  {
   "cell_type": "code",
   "execution_count": 18,
   "id": "dominant-booth",
   "metadata": {},
   "outputs": [],
   "source": [
    "# Import matplotlib module\n",
    "import matplotlib.pyplot as plt"
   ]
  },
  {
   "cell_type": "code",
   "execution_count": 19,
   "id": "studied-socket",
   "metadata": {},
   "outputs": [],
   "source": [
    "# Counts for all graphs:\n",
    "counts = affairs['marriage'].value_counts()\n",
    "counts_bykids = affairs['marriage'].groupby(affairs['haskids']).value_counts()\n",
    "counts_yes = counts_bykids['yes']\n",
    "counts_no = counts_bykids['no']"
   ]
  },
  {
   "cell_type": "code",
   "execution_count": 33,
   "id": "chubby-bruce",
   "metadata": {},
   "outputs": [
    {
     "data": {
      "image/png": "[encoded data removed]",
      "text/plain": [
       "<Figure size 432x288 with 1 Axes>"
      ]
     },
     "metadata": {},
     "output_type": "display_data"
    }
   ],
   "source": [
    "# Create pie chart (a)\n",
    "grey_colors = ['0.3', '0.4', '0.5', '0.6', '0.7']\n",
    "plt.pie(counts, labels = mlab, colors = grey_colors)\n",
    "plt.savefig('images/descr-pie.png')\n",
    "plt.show()\n",
    "plt.close()"
   ]
  },
  {
   "cell_type": "code",
   "execution_count": 34,
   "id": "trying-membrane",
   "metadata": {},
   "outputs": [
    {
     "data": {
      "image/png": "[encoded data removed]",
      "text/plain": [
       "<Figure size 432x288 with 1 Axes>"
      ]
     },
     "metadata": {
      "needs_background": "light"
     },
     "output_type": "display_data"
    }
   ],
   "source": [
    "# Create horizontal bar chart (b)\n",
    "y_pos = [0, 1, 2, 3, 4,] # the y locations for the bars\n",
    "plt.barh(y_pos, counts, color = '0.6')\n",
    "plt.yticks(y_pos, mlab, rotation = 60) # add and adjust labeling\n",
    "plt.savefig('images/descr-bar1.png')\n",
    "plt.show()\n",
    "plt.close()"
   ]
  },
  {
   "cell_type": "code",
   "execution_count": 22,
   "id": "meaningful-index",
   "metadata": {},
   "outputs": [
    {
     "data": {
      "text/plain": [
       "<function matplotlib.pyplot.close(fig=None)>"
      ]
     },
     "execution_count": 22,
     "metadata": {},
     "output_type": "execute_result"
    },
    {
     "data": {
      "image/png": "[encoded data removed]",
      "text/plain": [
       "<Figure size 432x288 with 1 Axes>"
      ]
     },
     "metadata": {
      "needs_background": "light"
     },
     "output_type": "display_data"
    }
   ],
   "source": [
    "# Create stacked bar plot (c)\n",
    "x_pos = [0, 1, 2, 3, 4] # the x locations for the bars\n",
    "plt.bar(x_pos, counts_yes, width = 0.4, color = '0.6', label = 'Yes') \n",
    "# with 'bottom = counts_yes' bars are added on top of previous ones:\n",
    "plt.bar(x_pos, counts_no, width = 0.4, bottom = counts_yes, color = '0.3', label='No')\n",
    "plt.ylabel('Counts')\n",
    "plt.xticks(x_pos, mlab) # add labels on x axis\n",
    "plt.legend()\n",
    "plt.savefig('images/descr-bar2.png')\n",
    "plt.show()\n",
    "plt.close"
   ]
  },
  {
   "cell_type": "code",
   "execution_count": 23,
   "id": "supposed-quick",
   "metadata": {},
   "outputs": [
    {
     "data": {
      "image/png": "[encoded data removed]",
      "text/plain": [
       "<Figure size 432x288 with 1 Axes>"
      ]
     },
     "metadata": {
      "needs_background": "light"
     },
     "output_type": "display_data"
    }
   ],
   "source": [
    "# Create grouped bar plot (d)\n",
    "# Add left bars first and move bars to the left:\n",
    "x_pos_leftbar = [-0.2, 0.8, 1.8, 2.8, 3.8]\n",
    "plt.bar(x_pos_leftbar, counts_yes, width = 0.4, color = '0.6', label = 'Yes')\n",
    "# Add right bars first and move bars to the right:\n",
    "x_pos_rightbar = [0.2, 1.2, 2.2, 3.2, 4.2]\n",
    "plt.bar(x_pos_rightbar, counts_no, width = 0.4, color = '0.3', label = \"No\")\n",
    "plt.ylabel('Counts')\n",
    "plt.xticks(x_pos, mlab)\n",
    "plt.legend()\n",
    "plt.savefig('images/descr-bar3.png')\n",
    "plt.show()\n",
    "plt.close()"
   ]
  },
  {
   "cell_type": "markdown",
   "id": "historic-chase",
   "metadata": {},
   "source": [
    "#### Continuous Distributions: Histogram and Density\n",
    "\n",
    "For continuous variables, every observation has a distinct value. In practice, variables which have many (but not infinitely many) different values can be treated in the same way. Since each value appears only once (or a very few times) in the data, frequency table or bar charts are not useful. Instead, the values can be grouped into intervals. The frequency of the values within these intervals can then be tabulated or depicted in a historgram.\n",
    "\n",
    "In the *Python* module **matplotlib**, the function **hist(x, options)** assigns obervations to intervals which can be manually set or automatically chosen and creates a histrogram which plots values of **x** against the count or density within the corresponding bin. The most relevent options are\n",
    "\n",
    "- **bins = ...**: Set the interval boundaries:\n",
    "    - no **bins** specified: let *Python* choose number and position.\n",
    "    - **bins = n** for a scalar **n**: select the number of bins, but let *Python* choose the position.\n",
    "    - **bins = v** for a list **v**: explicitly set the boundaries.\n",
    "- **density = True**: do not use the count bu the density on the vertical axis.\n",
    "\n",
    "Let's look at the data set *CEOSAL1* which is described and used in Wooldridge (2019, Example 2.3). It contains information on the salary of CEOs and other information. We demonstrate how to depict the distribution of the return on equity (ROE), measured in percent. "
   ]
  },
  {
   "cell_type": "code",
   "execution_count": 4,
   "id": "persistent-moldova",
   "metadata": {},
   "outputs": [],
   "source": [
    "# Import the modules for analysis\n",
    "import wooldridge as woo\n",
    "import matplotlib.pyplot as plt"
   ]
  },
  {
   "cell_type": "code",
   "execution_count": 5,
   "id": "greek-barcelona",
   "metadata": {},
   "outputs": [],
   "source": [
    "# Load the data set ceosal1 from wooldridge\n",
    "ceosal1 = woo.dataWoo('ceosal1')"
   ]
  },
  {
   "cell_type": "code",
   "execution_count": 6,
   "id": "powered-medicare",
   "metadata": {},
   "outputs": [],
   "source": [
    "# Extract ROW\n",
    "roe = ceosal1['roe']"
   ]
  },
  {
   "cell_type": "code",
   "execution_count": 7,
   "id": "second-sunday",
   "metadata": {},
   "outputs": [
    {
     "data": {
      "image/png": "[encoded data removed]",
      "text/plain": [
       "<Figure size 432x288 with 1 Axes>"
      ]
     },
     "metadata": {
      "needs_background": "light"
     },
     "output_type": "display_data"
    }
   ],
   "source": [
    "# Plot histogram with counts (a):\n",
    "plt.hist(roe, color = 'grey')\n",
    "plt.ylabel('Counts')\n",
    "plt.xlabel('Return on Equity')\n",
    "plt.savefig('images/histogram1.png')\n",
    "plt.show()\n",
    "plt.close()"
   ]
  },
  {
   "cell_type": "code",
   "execution_count": 32,
   "id": "egyptian-hacker",
   "metadata": {},
   "outputs": [
    {
     "data": {
      "image/png": "[encoded data removed]",
      "text/plain": [
       "<Figure size 432x288 with 1 Axes>"
      ]
     },
     "metadata": {
      "needs_background": "light"
     },
     "output_type": "display_data"
    }
   ],
   "source": [
    "# Plot historgram with density and explicit breaks (b):\n",
    "breaks = [0, 5, 10, 20, 30, 60]\n",
    "plt.hist(roe, color = 'grey', bins = breaks, density = True)\n",
    "plt.ylabel('Density')\n",
    "plt.xlabel('Return of Equity')\n",
    "plt.savefig('images/histogram2.png')\n",
    "plt.show()\n",
    "plt.close()"
   ]
  },
  {
   "cell_type": "markdown",
   "id": "scenic-average",
   "metadata": {},
   "source": [
    "In the first example, we generate the histogram for the return on equity with frequency counts and **breaks** defined by *Python*. In the second example, the **breaks** are manually chosen and not equally spaced. Setting **density = True** gives the densities on the vertical axis. The sample share of observations within a bin is therefore reflected by the area of the respective rectangle, not the height.\n",
    "\n",
    "#### Kernal Density:\n",
    "\n",
    "A **kernal density** plot can be thought of as a more sophisticated version of a histogram. The intuitive way to think about it is that we could create a histogram bin of a certain width, centered at an arbitrary point of *x*. We will do this for many points and plot these *x* values against the resulting densities. Here, we will not use this plot as an estimator or a population distribution but rather as a pretty alternative to a histogram for the descriptive characterization of the sample distribution. \n",
    "\n",
    "In *Python*, generating a **kernal density** plot is straightforward with the module statmodels: **nonparametric.KDEUnivariate(x).fit()** will automatrically choose appropriate parameters of the algorithm given the data and often produce a useful result. These parameters can be set manually."
   ]
  },
  {
   "cell_type": "code",
   "execution_count": 36,
   "id": "starting-macro",
   "metadata": {},
   "outputs": [],
   "source": [
    "# Import the modules for analysis\n",
    "import wooldridge as woo\n",
    "import statsmodels.api as sm\n",
    "import matplotlib.pyplot as plt"
   ]
  },
  {
   "cell_type": "code",
   "execution_count": 37,
   "id": "fixed-breach",
   "metadata": {},
   "outputs": [
    {
     "data": {
      "text/plain": [
       "<statsmodels.nonparametric.kde.KDEUnivariate at 0x1e3f98e4b38>"
      ]
     },
     "execution_count": 37,
     "metadata": {},
     "output_type": "execute_result"
    }
   ],
   "source": [
    "# Estimate Kernal Density:\n",
    "kde = sm.nonparametric.KDEUnivariate(roe)\n",
    "kde.fit()"
   ]
  },
  {
   "cell_type": "code",
   "execution_count": 39,
   "id": "serial-extension",
   "metadata": {},
   "outputs": [
    {
     "data": {
      "image/png": "[encoded data removed]",
      "text/plain": [
       "<Figure size 432x288 with 1 Axes>"
      ]
     },
     "metadata": {
      "needs_background": "light"
     },
     "output_type": "display_data"
    }
   ],
   "source": [
    "# Plot the kernal density:\n",
    "plt.plot(kde.support, kde.density, color = 'black', linewidth = 2)\n",
    "plt.ylabel('Density')\n",
    "plt.xlabel('Return on Equity')\n",
    "plt.savefig('images/kdensity1.png')\n",
    "plt.show()\n",
    "plt.close()"
   ]
  },
  {
   "cell_type": "code",
   "execution_count": 40,
   "id": "plain-administrator",
   "metadata": {},
   "outputs": [
    {
     "data": {
      "image/png": "[encoded data removed]",
      "text/plain": [
       "<Figure size 432x288 with 1 Axes>"
      ]
     },
     "metadata": {
      "needs_background": "light"
     },
     "output_type": "display_data"
    }
   ],
   "source": [
    "# Plot the kernal density with overlayed histogram:\n",
    "plt.hist(roe, color = 'grey', density = True)\n",
    "plt.plot(kde.support, kde.density, color = 'black', linewidth = 2)\n",
    "plt.ylabel('Density')\n",
    "plt.xlabel('Return on Equity')\n",
    "plt.savefig('images/kdensity2.png')\n",
    "plt.show()\n",
    "plt.close()"
   ]
  },
  {
   "cell_type": "markdown",
   "id": "confused-graphic",
   "metadata": {},
   "source": [
    "#### Empirical Cumulative Distribution Functions (ECDF)\n",
    "\n",
    "The **Empirical Cumulative Distribution Function** (ECDF) is a graph of all values *x* of a variable against the share of observations with a value less than or equal to *x*. A straightfoward way to plot the ECDF for our ROE variable is demonstrated in the following example:"
   ]
  },
  {
   "cell_type": "code",
   "execution_count": 42,
   "id": "bright-client",
   "metadata": {},
   "outputs": [],
   "source": [
    "# Import the modules for analysis\n",
    "import wooldridge as woo\n",
    "import numpy as np\n",
    "import matplotlib.pyplot as plt"
   ]
  },
  {
   "cell_type": "code",
   "execution_count": 43,
   "id": "facial-behavior",
   "metadata": {},
   "outputs": [],
   "source": [
    "# Calculate ECDF:\n",
    "x = np.sort(roe)\n",
    "n = x.size\n",
    "y = np.arange(1, n + 1) / n # generate cumulative shares of observations"
   ]
  },
  {
   "cell_type": "code",
   "execution_count": 44,
   "id": "early-reunion",
   "metadata": {},
   "outputs": [
    {
     "data": {
      "image/png": "[encoded data removed]",
      "text/plain": [
       "<Figure size 432x288 with 1 Axes>"
      ]
     },
     "metadata": {
      "needs_background": "light"
     },
     "output_type": "display_data"
    }
   ],
   "source": [
    "# Plot a Step Function:\n",
    "plt.step(x, y, linestyle = '-', color = 'black')\n",
    "plt.xlabel('Return on Equity')\n",
    "plt.savefig('images/ecdf.png')\n",
    "plt.show()\n",
    "plt.close()"
   ]
  },
  {
   "cell_type": "markdown",
   "id": "difficult-abortion",
   "metadata": {},
   "source": [
    "#### Fundamental Statistics\n",
    "\n",
    "The functions for calculating the most important descriptive statistics with **numpy** are listed in Tabel 2.1.\n",
    "\n",
    "**Table 2.1**: numpy Function for Descriptive Statistics\n",
    "\n",
    "|  numpy Functions  |  Description  |\n",
    "|  :---  |  :---  |\n",
    "|  mean(x)  |  Sample average $\\bar{x} = \\frac{1}{n} \\sum_{i = 1}^{n} x_i$  |\n",
    "|  median(x)  |  Sample Median  |\n",
    "|  var(x, ddof = 1)  |  Sample Variance $s_x^2 = \\frac{1}{(n - 1)} \\sum_{i = 1}^{n} (x_i - \\bar{x})^2$  |\n",
    "|  std(x, ddof = 1  |  Sample standard deviation $s_x = \\sqrt{s_x^2}$  |\n",
    "|  cov(x, y)  |  Sample covariance $c_{xy} = \\frac{1}{(n - 1)} (x_i - \\bar{x})(y_i - \\bar{y})$  |\n",
    "|  corrcoef(x, y)  |  Sample correlation  $r_{xy} = \\frac{s_xy}{s_x \\cdot s_y}$  |\n",
    "|  quantile(x, q)  |  *q* quantile = 100 * *q* percentile, e.g. **quantile(x, 0.5)** = sample median  |\n",
    "\n",
    "Below examples demonstrate this using the *CEOSAL1* data set we already introduced in the previous section."
   ]
  },
  {
   "cell_type": "code",
   "execution_count": null,
   "id": "surrounded-scanner",
   "metadata": {},
   "outputs": [],
   "source": [
    "# Import the modules for analysis\n",
    "import wooldridge as woo\n",
    "import numpy as np"
   ]
  },
  {
   "cell_type": "code",
   "execution_count": 46,
   "id": "adapted-partition",
   "metadata": {},
   "outputs": [],
   "source": [
    "# Extract roe and salary:\n",
    "roe = ceosal1['roe']\n",
    "salary = ceosal1['salary']"
   ]
  },
  {
   "cell_type": "code",
   "execution_count": 48,
   "id": "greater-support",
   "metadata": {},
   "outputs": [
    {
     "name": "stdout",
     "output_type": "stream",
     "text": [
      "Mean of ROE: \n",
      "17.18421050521175\n",
      "\n"
     ]
    }
   ],
   "source": [
    "# Sample average:\n",
    "roe_mean = np.mean(roe)\n",
    "print(f'Mean of ROE: \\n{roe_mean}\\n')"
   ]
  },
  {
   "cell_type": "code",
   "execution_count": 49,
   "id": "universal-breakfast",
   "metadata": {},
   "outputs": [
    {
     "name": "stdout",
     "output_type": "stream",
     "text": [
      "Median of ROE: \n",
      "15.5\n",
      "\n"
     ]
    }
   ],
   "source": [
    "# Sample median:\n",
    "roe_median = np.median(roe)\n",
    "print(f'Median of ROE: \\n{roe_median}\\n')"
   ]
  },
  {
   "cell_type": "code",
   "execution_count": 50,
   "id": "about-accountability",
   "metadata": {},
   "outputs": [
    {
     "name": "stdout",
     "output_type": "stream",
     "text": [
      "Standard Deviation of ROE: \n",
      "8.518508659074904\n",
      "\n"
     ]
    }
   ],
   "source": [
    "# Sample standard deviation:\n",
    "roe_sd = np.std(roe, ddof = 1)\n",
    "print(f'Standard Deviation of ROE: \\n{roe_sd}\\n')"
   ]
  },
  {
   "cell_type": "code",
   "execution_count": 51,
   "id": "authentic-texture",
   "metadata": {},
   "outputs": [
    {
     "name": "stdout",
     "output_type": "stream",
     "text": [
      "Correlation between ROE and Salary: \n",
      "[[1.         0.11484173]\n",
      " [0.11484173 1.        ]]\n",
      "\n"
     ]
    }
   ],
   "source": [
    "# Correlation between roe and salary\n",
    "roe_corr = np.corrcoef(roe, salary)\n",
    "print(f'Correlation between ROE and Salary: \\n{roe_corr}\\n')"
   ]
  },
  {
   "cell_type": "markdown",
   "id": "opponent-cinema",
   "metadata": {},
   "source": [
    "A **box plot** displays the median (the middle line), the upper and lower quantile (the box), and the extreme points graphically. In the box plot, 50% of the observations are within the interval covered by the box, 25% are above and 25% are below. The extreme points are marked by the \"whiskers\" and outliners are printed as separate dots. In **matplotlib**, box plots are generated using the boxplot command. We have to supply one or more data arrays and can alter the design flexibly with numerious options as demonstrated in the two examples below."
   ]
  },
  {
   "cell_type": "code",
   "execution_count": 2,
   "id": "requested-mentor",
   "metadata": {},
   "outputs": [],
   "source": [
    "# Import the modules for analysis\n",
    "import wooldridge as woo\n",
    "import matplotlib.pyplot as plt"
   ]
  },
  {
   "cell_type": "code",
   "execution_count": 8,
   "id": "affecting-reminder",
   "metadata": {},
   "outputs": [],
   "source": [
    "# Extract roe and firm's type:\n",
    "roe = ceosal1['roe']\n",
    "consprod = ceosal1['consprod']"
   ]
  },
  {
   "cell_type": "code",
   "execution_count": 9,
   "id": "asian-action",
   "metadata": {},
   "outputs": [
    {
     "data": {
      "image/png": "[encoded data removed]",
      "text/plain": [
       "<Figure size 432x288 with 1 Axes>"
      ]
     },
     "metadata": {
      "needs_background": "light"
     },
     "output_type": "display_data"
    }
   ],
   "source": [
    "# Plotting boxplot for descriptive statistics:\n",
    "plt.boxplot(roe, vert = False)\n",
    "plt.xlabel('Return on Equity')\n",
    "plt.savefig('images/boxplot1.png')\n",
    "plt.show()\n",
    "plt.close()"
   ]
  },
  {
   "cell_type": "code",
   "execution_count": 12,
   "id": "renewable-workstation",
   "metadata": {},
   "outputs": [
    {
     "data": {
      "image/png": "[encoded data removed]",
      "text/plain": [
       "<Figure size 432x288 with 1 Axes>"
      ]
     },
     "metadata": {
      "needs_background": "light"
     },
     "output_type": "display_data"
    }
   ],
   "source": [
    "# Plotting boxplot against two groups:\n",
    "roe_cp0 = roe[consprod == 0]\n",
    "roe_cp1 = roe[consprod == 1]\n",
    "\n",
    "plt.boxplot([roe_cp0, roe_cp1])\n",
    "plt.ylabel('Return on Equity')\n",
    "plt.xticks([1, 2], ['Not Consumer Product', 'Consumer Product'])\n",
    "plt.savefig('images/boxplot2.png')\n",
    "plt.show()\n",
    "plt.close()"
   ]
  },
  {
   "cell_type": "markdown",
   "id": "brilliant-huntington",
   "metadata": {},
   "source": [
    "The first example shows how to get a horizontally aligned plot and the second example demonstrates how to produce multiple boxplots for two sub groups. The variable *consprod* from the data set *ceosal1* is equal to 1 if the firm is in the consumer product business and 0 otherwise. Apparenly, the ROE is much higher in the consumer product industry."
   ]
  },
  {
   "cell_type": "markdown",
   "id": "continent-creature",
   "metadata": {},
   "source": [
    "### 2. Probability Distributions\n",
    "\n",
    "Wooldridge (2019) introduces the concepts of random variables and their probability distribution. The module **scipy** has many functions for conveniently working with a large number of statistical distributions. The commands for evaluating the probability density function (PDF) for continuous, the probability mass fucntion (PMF) for discrete, and the cumulative distribution function (CDF) as well as the quantile function (inverese CDF) for the most relevant distributions are show in Table 2.2. The functions are available after executing,\n",
    "\n",
    "``` Python\n",
    "import scipy.stats as stats\n",
    "```\n",
    "\n",
    "**Table 2.2**: **scipy** Functions for Statistical Distributions\n",
    "\n",
    "|  Distribution  |  Parameters  |  PMF / PDF  |  CDF  |  Quantile  |\n",
    "|  :---  |  :---:  |  :---  |  :---  |  :---  |\n",
    "|  **Descrete Distributions:** |  |  |  |  |\n",
    "|  Bernoulli  |  *p*  |  *bernoulli.pmf(x, p)*  |  *bernoulli.cdf(x, p)*  |  *bernoulli.ppf(q, p)*  |\n",
    "|  Binomial  |  *n, p*  |  *binom.pmf(x, n, p)*  |  *binom.cdf(x, n, p)*  |  *binom.ppf(q, n, p)*  |\n",
    "|  Hypergeom  |  *M, n, N*  |  *hypergeom.pmf(x, M, n, N)*  |  *hypergeom.cdf(x, M, n, N)*  |  *hypergeom.ppf(q, M, n, N)*  |\n",
    "|  Poisson  |  *$\\lambda$*  |  *poisson.pmf(x, $\\lambda$)*  |  *poisson.cdf(x, $\\lambda$)*  |  *poisson.ppf(q, $\\lambda$)*  |\n",
    "|  Geometric  |  *p*  |  *geom.pmf(x, p)*  |  *geom.cdf(x, p)*  |  *geom.ppf(q, p)*  |\n",
    "|  **Continuous Distributions:**  |  |  |  |  |\n",
    "|  Uniform  |  *a, b*  |  *uniform.pdf(x, a, a + b)*  |  *uniform.cdf(x, a, a + b)*  |  *uniform.ppf(q, a, a + b)*  |\n",
    "|  Logistic  |  *---*  |  *logistic.pdf(x)*  |  *logistic.cdf(x)*  |  *logistic.ppf(q)*  |\n",
    "|  Exponential  |  *$\\lambda$*  |  *expon.pdf(x, scale = 1 / $\\lambda$)*  |  *expon.cdf(x, scale = 1 / $\\lambda$)*  |  *expon.ppf(q, scale = 1 / $\\lambda$)*  |\n",
    "|  Std. Normal  |  *---*  |  *norm.pdf(x)*  |  *norm.cdf(x)*  |  *norm.ppf(q)*  |\n",
    "|  Normal  |  *$\\mu$, $\\sigma$*  |  *norm.pdf(x, $\\mu$, $\\sigma$)*  |  *lognormal.cdf(x, $\\mu$, $\\sigma$)*  |  *logistic.ppf(q, $\\mu$, $\\sigma$)*  |\n",
    "|  Lognormal  |  *m, s*  |  *lognorm.pdf(s, q, 0, m)*  |  *lognorm.cdf(x, s, 0, m)*  |  *lognorm.ppf(q, s, 0, m)*  |\n",
    "|  $\\chi^2$  |  *n*  |  *chi2.pdf(x, n)*  |  *chi2.cdf(x, n)*  |  *chi2.ppf(q, n)*  |\n",
    "|  *t*  |  *n*  |  *t.pdf(x, n)*  |  *t.cdf(x, n)*  |  *t.ppf(q, n)*  |\n",
    "|  *F*  |  *m, n*  |  *f.pdf(x, m, n)*  |  *f.cdf(x, m, n)*  |  *f.ppf(q, m, n)*  |\n",
    "\n",
    "The module documentation defines the relation of a distribution's set of parameters and the function arguments in **scipy**. We are going to briefly discuss each function type.\n",
    "\n",
    "#### Discrete Distributions:\n",
    "\n",
    "Discrete random variables can only take a finite (or \"countably infinite\") set of values. The PMF $f(x) = P(X = x)$ gives the probability that a random variable X with this distribution takes the given value *x*. For the most important of those distributions (Bernoulli, Binomial, Hypergeometric, Poisson, and Geometric), Table 2.2 lists the **scipy** functions that return the PMF for any value *x* given the parameters of the respective distribution. See the [module documentation](https://docs.scipy.org/doc/scipy/reference/tutorial/stats/discrete.html), if you are interested in the formal definitions of the PMFs.\n",
    "\n",
    "For a specific example, let *X* denote the number of white balls we get when drawing with replacement 10 balls from an urn that inclues 20% white balls. Then *X* has the Binomial distribution with the parameters $n = 10$ and $p = 20\\% = 0.2$. We know that the probability to get exactly $x \\in $ {0, 1, ..., 10} white balls for this distribution is,\n",
    "\n",
    "$$f(x) = P(X = x) = \\binom{n}{x} p^x (1 - p)^{n-x} = \\binom{10}{x} 0.2^x 0.8^{10 - x}$$\n",
    "\n",
    "For example, the probability to get exactly $x = 2$ white balls is $f(2) = \\binom{10}{2} 0.2^2 0.8^8 = 0.302$. Of course, we can let *Python* do these calculations using basic *Python* commands we know from previous section. More conveniently, we can also use the function **binom.pmf()** for the Binomial distribution:"
   ]
  },
  {
   "cell_type": "code",
   "execution_count": 13,
   "id": "fifth-animation",
   "metadata": {},
   "outputs": [],
   "source": [
    "# Import modules\n",
    "import scipy.stats as stats\n",
    "import math"
   ]
  },
  {
   "cell_type": "code",
   "execution_count": 14,
   "id": "neither-hawaiian",
   "metadata": {},
   "outputs": [
    {
     "name": "stdout",
     "output_type": "stream",
     "text": [
      "Probability Pedestrian Approach: 0.3019898880000002\n",
      "\n"
     ]
    }
   ],
   "source": [
    "# Pedestrian Approach:\n",
    "c = math.factorial(10) / (math.factorial(2) * math.factorial(10 - 2))\n",
    "p1 = c * (0.2 ** 2) * (0.8 ** 8)\n",
    "print(f'Probability Pedestrian Approach: {p1}\\n')"
   ]
  },
  {
   "cell_type": "code",
   "execution_count": 15,
   "id": "rocky-seating",
   "metadata": {},
   "outputs": [
    {
     "name": "stdout",
     "output_type": "stream",
     "text": [
      "Proability Using scipy Function: 0.301989888\n",
      "\n"
     ]
    }
   ],
   "source": [
    "# scipy function:\n",
    "p2 = stats.binom.pmf(2, 10, 0.2)\n",
    "print(f'Proability Using scipy Function: {p2}\\n')"
   ]
  },
  {
   "cell_type": "markdown",
   "id": "hearing-ranking",
   "metadata": {},
   "source": [
    "We can also give arrays as one or more arguments to **stats.binom.pmf(x, n, p)** and receive the results as an array. We evaluate the PMF for our example at all possible values for *x* (0 through 10). It displays a table of the probabilities and cretes a bar chart of these probabilities. As always: feel encouraged to experiment!"
   ]
  },
  {
   "cell_type": "code",
   "execution_count": 16,
   "id": "seven-parks",
   "metadata": {},
   "outputs": [],
   "source": [
    "# Import modules\n",
    "import scipy.stats as stats\n",
    "import numpy as np\n",
    "import pandas as pd\n",
    "import matplotlib.pyplot as plt"
   ]
  },
  {
   "cell_type": "code",
   "execution_count": 17,
   "id": "applied-spirit",
   "metadata": {},
   "outputs": [],
   "source": [
    "# Values for x (all between 0 and 10):\n",
    "x = np.linspace(0, 10, num = 11)"
   ]
  },
  {
   "cell_type": "code",
   "execution_count": 18,
   "id": "divine-friendship",
   "metadata": {},
   "outputs": [],
   "source": [
    "# PMF for all these values:\n",
    "fx = stats.binom.pmf(x, 10, 0.2)"
   ]
  },
  {
   "cell_type": "code",
   "execution_count": 19,
   "id": "extreme-breeding",
   "metadata": {},
   "outputs": [
    {
     "name": "stdout",
     "output_type": "stream",
     "text": [
      "Data Frame: \n",
      "       x            fx\n",
      "0    0.0  1.073742e-01\n",
      "1    1.0  2.684355e-01\n",
      "2    2.0  3.019899e-01\n",
      "3    3.0  2.013266e-01\n",
      "4    4.0  8.808038e-02\n",
      "5    5.0  2.642412e-02\n",
      "6    6.0  5.505024e-03\n",
      "7    7.0  7.864320e-04\n",
      "8    8.0  7.372800e-05\n",
      "9    9.0  4.096000e-06\n",
      "10  10.0  1.024000e-07\n",
      "\n"
     ]
    }
   ],
   "source": [
    "# Collect values in DataFrame:\n",
    "df = pd.DataFrame({'x': x, 'f(x)': fx})\n",
    "print(f'Data Frame: \\n{df}\\n')"
   ]
  },
  {
   "cell_type": "code",
   "execution_count": 20,
   "id": "reported-chocolate",
   "metadata": {},
   "outputs": [
    {
     "data": {
      "image/png": "[encoded data removed]",
      "text/plain": [
       "<Figure size 432x288 with 1 Axes>"
      ]
     },
     "metadata": {
      "needs_background": "light"
     },
     "output_type": "display_data"
    }
   ],
   "source": [
    "# Plot the distribution in a bar chart\n",
    "plt.bar(x, fx, color = '0.6')\n",
    "plt.xlabel('x')\n",
    "plt.ylabel('f(x)')\n",
    "plt.savefig('images/pmf-example.png')\n",
    "plt.show()\n",
    "plt.close()"
   ]
  },
  {
   "cell_type": "markdown",
   "id": "protected-automation",
   "metadata": {},
   "source": [
    "#### Continuous Distributions:\n",
    "\n",
    "For continuous distribution like the uniform, logistic, exponential, normal, *t*, $\\chi^2$, or *F* distribution, the probability density function $f(x)$ are also implemented for direct use in **scipy**. These can for example be used to plot the density functions using the plot commmand. In the following example, we show the famous bell-shaped PDF of the standard normal distribution."
   ]
  },
  {
   "cell_type": "code",
   "execution_count": 21,
   "id": "sorted-mother",
   "metadata": {},
   "outputs": [],
   "source": [
    "# Import modules\n",
    "import scipy.stats as stats\n",
    "import numpy as np\n",
    "import matplotlib.pyplot as plt"
   ]
  },
  {
   "cell_type": "code",
   "execution_count": 22,
   "id": "animal-description",
   "metadata": {},
   "outputs": [],
   "source": [
    "# Values for x (all between -4 and 4):\n",
    "x_range = np.linspace(-4, 4, num =100)"
   ]
  },
  {
   "cell_type": "code",
   "execution_count": 23,
   "id": "differential-tribune",
   "metadata": {},
   "outputs": [],
   "source": [
    "# PDF for all these values:\n",
    "pdf = stats.norm.pdf(x_range)"
   ]
  },
  {
   "cell_type": "code",
   "execution_count": 26,
   "id": "helpful-development",
   "metadata": {},
   "outputs": [
    {
     "data": {
      "image/png": "[encoded data removed]",
      "text/plain": [
       "<Figure size 432x288 with 1 Axes>"
      ]
     },
     "metadata": {
      "needs_background": "light"
     },
     "output_type": "display_data"
    }
   ],
   "source": [
    "# Plot the PDF function:\n",
    "plt.plot(x_range, pdf, linestyle = '-', color = 'grey')\n",
    "plt.xlabel('x')\n",
    "plt.ylabel('Density')\n",
    "plt.savefig('images/pdf-example.png')\n",
    "plt.show()\n",
    "plt.close()"
   ]
  },
  {
   "cell_type": "markdown",
   "id": "humanitarian-worth",
   "metadata": {},
   "source": [
    "#### Cumulative Distribution Function (CDF):\n",
    "\n",
    "For all distribution, the CDF $F(x) = P(X \\le x)$ represents the probability that random variable *X* takes a value of at most *x*. The probability that *X* is between two values a and b is $P(a < X \\le b) = F(b) - F(a)$. We can directly use the **scipy** functions in the second column of Table 2.2 to do these calculation as demonstrated in below example. In our example, the probability that we get 3 or fewer white balls is $F(3)$ using the appropriate CDF of hte Binomial distribution. It amounts to 87.9%. The probability that a standard normal random variable takes a value between -1.96 and 1.96 is 95%."
   ]
  },
  {
   "cell_type": "code",
   "execution_count": null,
   "id": "certain-vertex",
   "metadata": {},
   "outputs": [],
   "source": [
    "# Import module\n",
    "import scipy.stats as stats"
   ]
  },
  {
   "cell_type": "code",
   "execution_count": null,
   "id": "interesting-alignment",
   "metadata": {},
   "outputs": [],
   "source": [
    "# Binomial CDF:\n",
    "p1 = stats.binom.cdf(3, 10, 0.2)\n",
    "print(f'Binomial CDF: {p1}\\n')"
   ]
  },
  {
   "cell_type": "code",
   "execution_count": null,
   "id": "seven-sending",
   "metadata": {},
   "outputs": [],
   "source": [
    "# Normal CDF:\n",
    "p2 = stats.norm.cdf(1.96) - stats.norm.cdf(-1.96)\n",
    "print(f'Normal CDF: {p2}\\n')"
   ]
  },
  {
   "cell_type": "markdown",
   "id": "random-soviet",
   "metadata": {},
   "source": [
    "#### Probability for a Normal Random Variable\n",
    "\n",
    "We assume $X ~ Normal(4, 9)$ and want to calculate $P(2 < X \\le 6)$ as our first example. We can rewrite the problem so it is stated in terms of a standard normal distribution as shown by Wooldridge (2019): $P(2 < X \\le 6) = \\phi(\\frac{2}{3}) - \\phi(-\\frac{2}{3})$. We can also spare ourselves the transformation and work with the non-standard normal distribution directly. Be careful that the third argument in the **scipy** commands for the normal distribution is not the variance $\\sigma^2 = 9$ but the standard deviation $\\sigma = 3$. The second example calculates $P(|X| > 2) = 1 - P(X \\le 2) + P(X < -2)$.\n",
    "\n",
    "Note that we get a slightly different answer in the first example than the one given in Wooldridge (2019) since we are working with the exact $\\frac{2}{3}$ insteand of the rounded 0.67."
   ]
  },
  {
   "cell_type": "code",
   "execution_count": 27,
   "id": "diagnostic-shepherd",
   "metadata": {},
   "outputs": [],
   "source": [
    "# Import module\n",
    "import scipy.stats as stats"
   ]
  },
  {
   "cell_type": "code",
   "execution_count": 28,
   "id": "innocent-power",
   "metadata": {},
   "outputs": [
    {
     "name": "stdout",
     "output_type": "stream",
     "text": [
      "Proabability: 0.4950149249061542\n",
      "\n"
     ]
    }
   ],
   "source": [
    "# First example using the transformation:\n",
    "p1_1 = stats.norm.cdf(2 / 3) - stats.norm.cdf(-2 / 3)\n",
    "print(f'Proabability: {p1_1}\\n')"
   ]
  },
  {
   "cell_type": "code",
   "execution_count": 29,
   "id": "matched-chase",
   "metadata": {},
   "outputs": [
    {
     "name": "stdout",
     "output_type": "stream",
     "text": [
      "Probability: 0.4950149249061542\n",
      "\n"
     ]
    }
   ],
   "source": [
    "# First example working directly with the distribution of x:\n",
    "p1_2 = stats.norm.cdf(6, 4, 3) - stats.norm.cdf(2, 4, 3)\n",
    "print(f'Probability: {p1_2}\\n')"
   ]
  },
  {
   "cell_type": "code",
   "execution_count": 30,
   "id": "forced-dominant",
   "metadata": {},
   "outputs": [
    {
     "name": "stdout",
     "output_type": "stream",
     "text": [
      "Probability: 0.7702575944012563\n",
      "\n"
     ]
    }
   ],
   "source": [
    "# Second example working directly with the distribution of x\n",
    "p2 = 1 - stats.norm.cdf(2, 4, 3) + stats.norm.cdf(-2, 4, 3)\n",
    "print(f'Probability: {p2}\\n')"
   ]
  },
  {
   "cell_type": "markdown",
   "id": "separate-encounter",
   "metadata": {},
   "source": [
    "The graph of CDF is a step function for discrete distribution. The CDF of a continous distribution is illustrated by the S-shaped CDF of the normal distribution. Both figures are created by the following examples:"
   ]
  },
  {
   "cell_type": "code",
   "execution_count": 31,
   "id": "abandoned-state",
   "metadata": {},
   "outputs": [],
   "source": [
    "# Import modules\n",
    "import scipy.stats as stats\n",
    "import numpy as np\n",
    "import matplotlib.pyplot as plt"
   ]
  },
  {
   "cell_type": "code",
   "execution_count": 32,
   "id": "retained-midwest",
   "metadata": {},
   "outputs": [
    {
     "data": {
      "image/png": "[encoded data removed]",
      "text/plain": [
       "<Figure size 432x288 with 1 Axes>"
      ]
     },
     "metadata": {
      "needs_background": "light"
     },
     "output_type": "display_data"
    }
   ],
   "source": [
    "# Binomial CDF\n",
    "# Support of binomial PMF:\n",
    "x_binom = np.linspace(-1, 10, num =1000)\n",
    "\n",
    "# PMF for all these values:\n",
    "cdf_binom = stats.binom.cdf(x_binom, 10, 0.2)\n",
    "\n",
    "# Plot the CDF\n",
    "plt.step(x_binom, cdf_binom, linestyle = '-', color = 'grey')\n",
    "plt.xlabel('x')\n",
    "plt.ylabel('Cumulated Density')\n",
    "plt.savefig('images/cdf-figure-discrete.png')\n",
    "plt.show()\n",
    "plt.close()"
   ]
  },
  {
   "cell_type": "code",
   "execution_count": 35,
   "id": "inappropriate-latino",
   "metadata": {},
   "outputs": [
    {
     "data": {
      "image/png": "[encoded data removed]",
      "text/plain": [
       "<Figure size 432x288 with 1 Axes>"
      ]
     },
     "metadata": {
      "needs_background": "light"
     },
     "output_type": "display_data"
    }
   ],
   "source": [
    "# Normal CDF\n",
    "# Support of normal density:\n",
    "x_norm = np.linspace(-4, 4, num = 1000)\n",
    "\n",
    "# PDF for all these values:\n",
    "cdf_norm = stats.norm.cdf(x_norm)\n",
    "\n",
    "# Plot the CDF\n",
    "plt.plot(x_norm, cdf_norm, linestyle = '-', color = 'grey')\n",
    "plt.xlabel('x')\n",
    "plt.ylabel('Cumulative Density')\n",
    "plt.savefig('images/cdf-figure-cont.png')\n",
    "plt.show()\n",
    "plt.close()"
   ]
  },
  {
   "cell_type": "markdown",
   "id": "continuing-scanner",
   "metadata": {},
   "source": [
    "#### Quantile Function:\n",
    "\n",
    "The q-quantile $x[q]$ of a random variable is the value for which the probability to sample a value $x \\le x[q]$ is just *q*. These values are important for example for calculating critical values of test statistics.\n",
    "\n",
    "To give a simle example: Given *X* is standard normal, the 0.975-quantile is $x[0.975] \\approx 1.96$. So the probability to sample a value less or equal to 1.96 is 97.5%:"
   ]
  },
  {
   "cell_type": "code",
   "execution_count": 38,
   "id": "better-fleece",
   "metadata": {},
   "outputs": [],
   "source": [
    "# Import modules\n",
    "import scipy.stats as stats"
   ]
  },
  {
   "cell_type": "code",
   "execution_count": 39,
   "id": "medieval-transfer",
   "metadata": {},
   "outputs": [
    {
     "name": "stdout",
     "output_type": "stream",
     "text": [
      "Normal Distribution 97.5 Percentile: 1.959963984540054\n",
      "\n"
     ]
    }
   ],
   "source": [
    "# Calculate the 97.5% percentile\n",
    "q_975 = stats.norm.ppf(0.975)\n",
    "print(f'Normal Distribution 97.5 Percentile: {q_975}\\n')"
   ]
  },
  {
   "cell_type": "markdown",
   "id": "rising-contamination",
   "metadata": {},
   "source": [
    "#### Random Draws from Probability Distributions\n",
    "\n",
    "It is easy to simulate random outcomes by taking a sample from a random variable with a given distribution. Strickly speaking, a deterministic machine like a computer can never produce any truly random results and we should instead refer to the generated numbers as *pseudo-random* numbers. But for our purpose, it is enough that the generated sample look, feel, and behave like true random numbers and so we are a little sloppy in our terminology here. For a review of sampling and related concepts see Wooldridge (2019, Appendix C.1).\n",
    "\n",
    "Before we make heavy use of generating random samples, we introduce the mechanics here. Commands in **scipy** to generate a (pseudo-) random sample are constructed by combining the command of respective distribution and the function name **rvs**. We could for example simulate the result of flipping a fair coin 10 times. We draw a sample of size $n = 10$ from a Bernoulli disriubtion with parameter $p = \\frac{1}{2}$. Each of the 10 generated numbers will take the value 1 with probability $p = \\frac{1}{2}$ and 0 with probability $1 - p = \\frac{1}{2}$. The result behaves the same way as though we had actually flipped a coin and translated heads as 1 and tails as 0 (or vice versa). Here is the code and a sample generated by it:"
   ]
  },
  {
   "cell_type": "code",
   "execution_count": null,
   "id": "joint-bleeding",
   "metadata": {},
   "outputs": [],
   "source": [
    "# Import module\n",
    "import scipy.stats as stats"
   ]
  },
  {
   "cell_type": "code",
   "execution_count": 41,
   "id": "blind-spokesman",
   "metadata": {},
   "outputs": [
    {
     "name": "stdout",
     "output_type": "stream",
     "text": [
      "Sample: [1 0 1 1 0 1 0 0 1 1]\n",
      "\n"
     ]
    }
   ],
   "source": [
    "# Generate sample from a Bernoulli distribution\n",
    "sample = stats.bernoulli.rvs(0.5, size = 10)\n",
    "print(f'Sample: {sample}\\n')"
   ]
  },
  {
   "cell_type": "markdown",
   "id": "tender-niger",
   "metadata": {},
   "source": [
    "An obvious advantage of doing this in *Python* rather than with an actual coin is that we can painlessly increase the sample size to 1,000 or 10,000,000. Take draws from the standard normal distribution is equally simple:"
   ]
  },
  {
   "cell_type": "code",
   "execution_count": null,
   "id": "dried-electronics",
   "metadata": {},
   "outputs": [],
   "source": [
    "# Import module\n",
    "import scipy.stats as stats"
   ]
  },
  {
   "cell_type": "code",
   "execution_count": 42,
   "id": "after-handy",
   "metadata": {},
   "outputs": [
    {
     "name": "stdout",
     "output_type": "stream",
     "text": [
      "Sample: [ 0.07776207  0.05601866 -0.44539819 -1.40773658  0.50657354  0.41467614\n",
      " -0.30353329  0.14530082  0.83907452  0.78872514]\n",
      "\n"
     ]
    }
   ],
   "source": [
    "# Generate sample from a Bernoulli distribution\n",
    "sample = stats.norm.rvs(size = 10)\n",
    "print(f'Sample: {sample}\\n')"
   ]
  },
  {
   "cell_type": "markdown",
   "id": "coordinated-slope",
   "metadata": {},
   "source": [
    "Working with computer-generated random samples creates problems for the reproducibility of the results. If we run the code above, we will get different samples. If we rerun the code, the sample will change again. We can solve this problem by making use of how the random number are actually generated which is as alreayd noted, not involving true randomness. Actually, we will always get the same sequence of numbers if we reset the random number generator to some specific state (\"seed\"). In *Python*, this can be done with **numpy**'s function **random.seed(number)**, where **number** is some arbitrary integer that defines the state but has no other meaning. If we set the seed to some arbitrary integer, take a sample, reset the seed to the same state and take another sample, both sameples will be the same. Also, if we draw a sample with that seed it will be equal to the same someone else draw if we both start from the same seed. Here is an example to demonstrate the workings of **random.seed()**."
   ]
  },
  {
   "cell_type": "code",
   "execution_count": null,
   "id": "imported-insight",
   "metadata": {},
   "outputs": [],
   "source": [
    "# Import modules\n",
    "import scipy.stats as stats\n",
    "import numpy as np"
   ]
  },
  {
   "cell_type": "code",
   "execution_count": 43,
   "id": "chemical-sauce",
   "metadata": {},
   "outputs": [
    {
     "name": "stdout",
     "output_type": "stream",
     "text": [
      "Sample #1: [ 0.42898361  0.84359002 -0.23177731  0.79019106 -1.1887949 ]\n",
      "\n"
     ]
    }
   ],
   "source": [
    "# Sample from a standard normal RV with sample size n = 5:\n",
    "sample1 = stats.norm.rvs(size = 5)\n",
    "print(f'Sample #1: {sample1}\\n')"
   ]
  },
  {
   "cell_type": "code",
   "execution_count": 44,
   "id": "attached-privilege",
   "metadata": {},
   "outputs": [
    {
     "name": "stdout",
     "output_type": "stream",
     "text": [
      "Sample #2: [-1.7988575  -1.74754341  0.19387939  1.49187693  1.16068131]\n",
      "\n"
     ]
    }
   ],
   "source": [
    "# A different sample from the same distribution:\n",
    "sample2 = stats.norm.rvs(size = 5)\n",
    "print(f'Sample #2: {sample2}\\n')"
   ]
  },
  {
   "cell_type": "code",
   "execution_count": 45,
   "id": "current-activation",
   "metadata": {},
   "outputs": [
    {
     "name": "stdout",
     "output_type": "stream",
     "text": [
      "Sample #3: [-0.51462472 -0.44955445  1.73462147  0.64338016  0.0261394 ]\n",
      "\n",
      "Sample #4: [ 0.08038096 -0.79738899 -0.62808643 -0.34622743  0.96808488]\n",
      "\n"
     ]
    }
   ],
   "source": [
    "# Set the seed of the random number generator and take two samples:\n",
    "np.random.seed(1234567)\n",
    "\n",
    "sample3 = stats.norm.rvs(size = 5)\n",
    "print(f'Sample #3: {sample3}\\n')\n",
    "\n",
    "sample4 = stats.norm.rvs(size = 5)\n",
    "print(f'Sample #4: {sample4}\\n')"
   ]
  },
  {
   "cell_type": "code",
   "execution_count": 46,
   "id": "packed-scanning",
   "metadata": {},
   "outputs": [
    {
     "name": "stdout",
     "output_type": "stream",
     "text": [
      "Sample #5: [-0.51462472 -0.44955445  1.73462147  0.64338016  0.0261394 ]\n",
      "\n",
      "Sample #6: [ 0.08038096 -0.79738899 -0.62808643 -0.34622743  0.96808488]\n",
      "\n"
     ]
    }
   ],
   "source": [
    "# Reset the seed to the same value to get the same sample again:\n",
    "np.random.seed(1234567)\n",
    "\n",
    "sample5 = stats.norm.rvs(size = 5)\n",
    "print(f'Sample #5: {sample5}\\n')\n",
    "\n",
    "sample6 = stats.norm.rvs(size = 5)\n",
    "print(f'Sample #6: {sample6}\\n')"
   ]
  },
  {
   "cell_type": "markdown",
   "id": "subject-wichita",
   "metadata": {},
   "source": [
    "### 3. Confidence Intervals and Statistical Inference\n",
    "\n",
    "Wooldridge (2019) provides a concise overview over basic sampling, estimation, and testing. We will touch on some of these topics in this section.\n",
    "\n",
    "#### Confidence Intervals:\n",
    "\n",
    "**Confidence intervals** (CI) are introduced in Wooldridge (2019, Appendix C.5). They are constructed to cover the true population parameter of interest with a given high probability, e.g. 95%. More clearly: For 95% of all samples, the implied CI includes the population parameter.\n",
    "\n",
    "CI are easy to compute. For a normal population with unknown mean $\\mu$ is given in Wooldridge (2019, Equations C.24 and C.25):\n",
    "\n",
    "$$[\\bar{y} - c_{\\frac{\\alpha}{2}} \\cdot se(\\bar{y}), \\bar{y} + c_{\\frac{\\alpha}{2}} \\cdot se(\\bar{y})]$$\n",
    "\n",
    "where $\\bar y$ is the sample average, $se(\\bar y) = \\frac{s}{\\sqrt{n}}$ is the standard error of $\\bar y$ (with *s* being the sample standard deviation of *y*), *n* is the sample size and $c_{\\frac{\\alpha}{2}}$ the $(1 - \\frac{\\alpha}{2})$ quantile of the $t_{n-1}$ distribution. To get the 95% CI ($\\alpha = 5\\%)$, we need $c_{0.025}$ which is the 0.975 quantile or $97.5^{th}$ percentile.\n",
    "\n",
    "We already know how to calculate all these statistics. The way of calculating the CI is demonstrated using the textbook examples and simulation experiement to help us understand the meaning of confidence intervals. \n",
    "\n",
    "**Wooldridge, Example C.2: Effect of Job Training Grants on Worker Productivity**\n",
    "\n",
    "We are analyzing scrap rates for firms that receive a job training grant in 1988. The scrap rates for 1987 and 1988 are printed in Wooldridge (2019, Table C.3) and are enered manually in our example. We are interested in the change between the years. The calculation of its average as well as the confidence interval are performed precisely as shown above. The resulting CI is the same as the one presented in Wooldridge(2019) except for rounding errors we avoid by working with exact numbers."
   ]
  },
  {
   "cell_type": "code",
   "execution_count": 31,
   "id": "weird-password",
   "metadata": {},
   "outputs": [],
   "source": [
    "# Import modules\n",
    "import scipy.stats as stats\n",
    "import numpy as np"
   ]
  },
  {
   "cell_type": "code",
   "execution_count": 32,
   "id": "appropriate-lighter",
   "metadata": {},
   "outputs": [],
   "source": [
    "# Manually enter raw data from Wooldridge, Table C.3:\n",
    "SR87 = np.array([10, 1, 6, .45, 1.25, 1.3, 1.06, 3, 8.18, 1.67,\n",
    "                .98, 1, .45, 5.03, 8, 9, 18, .28, 7, 3.97])\n",
    "SR88 = np.array([3, 1, 5, .5, 1.54, 1.5, .8, 2, .67, 1.17, .51,\n",
    "                .5, .61, 6.7, 4, 7, 19, .2, 5, 3.83])"
   ]
  },
  {
   "cell_type": "code",
   "execution_count": 33,
   "id": "fiscal-dover",
   "metadata": {},
   "outputs": [],
   "source": [
    "# Calculate the difference\n",
    "change = SR88 - SR87"
   ]
  },
  {
   "cell_type": "code",
   "execution_count": 51,
   "id": "official-arrest",
   "metadata": {},
   "outputs": [
    {
     "name": "stdout",
     "output_type": "stream",
     "text": [
      "Average change between 87' - 88': -1.1544999999999999\n",
      "\n",
      "Total number of observations: 20\n",
      "\n",
      "Standard deviation of the change: 2.4006391144640498\n",
      "\n",
      "Standard Error of the sample: 0.5367992249386514\n",
      "\n",
      "0.975 Quantile: 2.093024054408263\n",
      "\n"
     ]
    }
   ],
   "source": [
    "# Calculate the statistics for CI formula:\n",
    "avgCh = np.mean(change)\n",
    "print(f\"Average change between 87' - 88': {avgCh}\\n\")\n",
    "\n",
    "n = len(change)\n",
    "print(f'Total number of observations: {n}\\n')\n",
    "\n",
    "sdCh = np.std(change, ddof = 1)\n",
    "print(f'Standard deviation of the change: {sdCh}\\n')\n",
    "\n",
    "se = sdCh / np.sqrt(n)\n",
    "print(f'Standard Error of the sample: {se}\\n')\n",
    "\n",
    "c = stats.t.ppf(0.975, n - 1)\n",
    "print(f'0.975 Quantile: {c}\\n')"
   ]
  },
  {
   "cell_type": "code",
   "execution_count": 52,
   "id": "induced-richmond",
   "metadata": {},
   "outputs": [
    {
     "name": "stdout",
     "output_type": "stream",
     "text": [
      "Lower Bound of the CI: -2.2780336901843095\n",
      "\n",
      "Upper Bound of the CI: -0.030966309815690485\n",
      "\n"
     ]
    }
   ],
   "source": [
    "# Confidence interval:\n",
    "lowerCI = avgCh - c * se\n",
    "print(f'Lower Bound of the CI: {lowerCI}\\n')\n",
    "\n",
    "upperCI = avgCh + c * se\n",
    "print(f'Upper Bound of the CI: {upperCI}\\n')"
   ]
  },
  {
   "cell_type": "markdown",
   "id": "endless-participant",
   "metadata": {},
   "source": [
    "**Wooldridge, Example C.3: Race Discrimination in Hiring**\n",
    "\n",
    "We are looking into race discrimination using the data set *AUDIT*. The variable *y* represents the difference in hiring rates between black and white applicants with the identical CV. After calculating the average, sample size, standard deviation, and the standard error of the sample average, we calculate the value for the factor *c* as the 97.5 percentile of the standard normal distribution which is (very close to) 1.96. Finally, the 95% and 99% CI are reported."
   ]
  },
  {
   "cell_type": "code",
   "execution_count": 10,
   "id": "smaller-error",
   "metadata": {},
   "outputs": [],
   "source": [
    "# Import modules\n",
    "import wooldridge as woo\n",
    "import numpy as np\n",
    "import scipy.stats as stats"
   ]
  },
  {
   "cell_type": "code",
   "execution_count": 26,
   "id": "reduced-hebrew",
   "metadata": {},
   "outputs": [],
   "source": [
    "# Import the data set \"audit\" from wooldridge modules\n",
    "audit = woo.dataWoo('audit')\n",
    "y = audit['y']"
   ]
  },
  {
   "cell_type": "code",
   "execution_count": 12,
   "id": "compliant-woman",
   "metadata": {},
   "outputs": [],
   "source": [
    "# Calculate the statistics for CI formula:\n",
    "avgy = np.mean(y)\n",
    "n = len(y)\n",
    "sdy = np.std(y, ddof = 1)\n",
    "se = sdy / np.sqrt(n)\n",
    "c95 = stats.norm.ppf(0.975)\n",
    "c99 = stats.norm.ppf(0.995)"
   ]
  },
  {
   "cell_type": "code",
   "execution_count": 17,
   "id": "opposite-methodology",
   "metadata": {},
   "outputs": [
    {
     "name": "stdout",
     "output_type": "stream",
     "text": [
      "The 95% confidencie interval: [-0.1936, -0.0719]\n",
      "\n"
     ]
    }
   ],
   "source": [
    "# 95% confidence interval:\n",
    "lowerCI95 = avgy - c95 * se\n",
    "upperCI95 = avgy + c95 * se\n",
    "print(f'The 95% confidencie interval: [{round(lowerCI95, 4)}, {round(upperCI95, 4)}]\\n')"
   ]
  },
  {
   "cell_type": "code",
   "execution_count": 19,
   "id": "dangerous-niagara",
   "metadata": {},
   "outputs": [
    {
     "name": "stdout",
     "output_type": "stream",
     "text": [
      "The 99% confidencie interval: [-0.2128, -0.0528]\n",
      "\n"
     ]
    }
   ],
   "source": [
    "# 99% confidence interval:\n",
    "lowerCI99 = avgy - c99 * se\n",
    "upperCI99 = avgy + c99 * se\n",
    "print(f'The 99% confidencie interval: [{round(lowerCI99, 4)}, {round(upperCI99, 4)}]\\n')"
   ]
  },
  {
   "cell_type": "markdown",
   "id": "painted-stanford",
   "metadata": {},
   "source": [
    "#### *t* Tests\n",
    "\n",
    "Hypothesis tests are covered in Wooldridge (2019, Appendix C.6). The *t* test statistic for testing a hypothesis about the mean $\\mu$ of a normally distributed random variable *Y* is shown in Equation C.35. Given the null hypothesis $H_0: \\mu = \\mu_0$,\n",
    "\n",
    "$$t = \\frac{\\bar y - \\mu_0}{se(\\bar y)}$$\n",
    "\n",
    "We alreayd know how to calculate the statistics and show to use them to perform a *t* test in the following example. We also compare the result to the output of the **scipy** function **ttest_1samp()** (read as t-test-one-sample), which performs an automated *t* test.\n",
    "\n",
    "The critical value for this test statistic depends on whether the test is one-sided or two-sided. The value needed for a two-sided test $c_{\\frac{\\alpha}{2}}$ was alreayd calculated for the CI, the other values can be generated accordingly. The values for different degrees of freedeom $n - 1$ and significant level $\\alpha$ are listed in Wooldridge (2019, Table G.2). Here is the example demonstrates how we can calculate our own table of critical values for the example of 19 degrees of freedom."
   ]
  },
  {
   "cell_type": "code",
   "execution_count": 20,
   "id": "skilled-regulation",
   "metadata": {},
   "outputs": [],
   "source": [
    "# Import modules\n",
    "import pandas as pd\n",
    "import numpy as np\n",
    "import scipy.stats as stats"
   ]
  },
  {
   "cell_type": "code",
   "execution_count": 21,
   "id": "distributed-quilt",
   "metadata": {},
   "outputs": [],
   "source": [
    "# Degrees of freedom = n - 1\n",
    "df = 19"
   ]
  },
  {
   "cell_type": "code",
   "execution_count": 22,
   "id": "acute-horse",
   "metadata": {},
   "outputs": [],
   "source": [
    "# Significance levels:\n",
    "alpha_one_tailed = np.array([0.1, 0.05, 0.025, 0.01, 0.005, 0.001])\n",
    "alpha_two_tailed = alpha_one_tailed *2"
   ]
  },
  {
   "cell_type": "code",
   "execution_count": 24,
   "id": "eight-deficit",
   "metadata": {},
   "outputs": [
    {
     "name": "stdout",
     "output_type": "stream",
     "text": [
      "Critical Values Table: \n",
      "   Alpha_One_Tailed  Alpha_Two_Tailed  Critical Values\n",
      "0             0.100             0.200         1.327728\n",
      "1             0.050             0.100         1.729133\n",
      "2             0.025             0.050         2.093024\n",
      "3             0.010             0.020         2.539483\n",
      "4             0.005             0.010         2.860935\n",
      "5             0.001             0.002         3.579400\n",
      "\n"
     ]
    }
   ],
   "source": [
    "# Calculate the Critical Values and Create Table:\n",
    "cv = stats.t.ppf(1 - alpha_one_tailed, df)\n",
    "table = pd.DataFrame({'Alpha_One_Tailed': alpha_one_tailed,\n",
    "                     'Alpha_Two_Tailed': alpha_two_tailed,\n",
    "                     'Critical Values': cv})\n",
    "print(f'Critical Values Table: \\n{table}\\n')"
   ]
  },
  {
   "cell_type": "markdown",
   "id": "southern-soviet",
   "metadata": {},
   "source": [
    "We continue Example C.3 and perform a one-sided *t* test of the null hypothesis $H_0: \\mu = 0$ against $H_1: \\mu < 0$ for the same sample. As the output shows, the *t* test statistic is equal to -4.27. This is much smaller than the negative of the critical value for any sensible significance level. Therefore, we reject the null hypothesis for this one-sided test."
   ]
  },
  {
   "cell_type": "code",
   "execution_count": 28,
   "id": "related-medicine",
   "metadata": {},
   "outputs": [
    {
     "name": "stdout",
     "output_type": "stream",
     "text": [
      "t statistic: -4.276816348963646\n",
      "\n",
      "p value: 2.738541562225998e-05\n",
      "\n"
     ]
    }
   ],
   "source": [
    "# Automated calculation of t statistic for Null (mu = 0):\n",
    "test_auto = stats.ttest_1samp(y, popmean = 0)\n",
    "t_auto = test_auto.statistic # access test statistic\n",
    "p_auto = test_auto.pvalue # access two-sided p value\n",
    "\n",
    "print(f't statistic: {t_auto}\\n')\n",
    "print(f'p value: {p_auto}\\n')"
   ]
  },
  {
   "cell_type": "code",
   "execution_count": 29,
   "id": "verbal-perspective",
   "metadata": {},
   "outputs": [
    {
     "name": "stdout",
     "output_type": "stream",
     "text": [
      "t statistic: -4.27681634896364\n",
      "\n"
     ]
    }
   ],
   "source": [
    "# Manual calculation of t statistic for Null (mu = 0)\n",
    "avgy = np.mean(y)\n",
    "n = len(y)\n",
    "sdy = np.std(y, ddof = 1)\n",
    "se = sdy / np.sqrt(n)\n",
    "t_manual = avgy / se\n",
    "print(f't statistic: {t_manual}\\n')"
   ]
  },
  {
   "cell_type": "code",
   "execution_count": 30,
   "id": "circular-eight",
   "metadata": {},
   "outputs": [
    {
     "name": "stdout",
     "output_type": "stream",
     "text": [
      "Critical Values Table:    Alpha_One_Tailed  Critical Values\n",
      "0             0.100         1.285089\n",
      "1             0.050         1.651227\n",
      "2             0.025         1.969898\n",
      "3             0.010         2.341985\n",
      "4             0.005         2.596469\n",
      "5             0.001         3.124536\n",
      "\n"
     ]
    }
   ],
   "source": [
    "# Critical values for t distribution with n - 1 = 240 d.f.:\n",
    "alpha_one_tailed = np.array([0.1, 0.05, 0.025, 0.01, 0.005, 0.001])\n",
    "cv = stats.t.ppf(1 - alpha_one_tailed, 240)\n",
    "table = pd.DataFrame({'Alpha_One_Tailed': alpha_one_tailed,\n",
    "                     'Critical Values': cv})\n",
    "print(f'Critical Values Table: {table}\\n')"
   ]
  },
  {
   "cell_type": "markdown",
   "id": "studied-setting",
   "metadata": {},
   "source": [
    "#### *p* Values\n",
    "\n",
    "The *p* value for a test is the probability that (under the assumptions needed to derive the distribution of the test statistic) a different random sample would produce the same or an even more extreme value of the test statistic. The advantage of using *p* values for statistical testing is that they are convenient to use. Instead of having to compare the test statistic with critical values which are implied by the significance level $\\alpha$, we directly compare *p* and $\\alpha$. For two-sided *t* test, the formula for the *p* vlaue is given in Wooldridge (2019, Equation C.42):\n",
    "\n",
    "$$p = 2 \\cdot P(T_{n-1} > |t|) = 2 \\cdot (1 - F_{t_{n-1}} \\cdot |t|)$$ \n",
    "\n",
    "where $F_{t_{n-1}}$ $(\\cdot)$ is the CDF of the $t_{n-1}$ distribution which we know how to calculate using the **scipy** function. Similarly, a one-sided test rejects the null hypothesis only if the value of the estimate is \"too high\" or \"too low\" relative to the null hypothesis. The *p* values for these types of tests are:\n",
    "\n",
    "$$p = \\begin{cases} \n",
    "    P(T_{n-1} < t) = F_{t_{n-1}} \\cdot t & for H_1: \\mu < \\mu_0\\\\ \n",
    "    P(T_{n-1} > t) = 1 - F_{t_{n-1}} \\cdot t & for H_1: \\mu > \\mu_0\n",
    "    \\end{cases}$$\n",
    "\n",
    "Since we are working on a computer program that knows the CDF of the *t* distribution, calculating *p* values is straightforward as demonstrated in the previous example. Note that the **scipy** function **ttest_1sampl()** also calculates the *p* value, bet be aware that this function is always based on two-sided *t* tests."
   ]
  },
  {
   "cell_type": "markdown",
   "id": "stuffed-operations",
   "metadata": {},
   "source": [
    "#### Wooldridge, Example C.6: Effect of Job Training Grants on Worker Productivity\n",
    "\n",
    "In Wooldridge, Example C.6, we continue from Example C.2 and test the null hypothesis $H_0: \\mu = 0$ against the alternative hypothesis $H_1: \\mu < 0$. The formula for the *p* value for this one-sided test is given in Wooldridge (2019, Equation C.41). Its value (using exact value of *t*) is around 0.022. If we want to use the **scipy** function **ttest_1samp()**, we have to divide the *p* value by 2, because we are dealing with a one-sided test."
   ]
  },
  {
   "cell_type": "code",
   "execution_count": null,
   "id": "wrong-jamaica",
   "metadata": {},
   "outputs": [],
   "source": [
    "# Import modules\n",
    "import scipy.stats as stats\n",
    "import numpy as np"
   ]
  },
  {
   "cell_type": "code",
   "execution_count": 37,
   "id": "excess-withdrawal",
   "metadata": {},
   "outputs": [
    {
     "name": "stdout",
     "output_type": "stream",
     "text": [
      "t statistic: -2.150711003973493\n",
      "\n",
      "p value: 0.02229062646839212\n",
      "\n"
     ]
    }
   ],
   "source": [
    "# Automated calculation of t statistic for Null (mu = 0)\n",
    "test_auto = stats.ttest_1samp(change, popmean = 0)\n",
    "t_auto = test_auto.statistic\n",
    "p_auto = test_auto.pvalue\n",
    "print(f't statistic: {t_auto}\\n')\n",
    "print(f'p value: {p_auto / 2}\\n')"
   ]
  },
  {
   "cell_type": "code",
   "execution_count": 35,
   "id": "silent-credits",
   "metadata": {},
   "outputs": [
    {
     "name": "stdout",
     "output_type": "stream",
     "text": [
      "t statistic: -2.150711003973493\n",
      "\n"
     ]
    }
   ],
   "source": [
    "# Manual calculation of t statistic for Null (mu = 0)\n",
    "avgCh = np.mean(change)\n",
    "n = len(change)\n",
    "sdCh = np.std(change, ddof = 1)\n",
    "se = sdCh / np.sqrt(n)\n",
    "t_manual = avgCh / se\n",
    "print(f't statistic: {t_manual}\\n')"
   ]
  },
  {
   "cell_type": "code",
   "execution_count": 36,
   "id": "annual-convenience",
   "metadata": {},
   "outputs": [
    {
     "name": "stdout",
     "output_type": "stream",
     "text": [
      "p value: 0.02229062646839212\n",
      "\n"
     ]
    }
   ],
   "source": [
    "# Manual calculation of p value for Null (mu = 0)\n",
    "p_manual = stats.t.cdf(t_manual, n - 1)\n",
    "print(f'p value: {p_manual}\\n')"
   ]
  },
  {
   "cell_type": "markdown",
   "id": "senior-telling",
   "metadata": {},
   "source": [
    "#### Wooldridge, Example C.7: Race Discrimination in Hiring\n",
    "\n",
    "In Example C.5, we found the *t* statistic for $H_0: \\mu = 0$ against $H_1: \\mu < 0$ to be $t = -4.276816$. The corresponding *p* value is calculated in the following example. The number **1.369271e-05** is the scientific notation for $1.369271 \\cdot 10^{-5} = 0.00001369271$. So the *p* value is around 0.0014% which is much smaller than any reasonable significance level. By construction, we draw the same conclusion as when we compare the *t* statistic with the critical value in Example C.5. We reject the null hypothesis that there is no discrimination."
   ]
  },
  {
   "cell_type": "code",
   "execution_count": null,
   "id": "experienced-chick",
   "metadata": {},
   "outputs": [],
   "source": [
    "# Import modules\n",
    "import wooldridge as woo\n",
    "import pandas as pd\n",
    "import numpy as np\n",
    "import scipy.stats as stats"
   ]
  },
  {
   "cell_type": "code",
   "execution_count": 38,
   "id": "supported-stability",
   "metadata": {},
   "outputs": [
    {
     "name": "stdout",
     "output_type": "stream",
     "text": [
      "t statistic: -4.276816348963646\n",
      "\n",
      "p value: 1.369270781112999e-05\n",
      "\n"
     ]
    }
   ],
   "source": [
    "# Automated calculation of t statistic for Null (mu = 0):\n",
    "test_auto = stats.ttest_1samp(y, popmean = 0)\n",
    "t_auto = test_auto.statistic # access test statistic\n",
    "p_auto = test_auto.pvalue # access two-sided p value\n",
    "\n",
    "print(f't statistic: {t_auto}\\n')\n",
    "print(f'p value: {p_auto / 2}\\n')"
   ]
  },
  {
   "cell_type": "code",
   "execution_count": 39,
   "id": "italian-driver",
   "metadata": {},
   "outputs": [
    {
     "name": "stdout",
     "output_type": "stream",
     "text": [
      "t statistic: -4.27681634896364\n",
      "\n"
     ]
    }
   ],
   "source": [
    "# Manual calculation of t statistic for Null (mu = 0)\n",
    "avgy = np.mean(y)\n",
    "n = len(y)\n",
    "sdy = np.std(y, ddof = 1)\n",
    "se = sdy / np.sqrt(n)\n",
    "t_manual = avgy / se\n",
    "print(f't statistic: {t_manual}\\n')"
   ]
  },
  {
   "cell_type": "code",
   "execution_count": 40,
   "id": "congressional-shell",
   "metadata": {},
   "outputs": [
    {
     "name": "stdout",
     "output_type": "stream",
     "text": [
      "p value: 1.3692707811130349e-05\n",
      "\n"
     ]
    }
   ],
   "source": [
    "# Manual calculation of p value for Null (mu = 0)\n",
    "p_manual = stats.t.cdf(t_manual, n - 1)\n",
    "print(f'p value: {p_manual}\\n')"
   ]
  },
  {
   "cell_type": "markdown",
   "id": "returning-shell",
   "metadata": {},
   "source": [
    "### 4. Advance Python\n",
    "\n",
    "The material covered in this section is not necessary for most of what we will do in the later sections in this repository, so it can be skipped. However, it is important enough to justify an own section in this notebook. We will only scratch the surface, though. For more detail, you will have to look somewhere else, for example [Downey (2015)](https://greenteapress.com/thinkpython2/thinkpython2.pdf)\n",
    "\n",
    "#### Conditional Execution:\n",
    "\n",
    "We might want some part of our code to be executed only under certain conditions. Like most other programming languages, this can be achieved with an **if else** statement. Note that in *Python*, the parts to be conditionally executed are identified by indenting them with the same amount of whitespaces. Editor like Spyder will assis us with this. This gives the followign syntax:\n",
    "\n",
    "``` Python\n",
    "if condition:\n",
    "    expression1\n",
    "else:\n",
    "    expression2\n",
    "````\n",
    "\n",
    "The condition has to be a single logical value (**True** or **False**). If it is **True**, then expression1 is executed, otherwise expression2 which can also be omitted. A simple example would be:\n",
    "\n",
    "``` Python\n",
    "if p <= 0.05:\n",
    "    print(\"reject H0\")\n",
    "else:\n",
    "    print(\"don't reject H0\")\n",
    "```\n",
    "\n",
    "Depending on the value of the numeric scalar **p**, the respective test decision is printed.\n",
    "\n",
    "#### Loops:\n",
    "\n",
    "For repeatedly executing an expression, different kinds of loops are available. In this repository, we will use them for Monte Carlo analyses. For our purpose, the **for loop** is well suited. The correct syntax (including the indenting) is:\n",
    "\n",
    "``` Python\n",
    "for x in sequence:\n",
    "    [some commands]\n",
    "```\n",
    "\n",
    "The loop variable **x** will take the value of each element of **sequence**, one after another For each of these elements, **[some commands]** are executed. Often, **sequence** will be a list like [1, 2, 3]. \n",
    "\n",
    "A nonsense example which combines **for** loops with an **if** statement is given below:\n",
    "\n",
    "``` Python\n",
    "array = [1, 2, 3, 4, 5, 6]\n",
    "for i in array:\n",
    "    if i < 4:\n",
    "        print(i ** 3)\n",
    "    else:\n",
    "        print(i ** 2)\n",
    "```\n",
    "\n",
    "Instead of iterating over a sequence you can also iterate over an index of a sequence and use the index to reference other objects. The \"Pythonian\" way of generating such a sequence of indices uses the function **range**, which demonstrated below by doing the same as the previous example:\n",
    "\n",
    "``` Python\n",
    "array = [1, 2, 3, 4, 5, 6]\n",
    "for i in range(len(array)):\n",
    "    if array[i] < 4:\n",
    "        print(array[i] ** 3)\n",
    "    else:\n",
    "        print(array[i] ** 2)\n",
    "```\n",
    "\n",
    "If you want to exectue expressions as long as given condition is **True**, *Python* offers the **while** loop, but we will not present it here.\n",
    "\n",
    "#### Functions:\n",
    "\n",
    "A function is a block of code that is executed if the function is called. You can provide addtional data to the function in form of arguments. There are many pre-defined functions and modules provided even more functions to expand the capabilities of *Python*. We're now ready to define our own little function.\n",
    "\n",
    "The command **def newfunc(arg1, arg2, ...)** defines a new function **newfunc** which accepts the arguments **arg1, arg2, ...**. The function definition follows in arbitrarily many lines of indented code. Within the function definition, the command **return stuff** means that *stuff** is to be returned as a result of the function call. For example, we can define the function **mysqrt** that expects one argument internally named **x**. \n",
    "\n",
    "``` Python\n",
    "# Define function:\n",
    "def mysqrt(x):\n",
    "    if x >= 0:\n",
    "        result = x ** 0.5\n",
    "    else:\n",
    "        result = \"You fool!\"\n",
    "    return result\n",
    "\n",
    "# Call function and print result:\n",
    "answer = mysqrt(4)\n",
    "print(f'Square Root of 4: {answer}\\n')\n",
    "\n",
    "answer = mysqrt(-1.5)\n",
    "print(f'Square Root of -1.5: {answer}\\n')\n",
    "```\n",
    "\n",
    "Note that we can pass arguments by name, by position, or a combination of both. Passing arguments by position is used in the previous example, because it is clear that any provided input to the function must be the argument **x**. In the case of multiple arguments, the order of providing input matters: the first piece of input is related to the first argument in the function definition, the second piece of input is related to the second argument in the function definition, etc.\n",
    "\n",
    "As an alternative you could also execute **mysqrt(x = 4)**, which is meant by providing arguments by name. In the case of multiple argument the order of provided named input does not matter.\n",
    "\n",
    "#### Object Orientation\n",
    "\n",
    "We might have wondered where all the data types we have used so far (e.g. lists of **numpy** arrays) come from. In an object oriented language like *Python* almost everything is an object and you can easily define your own objects. You can think of an object as an elegant way of structuring your code: objects store a certain type of data and contain functions that can be applied to this data. In the context of objects, functions are called methods and data are saved in local variables of an object (also called attributes).\n",
    "\n",
    "To work with objects that are suited for our purposes we have to define what kind of data they can store and what we want to do with them. The blueprint of such an object is called a \"**class**\". If we make use of this class to store data and work with them, we are dealing with an \"**instance**\" or \"object\" of this class. Of course, one class can be used to create multiple instances of this class. To use local variables or methods of an object, you follow the familiar syntax **objectname.variablename** or **objectname.methodname(arg1, arg2, ...)**.\n",
    "\n",
    "Let's discuss an easy example: we want to build a database in *Python* for our local bike shop. The first thing we should do is to define a class **bike**, where we collect properties of a bike. This could be the price, size, color or anything else that migh be important and we define them as local variables. Let's say the color of a bike must often be changed before it can be sold, so we add a method **changeColor(newColor)** to the class definition. The moment the first bike needs to be stored in the database, we create an instance of this class, say **firstNewBike**. WIthin this instance, all defined properties are set (also called \"initializing\"). If a bike with the exact same properties arrives a few hours later and needs to be stored in the database, you create a new instance, so every object has it's own identity. If you want to change the color of the first instance to green you call **firstNewBike.changeColor('green')**.\n",
    "\n",
    "In this repository, there are only very few cases where we cannot rely on predefined classes provided by *Python* or a given module. However, a basic understanding of object orientation helps us to understand how certain command work. In the following example, the class **list** is used to create an object named **a**. The author of this class also added a method **count** which is only applied on data stored within **a**. There are also methods like **sort**, which changes data stored in an object.\n",
    "\n",
    "``` Python\n",
    "# Use the predefined class 'list' to creat an object:\n",
    "a = [2, 6, 3, 6]\n",
    "\n",
    "# Access a local variable (to find out what kind of object we are dealing with):\n",
    "check = type(a).__name__\n",
    "print(f'Object Type: {check}\\n')\n",
    "\n",
    "# Make use of the method (howmany 6 are in a?):\n",
    "count_six = a.count(6)\n",
    "print(f'Count the Number 6: {count_six}\\n')\n",
    "\n",
    "# Use another method (sort data in a):\n",
    "a.sort()\n",
    "print(f'Sorted List a: {a}\\n')\n",
    "```\n",
    "\n",
    "We are now ready to define our own class. Here is an example demonstrates how to write your version of the **dot** method in **numpy**. Local variable are always initiated by the __init__ method in *Python*.\n",
    "\n",
    "Noe that the presented approach of nested loops is not the most computationally efficient way to implement matrix multiplication in *Python*. But it helps to demonstrate the definition of a class and give another example of using **for loops**."
   ]
  },
  {
   "cell_type": "code",
   "execution_count": 1,
   "id": "physical-seeking",
   "metadata": {},
   "outputs": [],
   "source": [
    "# Import numpy module\n",
    "import numpy as np"
   ]
  },
  {
   "cell_type": "code",
   "execution_count": 2,
   "id": "noted-battlefield",
   "metadata": {},
   "outputs": [],
   "source": [
    "# Multiply these two matrices:\n",
    "a = np.array([[3, 6, 1], [2, 7, 4]])\n",
    "b = np.array([[1, 8, 6], [3, 5, 8], [1, 1, 2]])"
   ]
  },
  {
   "cell_type": "code",
   "execution_count": 5,
   "id": "unique-trout",
   "metadata": {},
   "outputs": [
    {
     "name": "stdout",
     "output_type": "stream",
     "text": [
      "numpy Dot Method Result: \n",
      "[[22 55 68]\n",
      " [27 55 76]]\n",
      "\n"
     ]
    }
   ],
   "source": [
    "# numpy dot method\n",
    "result_np = a.dot(b)\n",
    "print(f'numpy Dot Method Result: \\n{result_np}\\n')"
   ]
  },
  {
   "cell_type": "code",
   "execution_count": 6,
   "id": "nonprofit-reform",
   "metadata": {},
   "outputs": [],
   "source": [
    "# Define a class for the multiplication\n",
    "class myMatrices:\n",
    "    def __init__(self, A, B):\n",
    "        self.A = A\n",
    "        self.B = B\n",
    "    \n",
    "    def mult(self):\n",
    "        N = self.A.shape[0]  # number of rows in A\n",
    "        K = self.B.shape[1]  # number of columns in B\n",
    "        out = np.empty((N, K))  # initialize output\n",
    "        for i in range(N):\n",
    "            for j in range(K):\n",
    "                out[i, j] = sum(self.A[i, :] * self.B[:, j])\n",
    "        return out"
   ]
  },
  {
   "cell_type": "code",
   "execution_count": 7,
   "id": "inclusive-sculpture",
   "metadata": {},
   "outputs": [],
   "source": [
    "# Create an object:\n",
    "test = myMatrices(a, b)"
   ]
  },
  {
   "cell_type": "code",
   "execution_count": 8,
   "id": "utility-porcelain",
   "metadata": {},
   "outputs": [
    {
     "name": "stdout",
     "output_type": "stream",
     "text": [
      "Matrix A: \n",
      "[[3 6 1]\n",
      " [2 7 4]]\n",
      "\n",
      "Matrix B: \n",
      "[[1 8 6]\n",
      " [3 5 8]\n",
      " [1 1 2]]\n",
      "\n"
     ]
    }
   ],
   "source": [
    "# Access local variables:\n",
    "print(f'Matrix A: \\n{test.A}\\n')\n",
    "print(f'Matrix B: \\n{test.B}\\n')"
   ]
  },
  {
   "cell_type": "code",
   "execution_count": 9,
   "id": "future-climb",
   "metadata": {},
   "outputs": [
    {
     "name": "stdout",
     "output_type": "stream",
     "text": [
      "New class method result: \n",
      "[[22. 55. 68.]\n",
      " [27. 55. 76.]]\n",
      "\n"
     ]
    }
   ],
   "source": [
    "# Use object method:\n",
    "result_own = test.mult()\n",
    "print(f'New class method result: \\n{result_own}\\n')"
   ]
  },
  {
   "cell_type": "markdown",
   "id": "concerned-vision",
   "metadata": {},
   "source": [
    "We can easily build on other classes by using a concept called inheritance. Let's assume we want to extend our class **myMatrices** by a method that calculates the total amount of elements in the matrix product. Subclass **myMatNew** inherits the properties and methods from **myMatrices** and adds method **getTotalElem**, so by using **myMatNew** we can do everything we can do with **myMatrices** and calculating the total amonunt of elements in the matrix product."
   ]
  },
  {
   "cell_type": "code",
   "execution_count": 10,
   "id": "legal-oliver",
   "metadata": {},
   "outputs": [],
   "source": [
    "# Define a subclass:\n",
    "class myMatNew(myMatrices):\n",
    "    def getTotalElem(self):\n",
    "        N = self.A.shape[0]  # number of rows in A\n",
    "        K = self.B.shape[1]  # Number of columns in B\n",
    "        return N * K"
   ]
  },
  {
   "cell_type": "code",
   "execution_count": 11,
   "id": "sealed-guarantee",
   "metadata": {},
   "outputs": [],
   "source": [
    "# Create an object of the subclass:\n",
    "test = myMatNew(a, b)"
   ]
  },
  {
   "cell_type": "code",
   "execution_count": 12,
   "id": "sharing-length",
   "metadata": {},
   "outputs": [
    {
     "name": "stdout",
     "output_type": "stream",
     "text": [
      "New class method result: \n",
      "[[22. 55. 68.]\n",
      " [27. 55. 76.]]\n",
      "\n"
     ]
    }
   ],
   "source": [
    "# Use a method of myMatrices:\n",
    "result_own = test.mult()\n",
    "print(f'New class method result: \\n{result_own}\\n')"
   ]
  },
  {
   "cell_type": "code",
   "execution_count": 13,
   "id": "utility-observation",
   "metadata": {},
   "outputs": [
    {
     "name": "stdout",
     "output_type": "stream",
     "text": [
      "Total Number of Elements: 6\n",
      "\n"
     ]
    }
   ],
   "source": [
    "# Use a method of myMatNew:\n",
    "totalElem = test.getTotalElem()\n",
    "print(f'Total Number of Elements: {totalElem}\\n')"
   ]
  },
  {
   "cell_type": "markdown",
   "id": "postal-union",
   "metadata": {},
   "source": [
    "### Monte Carlo Simulation"
   ]
  },
  {
   "cell_type": "code",
   "execution_count": null,
   "id": "obvious-aviation",
   "metadata": {},
   "outputs": [],
   "source": []
  }
 ],
 "metadata": {
  "kernelspec": {
   "display_name": "Python 3",
   "language": "python",
   "name": "python3"
  },
  "language_info": {
   "codemirror_mode": {
    "name": "ipython",
    "version": 3
   },
   "file_extension": ".py",
   "mimetype": "text/x-python",
   "name": "python",
   "nbconvert_exporter": "python",
   "pygments_lexer": "ipython3",
   "version": "3.7.1"
  }
 },
 "nbformat": 4,
 "nbformat_minor": 5
}
