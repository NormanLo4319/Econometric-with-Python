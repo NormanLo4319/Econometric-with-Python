{
 "cells": [
  {
   "cell_type": "markdown",
   "id": "olive-editor",
   "metadata": {},
   "source": [
    "## Basic Statistics with Numpy and SciPy\n",
    "\n",
    "Econometrics is the quantitative application of statistical methods to economic data in order to give empirical content to economic relationship. Before we jump into some basic tool for econometrics, such as simple linear regression and multiple linear regression model, we first practice the basic statistics with **NumPy** and **SciPy** in *Python*.\n",
    "\n",
    "\n",
    "### Topics:\n",
    "\n",
    "1. Descriptive Statistics\n",
    "2. Probability Distributions\n",
    "3. Confidence Intervals and Statistical Inference\n",
    "4. Advance Python\n",
    "5. Monte Carlo Simulation"
   ]
  },
  {
   "cell_type": "markdown",
   "id": "banned-department",
   "metadata": {},
   "source": [
    "### 1. Descriptive Statistics\n",
    "\n",
    "The *Python* modules **pandas**, **numpy**, and **matplotlib** offer many commands for descriptive statistics. \n",
    "\n",
    "#### Discrete Distributions: Frequencies and Contingency Tables\n",
    "\n",
    "Suppose we have a sample of randome variable *X* and *Y* stored in **numpy** or **pandas** data types *x* and *y*, respectively. For discrete variables, the most fundamental statistics are the frequencies of outcomes. The **numpy** command **unique(x, return_counts = True)** or **pandas** command **x.value_counts()** returns such a table of counts. If we are interested in the contingency table, i.e. the counts of each combination of outcomes for variables *x* and *y*, we provide it to the crosstab function in **pandas**. For getting the sample *shares* instead of the *counts*, we can change the functions arugment **normalize**:\n",
    "\n",
    "- The overall sample share: **crosstab(x, y, normalize = 'all')**\n",
    "- The share within x values (raw percentages): **crosstab(x, y, normalize = 'index')**\n",
    "- The share within y values (column percentages): **crosstab(x, y, normalize = 'columns')**\n",
    "\n",
    "We demonstrate the use of **numpy** and **pandas** comands with two variables in the data set *affairs* from the **wooldridge** module. \n",
    "\n",
    "- **kids** = 1 if the respondent has at least one child\n",
    "- **ratemarr** = Ratiing of the own marriage (1 = very unhappy, ..., 5 = very happy)"
   ]
  },
  {
   "cell_type": "code",
   "execution_count": 1,
   "id": "wanted-inventory",
   "metadata": {},
   "outputs": [],
   "source": [
    "# Import the modules for analysis\n",
    "import wooldridge as woo\n",
    "import numpy as np\n",
    "import pandas as pd"
   ]
  },
  {
   "cell_type": "code",
   "execution_count": 2,
   "id": "internal-messenger",
   "metadata": {},
   "outputs": [],
   "source": [
    "# Loading the affair data set from wooldridge module\n",
    "affairs = woo.dataWoo('affairs')"
   ]
  },
  {
   "cell_type": "code",
   "execution_count": 3,
   "id": "controlled-heating",
   "metadata": {},
   "outputs": [],
   "source": [
    "# Adjust codings to [0-4] (Categorical rquires a start from 0):\n",
    "affairs['ratemarr'] = affairs['ratemarr'] - 1"
   ]
  },
  {
   "cell_type": "code",
   "execution_count": 5,
   "id": "romantic-hometown",
   "metadata": {},
   "outputs": [],
   "source": [
    "# Use a pandas.Categorical object to attach labels for 'haskids':\n",
    "affairs['haskids'] = pd.Categorical.from_codes(affairs['kids'],\n",
    "                                              categories = ['no', 'yes'])"
   ]
  },
  {
   "cell_type": "code",
   "execution_count": 7,
   "id": "seasonal-combination",
   "metadata": {},
   "outputs": [],
   "source": [
    "# Labels for 'marriage' (for example: 0 = 'very unhappy', 1 = 'unhappy', ...)\n",
    "mlab = ['very unhappy', 'unhappy', 'average', 'happy', 'very happy']\n",
    "affairs['marriage'] = pd.Categorical.from_codes(affairs['ratemarr'],\n",
    "                                              categories = mlab)"
   ]
  },
  {
   "cell_type": "code",
   "execution_count": 9,
   "id": "bibliographic-embassy",
   "metadata": {},
   "outputs": [
    {
     "name": "stdout",
     "output_type": "stream",
     "text": [
      "Unique Elements: \n",
      "['average' 'happy' 'unhappy' 'very happy' 'very unhappy']\n",
      "\n",
      "Counts for each Element: \n",
      "[ 93 194  66 232  16]\n",
      "\n"
     ]
    }
   ],
   "source": [
    "# Frequency table in numpy (alphabetical order of elements)\n",
    "ft_np = np.unique(affairs['marriage'], return_counts = True)\n",
    "unique_elem_np = ft_np[0]\n",
    "counts_np = ft_np[1]\n",
    "print(f'Unique Elements: \\n{unique_elem_np}\\n')\n",
    "print(f'Counts for each Element: \\n{counts_np}\\n')"
   ]
  },
  {
   "cell_type": "code",
   "execution_count": 10,
   "id": "multiple-ceramic",
   "metadata": {},
   "outputs": [
    {
     "name": "stdout",
     "output_type": "stream",
     "text": [
      "Frequency Table: \n",
      "very happy      232\n",
      "happy           194\n",
      "average          93\n",
      "unhappy          66\n",
      "very unhappy     16\n",
      "Name: marriage, dtype: int64\n",
      "\n"
     ]
    }
   ],
   "source": [
    "# Frequency table in pandas\n",
    "ft_pd = affairs['marriage'].value_counts()\n",
    "print(f'Frequency Table: \\n{ft_pd}\\n')"
   ]
  },
  {
   "cell_type": "code",
   "execution_count": 12,
   "id": "closing-being",
   "metadata": {},
   "outputs": [
    {
     "name": "stdout",
     "output_type": "stream",
     "text": [
      "Frequency Table by Groups: \n",
      "haskids  marriage    \n",
      "no       very happy       96\n",
      "         happy            40\n",
      "         average          24\n",
      "         unhappy           8\n",
      "         very unhappy      3\n",
      "yes      happy           154\n",
      "         very happy      136\n",
      "         average          69\n",
      "         unhappy          58\n",
      "         very unhappy     13\n",
      "Name: marriage, dtype: int64\n",
      "\n"
     ]
    }
   ],
   "source": [
    "# Frequency table with groupby\n",
    "ft_pd2 = affairs['marriage'].groupby(affairs['haskids']).value_counts()\n",
    "print(f'Frequency Table by Groups: \\n{ft_pd2}\\n')"
   ]
  },
  {
   "cell_type": "code",
   "execution_count": 13,
   "id": "regulated-regression",
   "metadata": {},
   "outputs": [
    {
     "name": "stdout",
     "output_type": "stream",
     "text": [
      "Absolute Contingency Table: \n",
      "haskids        no  yes  All\n",
      "marriage                   \n",
      "very unhappy    3   13   16\n",
      "unhappy         8   58   66\n",
      "average        24   69   93\n",
      "happy          40  154  194\n",
      "very happy     96  136  232\n",
      "All           171  430  601\n",
      "\n",
      "Relative Contingency Table: \n",
      "haskids             no       yes\n",
      "marriage                        \n",
      "very unhappy  0.004992  0.021631\n",
      "unhappy       0.013311  0.096506\n",
      "average       0.039933  0.114809\n",
      "happy         0.066556  0.256240\n",
      "very happy    0.159734  0.226290\n",
      "\n"
     ]
    }
   ],
   "source": [
    "# Contingency table in pandas\n",
    "ct_all_abs = pd.crosstab(affairs['marriage'], affairs['haskids'], margins = 3)\n",
    "print(f'Absolute Contingency Table: \\n{ct_all_abs}\\n')\n",
    "ct_all_rel = pd.crosstab(affairs['marriage'], affairs['haskids'], normalize = 'all')\n",
    "print(f'Relative Contingency Table: \\n{ct_all_rel}\\n')"
   ]
  },
  {
   "cell_type": "code",
   "execution_count": 14,
   "id": "square-facing",
   "metadata": {},
   "outputs": [
    {
     "name": "stdout",
     "output_type": "stream",
     "text": [
      "Relative Contingency Table: \n",
      "haskids             no       yes\n",
      "marriage                        \n",
      "very unhappy  0.187500  0.812500\n",
      "unhappy       0.121212  0.878788\n",
      "average       0.258065  0.741935\n",
      "happy         0.206186  0.793814\n",
      "very happy    0.413793  0.586207\n",
      "\n"
     ]
    }
   ],
   "source": [
    "# Share within marriage (i.e. within a row)\n",
    "ct_row = pd.crosstab(affairs['marriage'], affairs['haskids'], normalize = 'index')\n",
    "print(f'Relative Contingency Table by Row: \\n{ct_row}\\n')"
   ]
  },
  {
   "cell_type": "code",
   "execution_count": 15,
   "id": "differential-today",
   "metadata": {},
   "outputs": [
    {
     "name": "stdout",
     "output_type": "stream",
     "text": [
      "Relative Contingency Table by Column: \n",
      "haskids             no       yes\n",
      "marriage                        \n",
      "very unhappy  0.017544  0.030233\n",
      "unhappy       0.046784  0.134884\n",
      "average       0.140351  0.160465\n",
      "happy         0.233918  0.358140\n",
      "very happy    0.561404  0.316279\n",
      "\n"
     ]
    }
   ],
   "source": [
    "# Share within haskids (i.e. within a column)\n",
    "ct_row = pd.crosstab(affairs['marriage'], affairs['haskids'], normalize = 'columns')\n",
    "print(f'Relative Contingency Table by Column: \\n{ct_row}\\n')"
   ]
  },
  {
   "cell_type": "markdown",
   "id": "eligible-windsor",
   "metadata": {},
   "source": [
    "In these examples, we first generate **Categorical** versions of the two variable of interest from the coded values provided by the data set *affairs*. In this way, we can generate tables with meaningful labels instead of numbers for the outcomes. Then different tables are produced. Of the 601 respondents, 430 (= 71.5%) have children. Overall, 16 respondents report to be very unhappy with their marriage and 232 respondent are very happy. In the contingency table with counts, we see for example that 136 respondent are very happy and have kids.\n",
    "\n",
    "The table reporting shares within the row tell us that for example 81.25% of very unhappy individual have children and only 58.6% of very happy respondents have kids. The last table reports the distribution of marriage ratings separately for people with and without kids: 56.1% of the respondents without kids are very happy, whereas only 31.6% of those with kids report to be very happy with their marriage. Before drawing any conclusions for our own family planning, please keep on studying econometrics at least until you fully appreciate the difference between correlation and causation!\n",
    "\n",
    "There are several ways to graphically depict the information in these tables. In the following examples, we demonstrate the creation of basic pie and bar charts using the commands **pie** and **bar**, respectively. These figures can of course be tweaked in many ways. The best way to explore the options is to tinker with the specification and observe the result."
   ]
  },
  {
   "cell_type": "code",
   "execution_count": 18,
   "id": "searching-architect",
   "metadata": {},
   "outputs": [],
   "source": [
    "# Import matplotlib module\n",
    "import matplotlib.pyplot as plt"
   ]
  },
  {
   "cell_type": "code",
   "execution_count": 19,
   "id": "pacific-footage",
   "metadata": {},
   "outputs": [],
   "source": [
    "# Counts for all graphs:\n",
    "counts = affairs['marriage'].value_counts()\n",
    "counts_bykids = affairs['marriage'].groupby(affairs['haskids']).value_counts()\n",
    "counts_yes = counts_bykids['yes']\n",
    "counts_no = counts_bykids['no']"
   ]
  },
  {
   "cell_type": "code",
   "execution_count": 33,
   "id": "gorgeous-offering",
   "metadata": {},
   "outputs": [
    {
     "data": {
      "image/png": "[encoded data removed]",
      "text/plain": [
       "<Figure size 432x288 with 1 Axes>"
      ]
     },
     "metadata": {},
     "output_type": "display_data"
    }
   ],
   "source": [
    "# Create pie chart (a)\n",
    "grey_colors = ['0.3', '0.4', '0.5', '0.6', '0.7']\n",
    "plt.pie(counts, labels = mlab, colors = grey_colors)\n",
    "plt.savefig('images/descr-pie.png')\n",
    "plt.show()\n",
    "plt.close()"
   ]
  },
  {
   "cell_type": "code",
   "execution_count": 34,
   "id": "talented-turning",
   "metadata": {},
   "outputs": [
    {
     "data": {
      "image/png": "[encoded data removed]",
      "text/plain": [
       "<Figure size 432x288 with 1 Axes>"
      ]
     },
     "metadata": {
      "needs_background": "light"
     },
     "output_type": "display_data"
    }
   ],
   "source": [
    "# Create horizontal bar chart (b)\n",
    "y_pos = [0, 1, 2, 3, 4,] # the y locations for the bars\n",
    "plt.barh(y_pos, counts, color = '0.6')\n",
    "plt.yticks(y_pos, mlab, rotation = 60) # add and adjust labeling\n",
    "plt.savefig('images/descr-bar1.png')\n",
    "plt.show()\n",
    "plt.close()"
   ]
  },
  {
   "cell_type": "code",
   "execution_count": 22,
   "id": "painted-france",
   "metadata": {},
   "outputs": [
    {
     "data": {
      "text/plain": [
       "<function matplotlib.pyplot.close(fig=None)>"
      ]
     },
     "execution_count": 22,
     "metadata": {},
     "output_type": "execute_result"
    },
    {
     "data": {
      "image/png": "[encoded data removed]",
      "text/plain": [
       "<Figure size 432x288 with 1 Axes>"
      ]
     },
     "metadata": {
      "needs_background": "light"
     },
     "output_type": "display_data"
    }
   ],
   "source": [
    "# Create stacked bar plot (c)\n",
    "x_pos = [0, 1, 2, 3, 4] # the x locations for the bars\n",
    "plt.bar(x_pos, counts_yes, width = 0.4, color = '0.6', label = 'Yes') \n",
    "# with 'bottom = counts_yes' bars are added on top of previous ones:\n",
    "plt.bar(x_pos, counts_no, width = 0.4, bottom = counts_yes, color = '0.3', label='No')\n",
    "plt.ylabel('Counts')\n",
    "plt.xticks(x_pos, mlab) # add labels on x axis\n",
    "plt.legend()\n",
    "plt.savefig('images/descr-bar2.png')\n",
    "plt.show()\n",
    "plt.close"
   ]
  },
  {
   "cell_type": "code",
   "execution_count": 23,
   "id": "extra-dylan",
   "metadata": {},
   "outputs": [
    {
     "data": {
      "image/png": "[encoded data removed]",
      "text/plain": [
       "<Figure size 432x288 with 1 Axes>"
      ]
     },
     "metadata": {
      "needs_background": "light"
     },
     "output_type": "display_data"
    }
   ],
   "source": [
    "# Create grouped bar plot (d)\n",
    "# Add left bars first and move bars to the left:\n",
    "x_pos_leftbar = [-0.2, 0.8, 1.8, 2.8, 3.8]\n",
    "plt.bar(x_pos_leftbar, counts_yes, width = 0.4, color = '0.6', label = 'Yes')\n",
    "# Add right bars first and move bars to the right:\n",
    "x_pos_rightbar = [0.2, 1.2, 2.2, 3.2, 4.2]\n",
    "plt.bar(x_pos_rightbar, counts_no, width = 0.4, color = '0.3', label = \"No\")\n",
    "plt.ylabel('Counts')\n",
    "plt.xticks(x_pos, mlab)\n",
    "plt.legend()\n",
    "plt.savefig('images/descr-bar3.png')\n",
    "plt.show()\n",
    "plt.close()"
   ]
  },
  {
   "cell_type": "markdown",
   "id": "powered-balloon",
   "metadata": {},
   "source": [
    "#### Continuous Distributions: Histogram and Density\n",
    "\n",
    "For continuous variables, every observation has a distinct value. In practice, variables which have many (but not infinitely many) different values can be treated in the same way. Since each value appears only once (or a very few times) in the data, frequency table or bar charts are not useful. Instead, the values can be grouped into intervals. The frequency of the values within these intervals can then be tabulated or depicted in a historgram.\n",
    "\n",
    "In the *Python* module **matplotlib**, the function **hist(x, options)** assigns obervations to intervals which can be manually set or automatically chosen and creates a histrogram which plots values of **x** against the count or density within the corresponding bin. The most relevent options are\n",
    "\n",
    "- **bins = ...**: Set the interval boundaries:\n",
    "    - no **bins** specified: let *Python* choose number and position.\n",
    "    - **bins = n** for a scalar **n**: select the number of bins, but let *Python* choose the position.\n",
    "    - **bins = v** for a list **v**: explicitly set the boundaries.\n",
    "- **density = True**: do not use the count bu the density on the vertical axis.\n",
    "\n",
    "Let's look at the data set *CEOSAL1* which is described and used in Wooldridge (2019, Example 2.3). It contains information on the salary of CEOs and other information. We demonstrate how to depict the distribution of the return on equity (ROE), measured in percent. "
   ]
  },
  {
   "cell_type": "code",
   "execution_count": 24,
   "id": "serious-pleasure",
   "metadata": {},
   "outputs": [],
   "source": [
    "# Import the modules for analysis\n",
    "import wooldridge as woo\n",
    "import matplotlib.pyplot as plt"
   ]
  },
  {
   "cell_type": "code",
   "execution_count": 25,
   "id": "synthetic-soviet",
   "metadata": {},
   "outputs": [],
   "source": [
    "# Load the data set ceosal1 from wooldridge\n",
    "ceosal1 = woo.dataWoo('ceosal1')"
   ]
  },
  {
   "cell_type": "code",
   "execution_count": 28,
   "id": "american-myrtle",
   "metadata": {},
   "outputs": [],
   "source": [
    "# Extract ROW\n",
    "roe = ceosal1['roe']"
   ]
  },
  {
   "cell_type": "code",
   "execution_count": 31,
   "id": "arranged-liability",
   "metadata": {},
   "outputs": [
    {
     "data": {
      "image/png": "[encoded data removed]",
      "text/plain": [
       "<Figure size 432x288 with 1 Axes>"
      ]
     },
     "metadata": {
      "needs_background": "light"
     },
     "output_type": "display_data"
    }
   ],
   "source": [
    "# Plot histogram with counts (a):\n",
    "plt.hist(roe, color = 'grey')\n",
    "plt.ylabel('Counts')\n",
    "plt.xlabel('Return on Equity')\n",
    "plt.savefig('images/histogram1.png')\n",
    "plt.show()\n",
    "plt.close()"
   ]
  },
  {
   "cell_type": "code",
   "execution_count": 32,
   "id": "electronic-volume",
   "metadata": {},
   "outputs": [
    {
     "data": {
      "image/png": "[encoded data removed]",
      "text/plain": [
       "<Figure size 432x288 with 1 Axes>"
      ]
     },
     "metadata": {
      "needs_background": "light"
     },
     "output_type": "display_data"
    }
   ],
   "source": [
    "# Plot historgram with density and explicit breaks (b):\n",
    "breaks = [0, 5, 10, 20, 30, 60]\n",
    "plt.hist(roe, color = 'grey', bins = breaks, density = True)\n",
    "plt.ylabel('Density')\n",
    "plt.xlabel('Return of Equity')\n",
    "plt.savefig('images/histogram2.png')\n",
    "plt.show()\n",
    "plt.close()"
   ]
  },
  {
   "cell_type": "markdown",
   "id": "downtown-gamma",
   "metadata": {},
   "source": [
    "In the first example, we generate the histogram for the return on equity with frequency counts and **breaks** defined by *Python*. In the second example, the **breaks** are manually chosen and not equally spaced. Setting **density = True** gives the densities on the vertical axis. The sample share of observations within a bin is therefore reflected by the area of the respective rectangle, not the height.\n",
    "\n",
    "#### Kernal Density:\n",
    "\n",
    "A **kernal density** plot can be thought of as a more sophisticated version of a histogram. The intuitive way to think about it is that we could create a histogram bin of a certain width, centered at an arbitrary point of *x*. We will do this for many points and plot these *x* values against the resulting densities. Here, we will not use this plot as an estimator or a population distribution but rather as a pretty alternative to a histogram for the descriptive characterization of the sample distribution. \n",
    "\n",
    "In *Python*, generating a **kernal density** plot is straightforward with the module statmodels: **nonparametric.KDEUnivariate(x).fit()** will automatrically choose appropriate parameters of the algorithm given the data and often produce a useful result. These parameters can be set manually."
   ]
  },
  {
   "cell_type": "code",
   "execution_count": 36,
   "id": "living-benchmark",
   "metadata": {},
   "outputs": [],
   "source": [
    "# Import the modules for analysis\n",
    "import wooldridge as woo\n",
    "import statsmodels.api as sm\n",
    "import matplotlib.pyplot as plt"
   ]
  },
  {
   "cell_type": "code",
   "execution_count": 37,
   "id": "blind-recipe",
   "metadata": {},
   "outputs": [
    {
     "data": {
      "text/plain": [
       "<statsmodels.nonparametric.kde.KDEUnivariate at 0x1e3f98e4b38>"
      ]
     },
     "execution_count": 37,
     "metadata": {},
     "output_type": "execute_result"
    }
   ],
   "source": [
    "# Estimate Kernal Density:\n",
    "kde = sm.nonparametric.KDEUnivariate(roe)\n",
    "kde.fit()"
   ]
  },
  {
   "cell_type": "code",
   "execution_count": 39,
   "id": "suffering-flexibility",
   "metadata": {},
   "outputs": [
    {
     "data": {
      "image/png": "[encoded data removed]",
      "text/plain": [
       "<Figure size 432x288 with 1 Axes>"
      ]
     },
     "metadata": {
      "needs_background": "light"
     },
     "output_type": "display_data"
    }
   ],
   "source": [
    "# Plot the kernal density:\n",
    "plt.plot(kde.support, kde.density, color = 'black', linewidth = 2)\n",
    "plt.ylabel('Density')\n",
    "plt.xlabel('Return on Equity')\n",
    "plt.savefig('images/kdensity1.png')\n",
    "plt.show()\n",
    "plt.close()"
   ]
  },
  {
   "cell_type": "code",
   "execution_count": 40,
   "id": "incoming-adams",
   "metadata": {},
   "outputs": [
    {
     "data": {
      "image/png": "[encoded data removed]",
      "text/plain": [
       "<Figure size 432x288 with 1 Axes>"
      ]
     },
     "metadata": {
      "needs_background": "light"
     },
     "output_type": "display_data"
    }
   ],
   "source": [
    "# Plot the kernal density with overlayed histogram:\n",
    "plt.hist(roe, color = 'grey', density = True)\n",
    "plt.plot(kde.support, kde.density, color = 'black', linewidth = 2)\n",
    "plt.ylabel('Density')\n",
    "plt.xlabel('Return on Equity')\n",
    "plt.savefig('images/kdensity2.png')\n",
    "plt.show()\n",
    "plt.close()"
   ]
  },
  {
   "cell_type": "markdown",
   "id": "incomplete-indianapolis",
   "metadata": {},
   "source": [
    "#### Empirical Cumulative Distribution Functions (ECDF)\n",
    "\n",
    "The **Empirical Cumulative Distribution Function** (ECDF) is a graph of all values *x* of a variable against the share of observations with a value less than or equal to *x*. A straightfoward way to plot the ECDF for our ROE variable is demonstrated in the following example:"
   ]
  },
  {
   "cell_type": "code",
   "execution_count": 42,
   "id": "linear-pound",
   "metadata": {},
   "outputs": [],
   "source": [
    "# Import the modules for analysis\n",
    "import wooldridge as woo\n",
    "import numpy as np\n",
    "import matplotlib.pyplot as plt"
   ]
  },
  {
   "cell_type": "code",
   "execution_count": 43,
   "id": "facial-behavior",
   "metadata": {},
   "outputs": [],
   "source": [
    "# Calculate ECDF:\n",
    "x = np.sort(roe)\n",
    "n = x.size\n",
    "y = np.arange(1, n + 1) / n # generate cumulative shares of observations"
   ]
  },
  {
   "cell_type": "code",
   "execution_count": 44,
   "id": "indie-music",
   "metadata": {},
   "outputs": [
    {
     "data": {
      "image/png": "[encoded data removed]",
      "text/plain": [
       "<Figure size 432x288 with 1 Axes>"
      ]
     },
     "metadata": {
      "needs_background": "light"
     },
     "output_type": "display_data"
    }
   ],
   "source": [
    "# Plot a Step Function:\n",
    "plt.step(x, y, linestyle = '-', color = 'black')\n",
    "plt.xlabel('Return on Equity')\n",
    "plt.savefig('images/ecdf.png')\n",
    "plt.show()\n",
    "plt.close()"
   ]
  },
  {
   "cell_type": "markdown",
   "id": "optimum-password",
   "metadata": {},
   "source": [
    "#### Fundamental Statistics\n",
    "\n",
    "\n",
    "\n",
    "|  numpy Functions  |  Description  |\n",
    "|  :---  |  :---  |\n",
    "|  mean(x)  |  Sample average $\\bar{x} = \\frac{1}{n} \\sum_{i = 1}^{n} x_i$  |\n",
    "|  median(x)  |  Sample Median  |\n",
    "|  var(x, ddof = 1)  |  Sample Variance $s_x^2 = \\frac{1}{(n - 1)} \\sum_{i = 1}^{n} (x_i - \\bar{x})^2$  |\n",
    "|  std(x, ddof = 1  |  Sample standard deviation $s_x = \\sqrt{s_x^2}$  |\n",
    "| cov(x, y)  |  Sample covariance $c_xy = \\frac{1}{(n - 1} (x_i - \\bar{x})(y_i - \\bar{y})$  |\n",
    "| corrcoef(x, y)  |  Sample correlation  $r_xy = \\frac{s_xy}{s_xs_y}$  |"
   ]
  },
  {
   "cell_type": "code",
   "execution_count": null,
   "id": "returning-humanitarian",
   "metadata": {},
   "outputs": [],
   "source": []
  },
  {
   "cell_type": "code",
   "execution_count": null,
   "id": "three-employee",
   "metadata": {},
   "outputs": [],
   "source": []
  },
  {
   "cell_type": "code",
   "execution_count": null,
   "id": "spoken-current",
   "metadata": {},
   "outputs": [],
   "source": []
  },
  {
   "cell_type": "code",
   "execution_count": null,
   "id": "healthy-surgery",
   "metadata": {},
   "outputs": [],
   "source": [
    "### 2. Probability Distributions"
   ]
  },
  {
   "cell_type": "code",
   "execution_count": null,
   "id": "living-macedonia",
   "metadata": {},
   "outputs": [],
   "source": []
  },
  {
   "cell_type": "code",
   "execution_count": null,
   "id": "engaging-strand",
   "metadata": {},
   "outputs": [],
   "source": []
  },
  {
   "cell_type": "code",
   "execution_count": null,
   "id": "strange-magic",
   "metadata": {},
   "outputs": [],
   "source": []
  },
  {
   "cell_type": "code",
   "execution_count": null,
   "id": "operational-messenger",
   "metadata": {},
   "outputs": [],
   "source": [
    "### 3. Confidence Intervals and Statistical Inference"
   ]
  },
  {
   "cell_type": "code",
   "execution_count": null,
   "id": "under-machine",
   "metadata": {},
   "outputs": [],
   "source": []
  },
  {
   "cell_type": "code",
   "execution_count": null,
   "id": "rocky-novel",
   "metadata": {},
   "outputs": [],
   "source": []
  },
  {
   "cell_type": "code",
   "execution_count": null,
   "id": "herbal-lottery",
   "metadata": {},
   "outputs": [],
   "source": [
    "### 4. Advance Python"
   ]
  },
  {
   "cell_type": "code",
   "execution_count": null,
   "id": "dress-suicide",
   "metadata": {},
   "outputs": [],
   "source": []
  },
  {
   "cell_type": "code",
   "execution_count": null,
   "id": "connected-empire",
   "metadata": {},
   "outputs": [],
   "source": []
  },
  {
   "cell_type": "code",
   "execution_count": null,
   "id": "underlying-bradley",
   "metadata": {},
   "outputs": [],
   "source": []
  },
  {
   "cell_type": "code",
   "execution_count": null,
   "id": "surprising-confidence",
   "metadata": {},
   "outputs": [],
   "source": [
    "### 5. Monte Carlo Simulation"
   ]
  },
  {
   "cell_type": "code",
   "execution_count": null,
   "id": "helpful-horizontal",
   "metadata": {},
   "outputs": [],
   "source": []
  },
  {
   "cell_type": "code",
   "execution_count": null,
   "id": "negative-supervision",
   "metadata": {},
   "outputs": [],
   "source": []
  }
 ],
 "metadata": {
  "kernelspec": {
   "display_name": "Python 3",
   "language": "python",
   "name": "python3"
  },
  "language_info": {
   "codemirror_mode": {
    "name": "ipython",
    "version": 3
   },
   "file_extension": ".py",
   "mimetype": "text/x-python",
   "name": "python",
   "nbconvert_exporter": "python",
   "pygments_lexer": "ipython3",
   "version": "3.7.1"
  }
 },
 "nbformat": 4,
 "nbformat_minor": 5
}
