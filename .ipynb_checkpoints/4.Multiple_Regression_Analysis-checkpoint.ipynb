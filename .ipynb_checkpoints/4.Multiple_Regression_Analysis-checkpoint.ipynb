{
 "cells": [
  {
   "cell_type": "markdown",
   "id": "protective-vertex",
   "metadata": {},
   "source": [
    "## Multiple Regression Analysis\n",
    "\n",
    "Running a multiple regression in *Python* is as straightforward as running a simple regression using the **ols()** command in **statsmodels**. In the following example, we show how it is done in coding. In the later section, we will open the black box and replicaes the main calculations using matrix algebra. This is not required for the remaining notebook, so it can be skipped by readers who prefer to keep black boxes closed.\n",
    "\n",
    "We will also discuss the interpretation of regression results and the prevalent omitted variable problems. Finally, we will cover standard errors and multicollinearity for multiple regression by the end of this notebook.\n",
    "\n",
    "### Multiple Regression in Practice\n",
    "\n",
    "Consider the population regression model\n",
    "\n",
    "$$y = \\beta_0 + \\beta_1 x_1 + \\beta_2 x_2 + \\beta_3 x_3 + ... + \\beta_k x_k + u$$\n",
    "\n",
    "and suppose the data set **sample** contains variables **y, x1, x2, x3**, with respective data of our sample. We estimate the model parameters by OLS using the commands\n",
    "\n",
    "``` Python\n",
    "reg = smf.ols(formula = 'y ~ x1 + x2 + x3', data = sample)\n",
    "results = reg.fit()\n",
    "```\n",
    "\n",
    "The tilde \"$\\tilde$\" again separates the dependent variable from the regressors which are now separated using \"**+**\" sign. We can add options as before. The constant is again automatically added unless it is explicitly suppressed using **'y ~ x1 + x2 + x3 + ...'**.\n",
    "\n",
    "WE already familar with the working of **smf.ols()** and **fit()**: The first command creates an object which contains all relevant information and the estimation is performed in a second step. The estimation results are stored in a variable **results** using the code **results = reg.fit()**. We can use this variable for further analyses. For a typical regression output including a coefficent table, call **results.summary()** in one step. Further analyses involving residuals, fitted values and the like can be used exactly as presented in the previous notebook.\n",
    "\n",
    "The output of **summary()** includes parameter estimates, standard errors according to Theorem 3.2 of Wooldgridge (2019), the coefficient of determination $R^2$, and many more useful results we cannot interpret yet before we have worked through the next notebook file.\n",
    "\n",
    "#### Wooldridge, Example 3.1: Determinants of College GPA\n",
    "\n",
    "This example from Wooldridge (2019) relates the college GPA (*colGPA*) to the high school GPA (*hsGPA*) and the achievement test score (*ACT*) for a sample of 141 students. The OLS regression function is\n",
    "\n",
    "$$\\hat{colGPA} = 1.286 + 0.453 \\cdot hsGPA + 0.0094 \\cdot ACT$$"
   ]
  },
  {
   "cell_type": "code",
   "execution_count": 1,
   "id": "material-benjamin",
   "metadata": {},
   "outputs": [],
   "source": [
    "# Import modules\n",
    "import wooldridge as woo\n",
    "import statsmodels.formula.api as smf"
   ]
  },
  {
   "cell_type": "code",
   "execution_count": 2,
   "id": "local-fleet",
   "metadata": {},
   "outputs": [],
   "source": [
    "# Import gpa1 data set\n",
    "gpa1 = woo.dataWoo('gpa1')"
   ]
  },
  {
   "cell_type": "code",
   "execution_count": 3,
   "id": "centered-acrylic",
   "metadata": {},
   "outputs": [
    {
     "name": "stdout",
     "output_type": "stream",
     "text": [
      "Regression Summary Output: \n",
      "                            OLS Regression Results                            \n",
      "==============================================================================\n",
      "Dep. Variable:                 colGPA   R-squared:                       0.176\n",
      "Model:                            OLS   Adj. R-squared:                  0.164\n",
      "Method:                 Least Squares   F-statistic:                     14.78\n",
      "Date:                Sun, 09 May 2021   Prob (F-statistic):           1.53e-06\n",
      "Time:                        21:38:29   Log-Likelihood:                -46.573\n",
      "No. Observations:                 141   AIC:                             99.15\n",
      "Df Residuals:                     138   BIC:                             108.0\n",
      "Df Model:                           2                                         \n",
      "Covariance Type:            nonrobust                                         \n",
      "==============================================================================\n",
      "                 coef    std err          t      P>|t|      [0.025      0.975]\n",
      "------------------------------------------------------------------------------\n",
      "Intercept      1.2863      0.341      3.774      0.000       0.612       1.960\n",
      "hsGPA          0.4535      0.096      4.733      0.000       0.264       0.643\n",
      "ACT            0.0094      0.011      0.875      0.383      -0.012       0.031\n",
      "==============================================================================\n",
      "Omnibus:                        3.056   Durbin-Watson:                   1.885\n",
      "Prob(Omnibus):                  0.217   Jarque-Bera (JB):                2.469\n",
      "Skew:                           0.199   Prob(JB):                        0.291\n",
      "Kurtosis:                       2.488   Cond. No.                         298.\n",
      "==============================================================================\n",
      "\n",
      "Notes:\n",
      "[1] Standard Errors assume that the covariance matrix of the errors is correctly specified.\n",
      "\n"
     ]
    }
   ],
   "source": [
    "# Create the model and print the summary output\n",
    "reg = smf.ols(formula = 'colGPA ~ hsGPA + ACT', data = gpa1)\n",
    "results = reg.fit()\n",
    "print(f'Regression Summary Output: \\n{results.summary()}\\n')"
   ]
  },
  {
   "cell_type": "markdown",
   "id": "convinced-vulnerability",
   "metadata": {},
   "source": [
    "#### Wooldridge, Example 3.4: Determinants of College GPA\n",
    "\n",
    "For the regression run in Example 3.1, the output reports $R^2$ = 0.176, so about 17.6% of the variance in college GPA is explained by the two regressors.\n",
    "\n",
    "#### Examples 3.2, 3.3, 3.5, 3.6: Further Multiple Regression Examples\n",
    "\n",
    "In order ot get a feeling of the methods and results, we present the analyses including the full regression tables of the mentioned Examples from Wooldridge (2019). See Wooldridge (2019) for descriptions of the data sets and variables and for comments on the results."
   ]
  },
  {
   "cell_type": "code",
   "execution_count": null,
   "id": "controlled-passenger",
   "metadata": {},
   "outputs": [],
   "source": []
  },
  {
   "cell_type": "code",
   "execution_count": null,
   "id": "generous-senate",
   "metadata": {},
   "outputs": [],
   "source": []
  },
  {
   "cell_type": "code",
   "execution_count": null,
   "id": "included-inspiration",
   "metadata": {},
   "outputs": [],
   "source": []
  },
  {
   "cell_type": "code",
   "execution_count": null,
   "id": "indonesian-genetics",
   "metadata": {},
   "outputs": [],
   "source": []
  },
  {
   "cell_type": "code",
   "execution_count": null,
   "id": "actual-addiction",
   "metadata": {},
   "outputs": [],
   "source": []
  },
  {
   "cell_type": "code",
   "execution_count": null,
   "id": "spread-final",
   "metadata": {},
   "outputs": [],
   "source": []
  },
  {
   "cell_type": "code",
   "execution_count": null,
   "id": "foster-pleasure",
   "metadata": {},
   "outputs": [],
   "source": []
  },
  {
   "cell_type": "code",
   "execution_count": null,
   "id": "floppy-marine",
   "metadata": {},
   "outputs": [],
   "source": []
  },
  {
   "cell_type": "code",
   "execution_count": null,
   "id": "seventh-doubt",
   "metadata": {},
   "outputs": [],
   "source": []
  },
  {
   "cell_type": "code",
   "execution_count": null,
   "id": "capital-cooper",
   "metadata": {},
   "outputs": [],
   "source": []
  },
  {
   "cell_type": "code",
   "execution_count": null,
   "id": "english-judges",
   "metadata": {},
   "outputs": [],
   "source": []
  },
  {
   "cell_type": "code",
   "execution_count": null,
   "id": "static-binary",
   "metadata": {},
   "outputs": [],
   "source": []
  },
  {
   "cell_type": "code",
   "execution_count": null,
   "id": "lesbian-copyright",
   "metadata": {},
   "outputs": [],
   "source": []
  },
  {
   "cell_type": "code",
   "execution_count": null,
   "id": "handy-community",
   "metadata": {},
   "outputs": [],
   "source": []
  },
  {
   "cell_type": "code",
   "execution_count": null,
   "id": "architectural-cannon",
   "metadata": {},
   "outputs": [],
   "source": []
  },
  {
   "cell_type": "code",
   "execution_count": null,
   "id": "aggregate-learning",
   "metadata": {},
   "outputs": [],
   "source": []
  },
  {
   "cell_type": "code",
   "execution_count": null,
   "id": "standard-georgia",
   "metadata": {},
   "outputs": [],
   "source": []
  },
  {
   "cell_type": "code",
   "execution_count": null,
   "id": "ready-realtor",
   "metadata": {},
   "outputs": [],
   "source": []
  },
  {
   "cell_type": "code",
   "execution_count": null,
   "id": "angry-postcard",
   "metadata": {},
   "outputs": [],
   "source": []
  },
  {
   "cell_type": "code",
   "execution_count": null,
   "id": "guilty-joshua",
   "metadata": {},
   "outputs": [],
   "source": []
  },
  {
   "cell_type": "code",
   "execution_count": null,
   "id": "turned-sound",
   "metadata": {},
   "outputs": [],
   "source": []
  },
  {
   "cell_type": "code",
   "execution_count": null,
   "id": "later-former",
   "metadata": {},
   "outputs": [],
   "source": []
  }
 ],
 "metadata": {
  "kernelspec": {
   "display_name": "Python 3",
   "language": "python",
   "name": "python3"
  },
  "language_info": {
   "codemirror_mode": {
    "name": "ipython",
    "version": 3
   },
   "file_extension": ".py",
   "mimetype": "text/x-python",
   "name": "python",
   "nbconvert_exporter": "python",
   "pygments_lexer": "ipython3",
   "version": "3.7.1"
  }
 },
 "nbformat": 4,
 "nbformat_minor": 5
}
