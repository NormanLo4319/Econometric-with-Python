{
 "cells": [
  {
   "cell_type": "markdown",
   "id": "transsexual-feelings",
   "metadata": {},
   "source": [
    "## Simple Linear Regression Analysis\n",
    "\n",
    "Econometric methods such as regression can help overcome the problem of complete uncertainty, guide planning and decision-making. Of course, building a model is not an easy task. Models shoudl meet certain criteria (for example, a model should not suffer from serial correlation) in order to be valid, and a lot of work is usually needed before we achieve a good model. Furthermore, much decision-making is required regarding which variables to include in the model. Too many may cause problems (unneeded variables misspecification), while too few may cause other problems (omitted variables misspecification or incorrect functional form).\n",
    "\n",
    "The classical linear regression model is a way of examining the nature and form of the relationships between two or more variables. In this section we consider the case of only two variables. One important issue in the regression analysis is the direction of causation between the two varaibles; in other words, we want to know which variable is affecting the other. Alternatively, this can be stated as which variable depends on the other. Therefore we refer to the variable as the dependent variable (usually denoted by *y*) and the independent or explanatory variable (usually denoted by *x*). We want to explain / predict the value of *y* for different values of the explanatory variable *x*.\n",
    "\n",
    "#### Topics:\n",
    "\n",
    "- Simple Linear Regression\n",
    "- Coefficients, Fitted Values, and Residuals\n",
    "- Goodness of Fit\n",
    "- Regression through the Origin and Regression on an Constant\n",
    "- Expected Values, Variances, and Standard Errors\n",
    "- Monte Carlo Simulations\n",
    "\n",
    "### Simple OLS Regression:\n",
    "\n",
    "We are concerned with estimating the population parameters $\\beta_0$ and $\\beta_1$ of the simple linear regrsssion model\n",
    "\n",
    "$$y = \\beta_0 + \\beta_1 x + u$$\n",
    "\n",
    "from a random sample of *y* and *x*. According to Wooldridge (2019, Section 2.2), the ordinary least squares (OLS) estimator are\n",
    "\n",
    "$$\\hat{\\beta}_0 = \\bar{y} - \\hat{\\beta}_1 \\bar{x}$$\n",
    "\n",
    "$$\\hat{\\beta}_1 = \\frac{Cov(x, y)}{Var(x)}$$\n",
    "\n",
    "Based on these estimated parameters, the OLS regression line is \n",
    "\n",
    "$$\\hat{y} = \\hat{\\beta}_0 + \\hat{\\beta}_1 x$$\n",
    "\n",
    "For a given sample, we just need to calculate the four statistics $\\bar{y}, \\bar{x}, Cov(x, y), Var(x)$ and plug them into these equations. We alreayd know how to make these calculations in *Python*. Let's do it!\n",
    "\n",
    "---\n",
    "\n",
    "#### Wooldridge, Example 2.3: CEO Salary and Return on Equity\n",
    "\n",
    "We are using the data set *CEOSAL1* we alreayd analyzed in the previous section. We consider the simple regression model\n",
    "\n",
    "$$salary = \\beta_0 + \\beta_1 roe + u$$\n",
    "\n",
    "where *salary* is the salary of a CEO in thousand dollars and *roe* is the return on investment in percent. We first load the modules and the data set. We also calculate the four statistics we need for the OLS formulas by hand. Finally, the parameter estimated are caculated. So the OLS regression line is\n",
    "\n",
    "$$\\hat{salary} = 963.1913 + 18.50119 \\cdot roe$$"
   ]
  },
  {
   "cell_type": "code",
   "execution_count": 1,
   "id": "copyrighted-intake",
   "metadata": {},
   "outputs": [],
   "source": [
    "# Import modules\n",
    "import wooldridge as woo\n",
    "import numpy as np"
   ]
  },
  {
   "cell_type": "code",
   "execution_count": 2,
   "id": "southwest-festival",
   "metadata": {},
   "outputs": [],
   "source": [
    "# Load the CEOSAL1 data set and assign the variables\n",
    "ceosal1 = woo.dataWoo('ceosal1')\n",
    "x = ceosal1['roe']\n",
    "y = ceosal1['salary']"
   ]
  },
  {
   "cell_type": "code",
   "execution_count": 3,
   "id": "ready-fourth",
   "metadata": {},
   "outputs": [],
   "source": [
    "# Calculate the statistics for OLS formulas:\n",
    "cov_xy = np.cov(x, y)[1, 0]  # access 2nd row and 1st column of covariance matrix\n",
    "var_x = np.var(x, ddof = 1)\n",
    "x_bar = np.mean(x)\n",
    "y_bar = np.mean(y)"
   ]
  },
  {
   "cell_type": "code",
   "execution_count": 4,
   "id": "stable-tiffany",
   "metadata": {},
   "outputs": [
    {
     "name": "stdout",
     "output_type": "stream",
     "text": [
      "Interception Coefficient: 963.1913364725577\n",
      "\n",
      "Slope Coefficient: 18.50118634521493\n",
      "\n"
     ]
    }
   ],
   "source": [
    "# Manual calculation of OLS coefficients:\n",
    "b1 = cov_xy / var_x\n",
    "b0 = y_bar - b1 * x_bar\n",
    "print(f'Interception Coefficient: {b0}\\n')\n",
    "print(f'Slope Coefficient: {b1}\\n')"
   ]
  },
  {
   "cell_type": "markdown",
   "id": "looking-bacteria",
   "metadata": {},
   "source": [
    "While calculating OLS coefficients using this pedestrian approach is straightforward, there is a more convenient way to do it. Given the importance of OLS regression, it is not surprising that many *Python* modules have a specialized command to do the calculations automatically. In the following notebook, we will often use module **statsmodels** to apply linear regression and other econometric methods. More information about the module is provided by [Seabold and Perktold (2010)](https://conference.scipy.org/proceedings/scipy2010/pdfs/seabold.pdf). When working with statsmodels, the first line of code often is:\n",
    "\n",
    "``` Python\n",
    "import statsmodels.formula.api as smf\n",
    "```\n",
    "\n",
    "If the data frame sample contains the values of the dependent variable in column **y** and those of the regressor in the column **x**, we can calculate the OLS coefficients as\n",
    "\n",
    "``` Python\n",
    "reg = smf.ols(forumla = 'y ~ x', data = sample)\n",
    "result = reg.fit()\n",
    "```\n",
    "\n",
    "The first argument **y ~ x** is called a **formula**. Essentially, it means that we want to model a left-hand-side variable **y** to be explained by a right-hand-side variable **x** in a linear fashion. We will discuss more general model forumlae in later section. In the second line of code, the actual calculation of OLS coefficients and many other results are performed by calling the method **fit()**.\n",
    "\n",
    "Finally, all kind of results are assigned to the variable **result**. The name could of course be anything, for example **yummy_chocolate_chip_cookies**, but choosing intuitive variable names makes our life easier. As already mentioned, the referened object does not only include the OLS coefficients, but also information on the data source and much more we will get to know and use later on.\n",
    "\n",
    "In the following example, we repeat the analysis we have already done manually. Besides the import of the data, there are only a few lines of code. The output shows how to access both estimated parameters with **result.params**: $\\hat{\\beta}_0$ is labeled **Intercept** and $\\hat{\\beta}_1$ is labeled with the name of the explanatory variable **roe**. The values are the same we already calculated excepted for different rounding in the ouptut."
   ]
  },
  {
   "cell_type": "code",
   "execution_count": 5,
   "id": "accessible-apparel",
   "metadata": {},
   "outputs": [],
   "source": [
    "# Import modules\n",
    "import statsmodels.formula.api as smf"
   ]
  },
  {
   "cell_type": "code",
   "execution_count": 6,
   "id": "negative-combine",
   "metadata": {},
   "outputs": [
    {
     "name": "stdout",
     "output_type": "stream",
     "text": [
      "OLS Estimated Parameters: \n",
      "Intercept    963.191336\n",
      "roe           18.501186\n",
      "dtype: float64\n",
      "\n"
     ]
    }
   ],
   "source": [
    "reg = smf.ols(formula = 'salary ~ roe', data = ceosal1)\n",
    "results = reg.fit()\n",
    "b = results.params\n",
    "print(f'OLS Estimated Parameters: \\n{b}\\n')"
   ]
  },
  {
   "cell_type": "markdown",
   "id": "advised-collection",
   "metadata": {},
   "source": [
    "From now on, we will reply on the built-in routine in **statsmodels** instead of doing the calculations manually. It is not only more convenient for calculating the coefficients, but also for further analyses as we will see soon.\n",
    "\n",
    "Given the results from a regression, plotting the regression line is straightforward. As we have already seen in the plotting section, the command **plot()** can add points to a graph. In this case, we simply supply the regressor **roe** and the predicted values (available under **result.fittedvalues**) and connect them by a line."
   ]
  },
  {
   "cell_type": "code",
   "execution_count": 7,
   "id": "chronic-shepherd",
   "metadata": {},
   "outputs": [],
   "source": [
    "# Import module\n",
    "import matplotlib.pyplot as plt"
   ]
  },
  {
   "cell_type": "code",
   "execution_count": 8,
   "id": "mature-guest",
   "metadata": {},
   "outputs": [
    {
     "data": {
      "image/png": "[encoded data removed]",
      "text/plain": [
       "<Figure size 432x288 with 1 Axes>"
      ]
     },
     "metadata": {
      "needs_background": "light"
     },
     "output_type": "display_data"
    }
   ],
   "source": [
    "# Scatter plot and fitted values:\n",
    "plt.plot('roe', 'salary', data = ceosal1, color = 'grey',\n",
    "        marker = 'o', linestyle = '')\n",
    "plt.plot(ceosal1['roe'], results.fittedvalues, \n",
    "         color = 'black', linestyle = '-')\n",
    "plt.ylabel('Salary')\n",
    "plt.xlabel('Return on Equity')\n",
    "plt.savefig('images/simple_reg_1.png')\n",
    "plt.show()\n",
    "plt.close()"
   ]
  },
  {
   "cell_type": "markdown",
   "id": "accredited-radius",
   "metadata": {},
   "source": [
    "#### Wooldridge, Example 2.4: Wage and Education\n",
    "\n",
    "We are using the data set *WAGE1*. We are interested in studying the relation between education and wage, and our regression models is\n",
    "\n",
    "$$wage = \\beta_0 + \\beta_1 education + u$$\n",
    "\n",
    "In the following example, we analyze the data and find that the OLS regression line is\n",
    "\n",
    "$$\\hat{wage} = -0.90 + 0.54 \\cdot education$$\n",
    "\n",
    "One additional year of education is associated with an increase of typical wage by about 54 cents an hour."
   ]
  },
  {
   "cell_type": "code",
   "execution_count": null,
   "id": "social-error",
   "metadata": {},
   "outputs": [],
   "source": [
    "# Import modules\n",
    "import wooldridge as woo\n",
    "import statsmodels.forumla.api as smf"
   ]
  },
  {
   "cell_type": "code",
   "execution_count": null,
   "id": "prepared-morning",
   "metadata": {},
   "outputs": [],
   "source": [
    "# Loading the wage1 data set\n",
    "wage1 = woo.dataWoo('wage1')"
   ]
  },
  {
   "cell_type": "code",
   "execution_count": null,
   "id": "latest-individual",
   "metadata": {},
   "outputs": [],
   "source": [
    "# Build the OLS regression model\n",
    "reg = smf.ols(formula = 'wage ~ educ', data = wage1)\n",
    "\n",
    "# Create the model fit\n",
    "results = reg.fit()\n",
    "\n",
    "# Extract and print the estimated parameters\n",
    "b = results.params\n",
    "print(f'Estimated Parameters: \\n{b}\\n')"
   ]
  },
  {
   "cell_type": "markdown",
   "id": "broken-parallel",
   "metadata": {},
   "source": [
    "#### Wooldridge, Example 2.5: Voting Outcomes and Campaign Expenditures\n",
    "\n",
    "The data set *VOTE1* contains information on campaign expenditure (*shareA* = share of campaign spending in %) and election outcomes (*voteA* = share of vote in %). The regression model\n",
    "\n",
    "$$voteA = \\beta_0 + \\beta_1 shareA + u$$\n",
    "\n",
    "is estimated in the following example. The OLS regression line turns out to be \n",
    "\n",
    "$$\\hat{voteA} = 26.81 + 0.464 \\cdot shareA$$\n",
    "\n",
    "We can also plot the regression line (fitted values) in the scatter plot with the actual data points using the **plot()** command."
   ]
  },
  {
   "cell_type": "code",
   "execution_count": null,
   "id": "accomplished-final",
   "metadata": {},
   "outputs": [],
   "source": [
    "# Import modules\n",
    "import wooldridge as woo\n",
    "import statsmodels.formula.api as smf\n",
    "import matplotlib.pyplot as plt"
   ]
  },
  {
   "cell_type": "code",
   "execution_count": null,
   "id": "fancy-interface",
   "metadata": {},
   "outputs": [],
   "source": [
    "# Load the vote1 data set\n",
    "vote1 =woo.dataWoo('vote1')"
   ]
  },
  {
   "cell_type": "code",
   "execution_count": null,
   "id": "mobile-experience",
   "metadata": {},
   "outputs": [],
   "source": [
    "# Build the OLS regression model\n",
    "reg = smf.ols(formula = 'voteA ~ shareA', data = vote1)\n",
    "\n",
    "# Create the model fit\n",
    "results = reg.fit()\n",
    "\n",
    "# Extract and print the estimated parameters\n",
    "b = results.params\n",
    "print(f'Estimated Parameters: \\n{b}\\n')"
   ]
  },
  {
   "cell_type": "code",
   "execution_count": null,
   "id": "novel-marsh",
   "metadata": {},
   "outputs": [],
   "source": [
    "# Create scatter plot with the fitted values\n",
    "plt.plot('shareA', 'voteA', data = vote1,\n",
    "        color = 'grey', marker = 'o', linestyle = '')\n",
    "plt.plot(vote1['shareA'], results.fittedvalues,\n",
    "        color = 'black', linestyle = '-')\n",
    "plt.ylabel('Share of Vote in %')\n",
    "plt.xlabel('Share of Campaign Spending in %')\n",
    "plt.show()\n",
    "plt.savefig('images/example_2.5.png')\n",
    "plt.close()"
   ]
  },
  {
   "cell_type": "markdown",
   "id": "assigned-japanese",
   "metadata": {},
   "source": [
    "### Coefficients, Fitted Values, and Residuals\n",
    "\n",
    "The object returned by the model **fit** contains all relevant information on the regression. Since this information is distributed across multiple object local variables of the returned object, we can access them with the syntax **resultobject.local_var_name**. After defining the regression results object **result** in previous examples. For instance, we can access the OLS coefficients with\n",
    "\n",
    "``` Python\n",
    "results.params\n",
    "```\n",
    "\n",
    "The coefficient object has names attached to its elements. The name of the intercept parameter $\\hat{\\beta}_0$ is **Intercept** and the name of the slope parameter $\\hat{\\beta}_1$ is the variable name of the regressor **x**. In this way, we can access the parameters separately by using either the position (0 or 1) or the name as an index to the coefficients object. For example, we can access intercept and slope parameter by\n",
    "\n",
    "``` Python\n",
    "# Intercept parameter\n",
    "b[0]\n",
    "\n",
    "# Slope parameter\n",
    "b['roe']\n",
    "```\n",
    "\n",
    "Given these parameter estimates, calculating the predicted values $\\hat{y}_i$ and residual $\\hat{u}_i$ for each observation $i = 1, 2, 3, ..., n$ is easy:\n",
    "\n",
    "$$\\hat{y}_i = \\hat{\\beta}_0 + \\hat{\\beta}_1 \\cdot x_i$$\n",
    "\n",
    "$$\\hat{u}_i = y_i - \\hat{y}_i$$\n",
    "\n",
    "If the values of the dependent and independet variables are stored in a data frame **dataset** as **y** and **x** respectively, we can estimate the model and do the calculations fo these equations for all observations jointly using the code:\n",
    "\n",
    "``` Python\n",
    "reg = smf.ols(formula = 'y ~ x', data = dataset)\n",
    "results = reg.fit()\n",
    "b = results.params\n",
    "y_hat = b[0] + b[1] * dataset['x']\n",
    "u_hat = dataset['y'] - y_hat\n",
    "```\n",
    "\n",
    "We can also use a more black-box approach which will give exactly the same result using the precalculated variables **fittedvalues** and **resid** on the regression result object:\n",
    "\n",
    "``` Python\n",
    "reg = smf.ols(formula = 'y ~ x', data = dataset)\n",
    "results = reg.fit()\n",
    "y_hat = results.fittedvalues\n",
    "u_hat = results.resid\n",
    "```\n",
    "\n",
    "#### Wooldridge, Example 2.6: CEO Salary and Return on Equity\n",
    "\n",
    "We extend the regression example on the return on equity of a firm and the salary of its CEO in Example 2.3. After the OLS regression, we calculate fitted values and residuals. A table similar to Wooldridge (2019, Table 2.2) is generated displaying the values for the first 15 observations. "
   ]
  },
  {
   "cell_type": "code",
   "execution_count": null,
   "id": "still-freight",
   "metadata": {},
   "outputs": [],
   "source": [
    "# Import modules\n",
    "import wooldridge as woo\n",
    "import pandas as pd\n",
    "import statsmodels.formula.api as smf"
   ]
  },
  {
   "cell_type": "code",
   "execution_count": null,
   "id": "metropolitan-saudi",
   "metadata": {},
   "outputs": [],
   "source": [
    "# Load the CEOSAL1 data set \n",
    "ceosal1 = woo.dataWoo('ceosal1')"
   ]
  },
  {
   "cell_type": "code",
   "execution_count": null,
   "id": "charged-bridal",
   "metadata": {},
   "outputs": [],
   "source": [
    "# Build the OLS regression model and create model fit\n",
    "reg = smf.ols(formula = 'salary ~ roe', data = ceosal1)\n",
    "results = reg.fit()"
   ]
  },
  {
   "cell_type": "code",
   "execution_count": null,
   "id": "black-tunisia",
   "metadata": {},
   "outputs": [],
   "source": [
    "# Obtain predicted values and residuals\n",
    "salary_hat = results.fittedvalues\n",
    "u_hat = results.resid"
   ]
  },
  {
   "cell_type": "code",
   "execution_count": null,
   "id": "middle-mount",
   "metadata": {},
   "outputs": [],
   "source": [
    "# Create Wooldridge, Table 2.2\n",
    "table = pd.DataFrame({'roe': ceosal1['roe'],\n",
    "                     'salary': ceosal1['salary'],\n",
    "                     'Predicted Salary': salary_hat,\n",
    "                     'Residual': u_hat})\n",
    "print(f'Table 2.2: \\n{table.head(15)}\\n')"
   ]
  },
  {
   "cell_type": "markdown",
   "id": "effective-binding",
   "metadata": {},
   "source": [
    "Wooldridge (2019, Section 2.3) presents and discusses three properties of OLS statistics which we will confirm for an example.\n",
    "\n",
    "Property (1):\n",
    "$$\\sum_{i = 1}^{n} \\hat{u}_i = 0 \\Rightarrow \\bar{u}_i = 0$$\n",
    "\n",
    "Property (2):\n",
    "$$\\sum_{i = 1}^{n} x_i \\hat{u}_i =0 \\Rightarrow Cov(x_i, \\hat{u}_i) = 0$$\n",
    "\n",
    "Property (3):\n",
    "$$\\bar{y} = \\hat{\\beta}_0 + \\hat{\\beta}_1 \\cdot \\bar{x}$$\n",
    "\n",
    "\n",
    "#### Wooldridge, Example 2.7: Wage and Education\n",
    "\n",
    "We alreayd know the regression results when we regress wage on education form Example 2.4. In this example, we calculate fitted values and residuals to confirm the three properties from three equations. Note that *Python* does all calculations in \"double precision\" implying that it is accurate for at least 15 significant digits. The output that checks the first property shows that the average residual is -7.564713e-15 which in scientific notation means $-7.564713 \\cdot 10^{-15} = -0.000000000000007564713$. The reason it is not exactly equal to 0 is a rounding error in the 16th digit. The same holds for the second property: The covariance between the regressor and the residual is zero except for minimal rounding error. Note that running the following code will give you the same accurate digits, but the digits with rounding error will differ. The third property is also confirmed: if we plug the average value of the regressor into the regression line formula, we get the average value of the dependent variable."
   ]
  },
  {
   "cell_type": "code",
   "execution_count": null,
   "id": "geographic-turkish",
   "metadata": {},
   "outputs": [],
   "source": [
    "# Import modules\n",
    "import wooldridge as woo\n",
    "import numpy as np\n",
    "import statsmodels.formula.api as smf"
   ]
  },
  {
   "cell_type": "code",
   "execution_count": null,
   "id": "looking-trash",
   "metadata": {},
   "outputs": [],
   "source": [
    "# Loading the wage1 data set\n",
    "wage1 = woo.dataWoo('wage1')\n",
    "\n",
    "# Build the OLS regression model\n",
    "reg = smf.ols(formula = 'wage ~ educ', data = wage1)\n",
    "\n",
    "# Create the model fit\n",
    "results = reg.fit()\n",
    "\n",
    "# Obtain coefficients, predicted values and residuals\n",
    "b = results.params\n",
    "wage_hat = results.fittedvalues\n",
    "u_hat = results.resid"
   ]
  },
  {
   "cell_type": "code",
   "execution_count": null,
   "id": "ignored-pulse",
   "metadata": {},
   "outputs": [],
   "source": [
    "# Confirm property (1)\n",
    "u_hat_mean = np.mean(u_hat)\n",
    "print(f'Average Residuals: {u_hat_mean}\\n')"
   ]
  },
  {
   "cell_type": "code",
   "execution_count": null,
   "id": "dedicated-appreciation",
   "metadata": {},
   "outputs": [],
   "source": [
    "# Confirm property (2)\n",
    "educ_u_cov = np.cov(wage1['educ'], u_hat)[1, 0]\n",
    "print(f'Covariance between Education and Residuals: {educ_u_cov}\\n')"
   ]
  },
  {
   "cell_type": "code",
   "execution_count": null,
   "id": "historic-mongolia",
   "metadata": {},
   "outputs": [],
   "source": [
    "# Confirm property (3)\n",
    "educ_mean = np.mean(wage1['educ'])\n",
    "wage_pred = b[0] + b[1] * educ_mean\n",
    "print(f'Predicted Average Wage: {wage_pred}\\n')\n",
    "\n",
    "wage_mean = np.mean(wage1['wage'])\n",
    "print(f'actual Average Wage: {wage_mean}\\n')"
   ]
  },
  {
   "cell_type": "markdown",
   "id": "outside-helping",
   "metadata": {},
   "source": [
    "### Goodness of Fit\n",
    "\n",
    "The total sum of squares (SST), explained sum of squares (SSE) and residual sum of squares (SSR) can be written as\n",
    "\n",
    "$$SST = \\sum_{i = 1}^n (y_i - \\bar{y})^2 = (n - 1) \\cdot Var(y)$$\n",
    "\n",
    "$$SSE = \\sum_{i = 1}^n (\\hat{y}_i - \\bar{y})^2 = (n - 1) \\cdot Var(\\hat{y})$$\n",
    "\n",
    "$$SSR = \\sum_{i = 1}^n (\\hat{u}_i - 0)^2 = (n - 1) \\cdot Var(\\hat{u})$$\n",
    "\n",
    "where Var(x) is the sample variance $\\frac{1}{n - 1} \\sum_{i = 1}^n(x_i - \\bar{x})^2$.\n",
    "\n",
    "Wooldridge (2019, Equation 2.38) defines the coefficient of determination in terms of these terms. Because (n - 1) cancels out, it can be equivalently written as \n",
    "\n",
    "$$R^2 = \\frac{Var(\\hat{y})}{Var(y)} = 1 - \\frac{Var(\\hat{u})}{Var(y)}$$\n",
    "\n",
    "#### Wooldridge, Example 2.8: CEO Salary and Return on Equity\n",
    "\n",
    "In the regression alreayd studied in Example 2.6, the coefficient of determination is 0.0132. This is calculated in the two ways of $R^2$ equation in the following example. In addition, it is calculated as the squared correlation coefficient of $y$ and $\\hat{y}$. Not surprisingly, all versions of these calculations produce the same result (they are not exactly equal to each other because of the rounding error in the 16th digit)."
   ]
  },
  {
   "cell_type": "code",
   "execution_count": null,
   "id": "transsexual-africa",
   "metadata": {},
   "outputs": [],
   "source": [
    "# Import modules\n",
    "import wooldridge as woo\n",
    "import numpy as np\n",
    "import statsmodels.formula.api as smf"
   ]
  },
  {
   "cell_type": "code",
   "execution_count": null,
   "id": "private-covering",
   "metadata": {},
   "outputs": [],
   "source": [
    "# Load the CEOSAL1 data set \n",
    "ceosal1 = woo.dataWoo('ceosal1')\n",
    "\n",
    "# Build the OLS regression model and create model fit\n",
    "reg = smf.ols(formula = 'salary ~ roe', data = ceosal1)\n",
    "results = reg.fit()\n",
    "\n",
    "# Obtain predicted values and residuals\n",
    "salary_hat = results.fittedvalues\n",
    "u_hat = results.resid"
   ]
  },
  {
   "cell_type": "code",
   "execution_count": null,
   "id": "miniature-bradford",
   "metadata": {},
   "outputs": [],
   "source": [
    "# Calculate R^2 in three different ways:\n",
    "sal = ceosal1['salary']\n",
    "R2_a = np.var(salary_hat, ddof = 1) / np.var(sal, ddof = 1)\n",
    "R2_b = 1 - np.var(u_hat, ddof = 1) / np.var(sal, ddof = 1)\n",
    "R2_c = np.corrcoef(sal, salary_hat)[1, 0] ** 2\n",
    "\n",
    "# Print the results\n",
    "print(f'R Square Method A: {R2_a}\\n')\n",
    "print(f'R Square Method B: {R2_b}\\n')\n",
    "print(f'R Square Method C: {R2_c}\\n')"
   ]
  },
  {
   "cell_type": "markdown",
   "id": "basic-rescue",
   "metadata": {},
   "source": [
    "Many interesting results for a regression can be displayed by calling the method **summary()**. You call this method on the object returned by the method **fit()**. The output will display\n",
    "\n",
    "- A block of general information about the regression model. It contains also other information about the estimation of which only $R^2$ is of interest to us so far. It is reported as **R-squared**.\n",
    "- A coefficient table. So far, we only discussed the OLS coefficients shown in the first column. The next columns will be introducd below.\n",
    "- A block of diagnostics regarding the residuals. We will discuss some of them later.\n",
    "\n",
    "When we are only interested in the coefficients and their significance, we will often switch to a more compact presentation of results. This is demonstrated with the object **table** in this example."
   ]
  },
  {
   "cell_type": "code",
   "execution_count": null,
   "id": "environmental-corrections",
   "metadata": {},
   "outputs": [],
   "source": [
    "# Import modules\n",
    "import wooldridge as woo\n",
    "import pandas as pd\n",
    "import statsmodels.formula.api as smf"
   ]
  },
  {
   "cell_type": "code",
   "execution_count": null,
   "id": "elect-former",
   "metadata": {},
   "outputs": [],
   "source": [
    "# Load the vote1 data set\n",
    "vote1 =woo.dataWoo('vote1')\n",
    "\n",
    "# Build the OLS regression model\n",
    "reg = smf.ols(formula = 'voteA ~ shareA', data = vote1)\n",
    "\n",
    "# Create the model fit\n",
    "results = reg.fit()"
   ]
  },
  {
   "cell_type": "code",
   "execution_count": null,
   "id": "toxic-clearance",
   "metadata": {},
   "outputs": [],
   "source": [
    "# Print results using summary\n",
    "print(f'Summary Output: \\n{results.summary()}\\n')\n",
    "\n",
    "# Print regression table\n",
    "table = pd.DataFrame({Parameters: round(results.params, 4),\n",
    "                     Standard Errors: round(results.bse, 4),\n",
    "                     t-values: round(results.tvalues, 4),\n",
    "                     p-values: round(results.pvalues, 4)})\n",
    "print(f'Regression Table: \\n{table}\\n')"
   ]
  },
  {
   "cell_type": "markdown",
   "id": "affiliated-loading",
   "metadata": {},
   "source": [
    "### Nonlinearities\n",
    "\n",
    "For the estimation of logarithmic or semi-logarithmic models, the respective formula can be directly entered into the specification of **smf.ols()** as demonstrated in the following examples. For the interpretation as percentage effects and elasticities, see Wooldridge (2019, Section 2.4).\n",
    "\n",
    "#### Wooldridge, Example 2.10: Wage and Education\n",
    "\n",
    "Compared to Example 2.7, we simply change the commnad for estimation to account for a logarithmic specification. The semi-logarithmic specification implies that wages are higher by about 8.3% for indivdiual with an additional year of education.\n",
    "\n",
    "$$log(wage) = \\beta_0 + \\beta_1 education + u$$"
   ]
  },
  {
   "cell_type": "code",
   "execution_count": null,
   "id": "temporal-municipality",
   "metadata": {},
   "outputs": [],
   "source": [
    "# Import modules\n",
    "import wooldridge as woo\n",
    "import numpy as np\n",
    "import statsmodels.formula.api as smf"
   ]
  },
  {
   "cell_type": "code",
   "execution_count": null,
   "id": "ordered-glucose",
   "metadata": {},
   "outputs": [],
   "source": [
    "# Loading the wage1 data set\n",
    "wage1 = woo.dataWoo('wage1')"
   ]
  },
  {
   "cell_type": "code",
   "execution_count": null,
   "id": "portable-arizona",
   "metadata": {},
   "outputs": [],
   "source": [
    "# Estimate log-level model\n",
    "reg = smf.ols(formula = 'np.log(wage) ~ educ', data = wage1)\n",
    "results = reg.fit()\n",
    "b = results.params\n",
    "print(f'Estimated Parameters: \\n{b}\\n')"
   ]
  },
  {
   "cell_type": "markdown",
   "id": "incorporate-elements",
   "metadata": {},
   "source": [
    "#### Wooldridge, Example 2.11: CEO Salary and Firm Sales\n",
    "\n",
    "We study the relationship between the sales of a firm and the salary of its CEO using a log-log specification. The result suggests that if sales increase by 1%, the salary of the CEO tends to increase by 0.257%.\n",
    "\n",
    "$$log(salary) = \\beta_0 + \\beta_1 log(sales) + u$$"
   ]
  },
  {
   "cell_type": "code",
   "execution_count": null,
   "id": "waiting-produce",
   "metadata": {},
   "outputs": [],
   "source": [
    "# Import modules\n",
    "import wooldridge as woo\n",
    "import numpy as np\n",
    "import statsmodels.formula.api as smf"
   ]
  },
  {
   "cell_type": "code",
   "execution_count": null,
   "id": "blind-flush",
   "metadata": {},
   "outputs": [],
   "source": [
    "# Load the CEOSAL1 data set \n",
    "ceosal1 = woo.dataWoo('ceosal1')"
   ]
  },
  {
   "cell_type": "code",
   "execution_count": null,
   "id": "pretty-chuck",
   "metadata": {},
   "outputs": [],
   "source": [
    "# Estimate log-log model\n",
    "reg = smf.ols(formula = 'np.log(salary) ~ np.log(sales)', data = ceosal1)\n",
    "results = reg.fit()\n",
    "b = results.params\n",
    "print(f'Estimated Parameters: \\n{b}\\n')"
   ]
  },
  {
   "cell_type": "markdown",
   "id": "aerial-nevada",
   "metadata": {},
   "source": [
    "### Regression through the Origin and Regression on a Constant\n",
    "\n",
    "Wooldridge (2019, Section 2.6) discusses models without an intercept. This implies that the regression line is forced to go through the origin. In *Python*, we can suppress the constant which is otherwise implicitly added to a formula by specifiying\n",
    "\n",
    "``` Python\n",
    "smf.ols('y ~ 0 + x', data = dataset)\n",
    "```\n",
    "\n",
    "instead of **smf.ols('y ~ x', data = dataset)**. The result is a model which only has a slope parameter.\n",
    "\n",
    "Another topic discussed in this section is a linear regression model without a slope parameter, i.e. with a constant only. In this case, the estimated constant will be the sample average of the dependent variable. This can be implemented in *Python* using the code\n",
    "\n",
    "``` Python\n",
    "smf.ols('y ~ 1', data = dataset)\n",
    "```\n",
    "\n",
    "Both special kinds of regression are implemented for the example of the CEO salary and ROE we already analyzed in Example 2.8 and others. The resulting regression lines are plotted which was generated using the last lines of code shown in the output."
   ]
  },
  {
   "cell_type": "code",
   "execution_count": 2,
   "id": "flexible-hacker",
   "metadata": {},
   "outputs": [],
   "source": [
    "# Import modules\n",
    "import wooldridge as woo\n",
    "import numpy as np\n",
    "import statsmodels.formula.api as smf\n",
    "import matplotlib.pyplot as plt"
   ]
  },
  {
   "cell_type": "code",
   "execution_count": 3,
   "id": "juvenile-coast",
   "metadata": {},
   "outputs": [],
   "source": [
    "# Load the CEOSAL1 data set \n",
    "ceosal1 = woo.dataWoo('ceosal1')"
   ]
  },
  {
   "cell_type": "code",
   "execution_count": 4,
   "id": "molecular-wings",
   "metadata": {},
   "outputs": [
    {
     "name": "stdout",
     "output_type": "stream",
     "text": [
      "Estimated Parameters: \n",
      "Intercept    963.191336\n",
      "roe           18.501186\n",
      "dtype: float64\n",
      "\n"
     ]
    }
   ],
   "source": [
    "# Usual OLS regression\n",
    "reg1 = smf.ols(formula = 'salary ~ roe', data = ceosal1)\n",
    "results1 = reg1.fit()\n",
    "b1 = results1.params\n",
    "print(f'Estimated Parameters: \\n{b1}\\n')"
   ]
  },
  {
   "cell_type": "code",
   "execution_count": 5,
   "id": "noted-norfolk",
   "metadata": {},
   "outputs": [
    {
     "name": "stdout",
     "output_type": "stream",
     "text": [
      "Estimated Parameters: \n",
      "roe    63.537955\n",
      "dtype: float64\n",
      "\n"
     ]
    }
   ],
   "source": [
    "# Regression without intercept (through origin)\n",
    "reg2 = smf.ols(formula = 'salary ~ 0 + roe', data = ceosal1)\n",
    "results2 = reg2.fit()\n",
    "b2 = results2.params\n",
    "print(f'Estimated Parameters: \\n{b2}\\n')"
   ]
  },
  {
   "cell_type": "code",
   "execution_count": 6,
   "id": "broken-absolute",
   "metadata": {},
   "outputs": [
    {
     "name": "stdout",
     "output_type": "stream",
     "text": [
      "Estimated Parameters: \n",
      "Intercept    1281.119617\n",
      "dtype: float64\n",
      "\n"
     ]
    }
   ],
   "source": [
    "# Regression without slope (on a constant)\n",
    "reg3 = smf.ols(formula = 'salary ~ 1', data = ceosal1)\n",
    "results3 = reg3.fit()\n",
    "b3 = results3.params\n",
    "print(f'Estimated Parameters: \\n{b3}\\n')"
   ]
  },
  {
   "cell_type": "code",
   "execution_count": 7,
   "id": "north-surrey",
   "metadata": {},
   "outputs": [
    {
     "name": "stdout",
     "output_type": "stream",
     "text": [
      "Average Salary: \n",
      "1281.1196172248804\n",
      "\n"
     ]
    }
   ],
   "source": [
    "# Average salary\n",
    "sal_mean = np.mean(ceosal1['salary'])\n",
    "print(f'Average Salary: \\n{sal_mean}\\n')"
   ]
  },
  {
   "cell_type": "code",
   "execution_count": 10,
   "id": "czech-suite",
   "metadata": {},
   "outputs": [
    {
     "data": {
      "image/png": "[encoded data removed]",
      "text/plain": [
       "<Figure size 432x288 with 1 Axes>"
      ]
     },
     "metadata": {
      "needs_background": "light"
     },
     "output_type": "display_data"
    }
   ],
   "source": [
    "# Scatter plot and fitted values:\n",
    "plt.plot('roe', 'salary', data = ceosal1, color = 'grey',\n",
    "        marker = 'o', linestyle = '', label = '')\n",
    "plt.plot(ceosal1['roe'], results1.fittedvalues, color = 'blue',\n",
    "        linestyle = '-', label = 'Regular OLS')\n",
    "plt.plot(ceosal1['roe'], results2.fittedvalues, color = 'green',\n",
    "        linestyle = ':', label = 'Through Origin')\n",
    "plt.plot(ceosal1['roe'], results3.fittedvalues, color = 'brown',\n",
    "        linestyle = '-.', label = 'Constant Only')\n",
    "plt.ylabel('Salary')\n",
    "plt.xlabel('Return on Equity')\n",
    "plt.legend()\n",
    "plt.show()\n",
    "plt.savefig('images/slr-origin-const.png')\n",
    "plt.close()"
   ]
  },
  {
   "cell_type": "markdown",
   "id": "massive-chapter",
   "metadata": {},
   "source": [
    "### Expected Values, Variances, and Standard Errors\n",
    "\n",
    "Wooldridge (2019) discusses the role of the five assumptions under which the OLS parameter estimators have desirable properties. In short form they are\n",
    "\n",
    "- **SLR.1**: Linear population regression function: $y = \\beta_0 + \\beta_1 x + u$\n",
    "- **SLR.2**: Random sampling of *x* and *y* from the population\n",
    "- **SLR.3**: Variation in the sample values $x_1, x_2, ..., x_n$\n",
    "- **SLR.4**: Zero conditional mean: $E(u|x) = 0$\n",
    "- **SLR.5**: Homoscedasticity: $Var(u|x) = \\sigma^2$\n",
    "\n",
    "Based on those, Wooldridge (2019) shows in Section 2.5:\n",
    "\n",
    "- **Theorem 2.1**: Under **SLR.1 - SLR.4**, OLS parameter estimators are unbiased.\n",
    "- **Theorem 2.2**: Under **SLR.1 - SLR.5**, OLS parameter estimators have a specific sampling variance.\n",
    "\n",
    "Because the formulas for the sampling variance involve the variance of the error term, we also have to estimate it using the unbiased estimator\n",
    "\n",
    "$$\\hat{\\sigma}^2 = \\frac{1}{n - 2} \\cdot \\sum_{i = 1}^{n} \\hat{u}_i^2 = \\frac{n - 1}{n - 2} \\cdot Var(\\hat{u}_i)$$\n",
    "\n",
    "where $Var(\\hat{u}_i) = \\frac{1}{n - 1} \\cdot \\sum_{i = 1}^{n} \\hat{u}_i^2$ is the usual sample variance. We have to use the degrees-of-freedom adjustment to account for the fact that we estimated the two parameters $\\hat{\\beta}_0$ and $\\hat{\\beta}_1$ for constructing the residuals. Its square root $\\hat{\\sigma} = \\sqrt{\\hat{\\sigma}^2}$ is called standard error of the regression (SER) by Wooldridge (2019).\n",
    "\n",
    "The **standard errors (SE) of the estimators** are\n",
    "\n",
    "$$se(\\hat{\\beta}_0) = \\sqrt{\\frac{\\hat{\\sigma}^2 \\bar{x^2}}{\\sum_{i = 1}^n (x - \\bar{x})^2}} = \\frac{1}{\\sqrt{n - 1}} \\cdot \\frac{\\hat{\\sigma}}{sd(x)} \\cdot \\sqrt{\\bar{x^2}}$$\n",
    "\n",
    "$$se(\\hat{\\beta}_1) = \\sqrt{\\frac{\\hat{\\sigma}^2}{\\sum_{i = 1}^n (x - \\bar{x})^2}} = \\frac{1}{\\sqrt{n - 1}} \\cdot \\frac{\\hat{\\sigma}}{sd(x)}$$\n",
    "\n",
    "where $sd(x)$ is the same standard deviation $\\sqrt{\\frac{1}{n-1} \\cdot \\sum_{i=1}^n (x_i - \\bar{x})^2}$.\n",
    "\n",
    "In *Python*, we can obviously evaluate the standard error equations explicitly. But the output of the **summary** command for linear regression results already contains these values. We use the following example to calculate the results in both ways to open the black box of the canned routine and convince ourselves that form now on we can rely on it.\n",
    "\n",
    "#### Wooldridge, Example 2.12: Student Math Performance and the School Lunch Program\n",
    "\n",
    "Using the data set *MEAP93*, we regress a math performance score of schools on the share of students eligible for a federally funded lunch program. Wooldridge (2019) uses this example to demonstrate the importance of assumption SLR.4 and warns us against inerpreting the regression results in a causal way. Here we merely use the example to demonstrate the calculation of standard errors.\n",
    "\n",
    "First we calculate the SER manually using the fact that the residuals $\\hat{u}$ are available as **results.resid**. Then, the SE of the parameters are calculated according to the given SE equations, where the regressor is addressed as the variable in the data frame **meap93['lnchprg']**. Finally, we see the output of the **summary** method. The SE of the parameters are reported in teh second column of the regression table, next to the parameter estimates. We will look at the other colmuns later. All values are exactly the same as the manual results."
   ]
  },
  {
   "cell_type": "code",
   "execution_count": 11,
   "id": "tested-support",
   "metadata": {},
   "outputs": [],
   "source": [
    "# Import modules\n",
    "import wooldridge as woo\n",
    "import numpy as np\n",
    "import statsmodels.formula.api as smf"
   ]
  },
  {
   "cell_type": "code",
   "execution_count": 12,
   "id": "radical-actor",
   "metadata": {},
   "outputs": [],
   "source": [
    "# Load the data set 'meap93'\n",
    "meap93 = woo.dataWoo('meap93')"
   ]
  },
  {
   "cell_type": "code",
   "execution_count": 13,
   "id": "racial-difficulty",
   "metadata": {},
   "outputs": [],
   "source": [
    "# Estimate the model and save the results\n",
    "reg = smf.ols(formula = 'math10 ~ lnchprg', data = meap93)\n",
    "results = reg.fit()"
   ]
  },
  {
   "cell_type": "code",
   "execution_count": 14,
   "id": "adjacent-allocation",
   "metadata": {},
   "outputs": [],
   "source": [
    "# Number of observations\n",
    "n = results.nobs"
   ]
  },
  {
   "cell_type": "code",
   "execution_count": 15,
   "id": "applied-bubble",
   "metadata": {},
   "outputs": [
    {
     "name": "stdout",
     "output_type": "stream",
     "text": [
      "Standard Error of the Regressor: 9.565938459482764\n",
      "\n"
     ]
    }
   ],
   "source": [
    "# Calculate SER \n",
    "u_hat_var = np.var(results.resid, ddof = 1)\n",
    "ser = np.sqrt(u_hat_var) * np.sqrt((n - 1) / (n - 2))\n",
    "print(f'Standard Error of the Regressor: {ser}\\n')"
   ]
  },
  {
   "cell_type": "code",
   "execution_count": 16,
   "id": "composite-typing",
   "metadata": {},
   "outputs": [
    {
     "name": "stdout",
     "output_type": "stream",
     "text": [
      "Standard Error of Beta0: 0.034839334258369645\n",
      "\n",
      "Standard Error of Beta1: 0.9975823856755016\n",
      "\n"
     ]
    }
   ],
   "source": [
    "# Calculate SE of beta0 and beta1, respectively\n",
    "lnchprg_sq_mean = np.mean(meap93['lnchprg']**2)\n",
    "lnchprg_var = np.var(meap93['lnchprg'], ddof = 1)\n",
    "b1_se = ser / (np.sqrt(lnchprg_var) * np.sqrt(n - 1)) * np.sqrt(lnchprg_sq_mean)\n",
    "b0_se = ser / (np.sqrt(lnchprg_var) * np.sqrt(n - 1))\n",
    "\n",
    "print(f'Standard Error of Beta0: {b0_se}\\n')\n",
    "print(f'Standard Error of Beta1: {b1_se}\\n')"
   ]
  },
  {
   "cell_type": "code",
   "execution_count": 17,
   "id": "gorgeous-industry",
   "metadata": {},
   "outputs": [
    {
     "name": "stdout",
     "output_type": "stream",
     "text": [
      "Regression Summary Table: \n",
      "                            OLS Regression Results                            \n",
      "==============================================================================\n",
      "Dep. Variable:                 math10   R-squared:                       0.171\n",
      "Model:                            OLS   Adj. R-squared:                  0.169\n",
      "Method:                 Least Squares   F-statistic:                     83.77\n",
      "Date:                Thu, 06 May 2021   Prob (F-statistic):           2.75e-18\n",
      "Time:                        21:42:10   Log-Likelihood:                -1499.3\n",
      "No. Observations:                 408   AIC:                             3003.\n",
      "Df Residuals:                     406   BIC:                             3011.\n",
      "Df Model:                           1                                         \n",
      "Covariance Type:            nonrobust                                         \n",
      "==============================================================================\n",
      "                 coef    std err          t      P>|t|      [0.025      0.975]\n",
      "------------------------------------------------------------------------------\n",
      "Intercept     32.1427      0.998     32.221      0.000      30.182      34.104\n",
      "lnchprg       -0.3189      0.035     -9.152      0.000      -0.387      -0.250\n",
      "==============================================================================\n",
      "Omnibus:                       61.162   Durbin-Watson:                   1.908\n",
      "Prob(Omnibus):                  0.000   Jarque-Bera (JB):              105.062\n",
      "Skew:                           0.886   Prob(JB):                     1.53e-23\n",
      "Kurtosis:                       4.743   Cond. No.                         60.4\n",
      "==============================================================================\n",
      "\n",
      "Notes:\n",
      "[1] Standard Errors assume that the covariance matrix of the errors is correctly specified.\n",
      "\n"
     ]
    }
   ],
   "source": [
    "# Automatic calculations using summary method\n",
    "print(f'Regression Summary Table: \\n{results.summary()}\\n')"
   ]
  },
  {
   "cell_type": "markdown",
   "id": "mediterranean-collapse",
   "metadata": {},
   "source": [
    "### Monte Carlo Simulations\n",
    "\n"
   ]
  },
  {
   "cell_type": "code",
   "execution_count": null,
   "id": "capable-frame",
   "metadata": {},
   "outputs": [],
   "source": []
  },
  {
   "cell_type": "code",
   "execution_count": null,
   "id": "contained-chambers",
   "metadata": {},
   "outputs": [],
   "source": []
  }
 ],
 "metadata": {
  "kernelspec": {
   "display_name": "Python 3",
   "language": "python",
   "name": "python3"
  },
  "language_info": {
   "codemirror_mode": {
    "name": "ipython",
    "version": 3
   },
   "file_extension": ".py",
   "mimetype": "text/x-python",
   "name": "python",
   "nbconvert_exporter": "python",
   "pygments_lexer": "ipython3",
   "version": "3.7.1"
  }
 },
 "nbformat": 4,
 "nbformat_minor": 5
}
