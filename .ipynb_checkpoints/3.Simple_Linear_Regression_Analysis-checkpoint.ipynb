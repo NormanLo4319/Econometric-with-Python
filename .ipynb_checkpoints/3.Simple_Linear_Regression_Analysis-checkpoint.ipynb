{
 "cells": [
  {
   "cell_type": "markdown",
   "id": "transsexual-feelings",
   "metadata": {},
   "source": [
    "## Simple Linear Regression Analysis\n",
    "\n",
    "Econometric methods such as regression can help overcome the problem of complete uncertainty, guide planning and decision-making. Of course, building a model is not an easy task. Models shoudl meet certain criteria (for example, a model should not suffer from serial correlation) in order to be valid, and a lot of work is usually needed before we achieve a good model. Furthermore, much decision-making is required regarding which variables to include in the model. Too many may cause problems (unneeded variables misspecification), while too few may cause other problems (omitted variables misspecification or incorrect functional form).\n",
    "\n",
    "The classical linear regression model is a way of examining the nature and form of the relationships between two or more variables. In this section we consider the case of only two variables. One important issue in the regression analysis is the direction of causation between the two varaibles; in other words, we want to know which variable is affecting the other. Alternatively, this can be stated as which variable depends on the other. Therefore we refer to the variable as the dependent variable (usually denoted by *y*) and the independent or explanatory variable (usually denoted by *x*). We want to explain / predict the value of *y* for different values of the explanatory variable *x*.\n",
    "\n",
    "**Topics:**\n",
    "1. Simple Linear Regression\n",
    "2. Coefficients, Fitted Values, and Residuals\n",
    "3. Goodness of Fit\n",
    "4. Regression through the Origin and Regression on an Constant\n",
    "5. Expected Values, Variances, and Standard Errors\n",
    "6. Monte Carlo Simulations\n",
    "\n",
    "### 1. Simple OLS Regression:\n",
    "\n",
    "We are concerned with estimating the population parameters $\\beta_0$ and $\\beta_1$ of the simple linear regrsssion model\n",
    "\n",
    "$$y = \\beta_0 + \\beta_1 x + u$$\n",
    "\n",
    "from a random sample of *y* and *x*. According to Wooldridge (2019, Section 2.2), the ordinary least squares (OLS) estimator are\n",
    "\n",
    "$$\\hat{\\beta}_0 = \\bar{y} - \\hat{\\beta}_1 \\bar{x}$$\n",
    "\n",
    "$$\\hat{\\beta}_1 = \\frac{Cov(x, y)}{Var(x)}$$\n",
    "\n",
    "Based on these estimated parameters, the OLS regression line is \n",
    "\n",
    "$$\\hat{y} = \\hat{\\beta}_0 + \\hat{\\beta}_1 x$$\n",
    "\n",
    "For a given sample, we just need to calculate the four statistics $\\bar{y}, \\bar{x}, Cov(x, y), Var(x)$ and plug them into these equations. We alreayd know how to make these calculations in *Python*. Let's do it!\n",
    "\n",
    "---\n",
    "\n",
    "#### Wooldridge, Example 2.3: CEO Salary and Return on Equity\n",
    "\n",
    "We are using the data set *CEOSAL1* we alreayd analyzed in the previous section. We consider the simple regression model\n",
    "\n",
    "$$salary = \\beta_0 + \\beta_1 roe + u$$\n",
    "\n",
    "where *salary* is the salary of a CEO in thousand dollars and *roe* is the return on investment in percent. We first load the modules and the data set. We also calculate the four statistics we need for the OLS formulas by hand. Finally, the parameter estimated are caculated. So the OLS regression line is\n",
    "\n",
    "$$\\hat{salary} = 963.1913 + 18.50119 \\cdot roe$$"
   ]
  },
  {
   "cell_type": "code",
   "execution_count": 1,
   "id": "copyrighted-intake",
   "metadata": {},
   "outputs": [],
   "source": [
    "# Import modules\n",
    "import wooldridge as woo\n",
    "import numpy as np"
   ]
  },
  {
   "cell_type": "code",
   "execution_count": 2,
   "id": "southwest-festival",
   "metadata": {},
   "outputs": [],
   "source": [
    "# Load the CEOSAL1 data set and assign the variables\n",
    "ceosal1 = woo.dataWoo('ceosal1')\n",
    "x = ceosal1['roe']\n",
    "y = ceosal1['salary']"
   ]
  },
  {
   "cell_type": "code",
   "execution_count": 3,
   "id": "ready-fourth",
   "metadata": {},
   "outputs": [],
   "source": [
    "# Calculate the statistics for OLS formulas:\n",
    "cov_xy = np.cov(x, y)[1, 0]  # access 2nd row and 1st column of covariance matrix\n",
    "var_x = np.var(x, ddof = 1)\n",
    "x_bar = np.mean(x)\n",
    "y_bar = np.mean(y)"
   ]
  },
  {
   "cell_type": "code",
   "execution_count": 4,
   "id": "stable-tiffany",
   "metadata": {},
   "outputs": [
    {
     "name": "stdout",
     "output_type": "stream",
     "text": [
      "Interception Coefficient: 963.1913364725577\n",
      "\n",
      "Slope Coefficient: 18.50118634521493\n",
      "\n"
     ]
    }
   ],
   "source": [
    "# Manual calculation of OLS coefficients:\n",
    "b1 = cov_xy / var_x\n",
    "b0 = y_bar - b1 * x_bar\n",
    "print(f'Interception Coefficient: {b0}\\n')\n",
    "print(f'Slope Coefficient: {b1}\\n')"
   ]
  },
  {
   "cell_type": "markdown",
   "id": "looking-bacteria",
   "metadata": {},
   "source": [
    "While calculating OLS coefficients using this pedestrian approach is straightforward, there is a more convenient way to do it. Given the importance of OLS regression, it is not surprising that many *Python* modules have a specialized command to do the calculations automatically. In the following notebook, we will often use module **statsmodels** to apply linear regression and other econometric methods. More information about the module is provided by [Seabold and Perktold (2010)](https://conference.scipy.org/proceedings/scipy2010/pdfs/seabold.pdf). When working with statsmodels, the first line of code often is:\n",
    "\n",
    "``` Python\n",
    "import statsmodels.formula.api as smf\n",
    "```\n",
    "\n",
    "If the data frame sample contains the values of the dependent variable in column **y** and those of the regressor in the column **x**, we can calculate the OLS coefficients as\n",
    "\n",
    "``` Python\n",
    "reg = smf.ols(forumla = 'y ~ x', data = sample)\n",
    "result = reg.fit()\n",
    "```\n",
    "\n",
    "The first argument **y ~ x** is called a **formula**. Essentially, it means that we want to model a left-hand-side variable **y** to be explained by a right-hand-side variable **x** in a linear fashion. We will discuss more general model forumlae in later section. In the second line of code, the actual calculation of OLS coefficients and many other results are performed by calling the method **fit()**.\n",
    "\n",
    "Finally, all kind of results are assigned to the variable **result**. The name could of course be anything, for example **yummy_chocolate_chip_cookies**, but choosing intuitive variable names makes our life easier. As already mentioned, the referened object does not only include the OLS coefficients, but also information on the data source and much more we will get to know and use later on.\n",
    "\n",
    "In the following example, we repeat the analysis we have already done manually. Besides the import of the data, there are only a few lines of code. The output shows how to access both estimated parameters with **result.params**: $\\hat{\\beta}_0$ is labeled **Intercept** and $\\hat{\\beta}_1$ is labeled with the name of the explanatory variable **roe**. The values are the same we already calculated excepted for different rounding in the ouptut."
   ]
  },
  {
   "cell_type": "code",
   "execution_count": 5,
   "id": "accessible-apparel",
   "metadata": {},
   "outputs": [],
   "source": [
    "# Import modules\n",
    "import statsmodels.formula.api as smf"
   ]
  },
  {
   "cell_type": "code",
   "execution_count": 6,
   "id": "negative-combine",
   "metadata": {},
   "outputs": [
    {
     "name": "stdout",
     "output_type": "stream",
     "text": [
      "OLS Estimated Parameters: \n",
      "Intercept    963.191336\n",
      "roe           18.501186\n",
      "dtype: float64\n",
      "\n"
     ]
    }
   ],
   "source": [
    "reg = smf.ols(formula = 'salary ~ roe', data = ceosal1)\n",
    "results = reg.fit()\n",
    "b = results.params\n",
    "print(f'OLS Estimated Parameters: \\n{b}\\n')"
   ]
  },
  {
   "cell_type": "markdown",
   "id": "advised-collection",
   "metadata": {},
   "source": [
    "From now on, we will reply on the built-in routine in **statsmodels** instead of doing the calculations manually. It is not only more convenient for calculating the coefficients, but also for further analyses as we will see soon.\n",
    "\n",
    "Given the results from a regression, plotting the regression line is straightforward. As we have already seen in the plotting section, the command **plot()** can add points to a graph. In this case, we simply supply the regressor **roe** and the predicted values (available under **result.fittedvalues**) and connect them by a line."
   ]
  },
  {
   "cell_type": "code",
   "execution_count": 7,
   "id": "chronic-shepherd",
   "metadata": {},
   "outputs": [],
   "source": [
    "# Import module\n",
    "import matplotlib.pyplot as plt"
   ]
  },
  {
   "cell_type": "code",
   "execution_count": 8,
   "id": "mature-guest",
   "metadata": {},
   "outputs": [
    {
     "data": {
      "image/png": "[encoded data removed]",
      "text/plain": [
       "<Figure size 432x288 with 1 Axes>"
      ]
     },
     "metadata": {
      "needs_background": "light"
     },
     "output_type": "display_data"
    }
   ],
   "source": [
    "# Scatter plot and fitted values:\n",
    "plt.plot('roe', 'salary', data = ceosal1, color = 'grey',\n",
    "        marker = 'o', linestyle = '')\n",
    "plt.plot(ceosal1['roe'], results.fittedvalues, \n",
    "         color = 'black', linestyle = '-')\n",
    "plt.ylabel('Salary')\n",
    "plt.xlabel('Return on Equity')\n",
    "plt.savefig('images/simple_reg_1.png')\n",
    "plt.show()\n",
    "plt.close()"
   ]
  },
  {
   "cell_type": "markdown",
   "id": "accredited-radius",
   "metadata": {},
   "source": [
    "#### Wooldridge, Example 2.4: Wage and Education\n",
    "\n",
    "We are using the data set *WAGE1*. We are interested in studying the relation between education and wage, and our regression models is\n",
    "\n",
    "$$wage = \\beta_0 + \\beta_1 education + u$$\n",
    "\n",
    "In the following example, we analyze the data and find that the OLS regression line is\n",
    "\n",
    "$$\\hat{wage} = -0.90 + 0.54 \\cdot education$$\n",
    "\n",
    "One additional year of education is associated with an increase of typical wage by about 54 cents an hour."
   ]
  },
  {
   "cell_type": "code",
   "execution_count": 9,
   "id": "social-error",
   "metadata": {},
   "outputs": [],
   "source": [
    "# Import modules\n",
    "import wooldridge as woo\n",
    "import statsmodels.formula.api as smf"
   ]
  },
  {
   "cell_type": "code",
   "execution_count": 10,
   "id": "prepared-morning",
   "metadata": {},
   "outputs": [],
   "source": [
    "# Loading the wage1 data set\n",
    "wage1 = woo.dataWoo('wage1')"
   ]
  },
  {
   "cell_type": "code",
   "execution_count": 11,
   "id": "latest-individual",
   "metadata": {},
   "outputs": [
    {
     "name": "stdout",
     "output_type": "stream",
     "text": [
      "Estimated Parameters: \n",
      "Intercept   -0.904852\n",
      "educ         0.541359\n",
      "dtype: float64\n",
      "\n"
     ]
    }
   ],
   "source": [
    "# Build the OLS regression model\n",
    "reg = smf.ols(formula = 'wage ~ educ', data = wage1)\n",
    "\n",
    "# Create the model fit\n",
    "results = reg.fit()\n",
    "\n",
    "# Extract and print the estimated parameters\n",
    "b = results.params\n",
    "print(f'Estimated Parameters: \\n{b}\\n')"
   ]
  },
  {
   "cell_type": "markdown",
   "id": "broken-parallel",
   "metadata": {},
   "source": [
    "#### Wooldridge, Example 2.5: Voting Outcomes and Campaign Expenditures\n",
    "\n",
    "The data set *VOTE1* contains information on campaign expenditure (*shareA* = share of campaign spending in %) and election outcomes (*voteA* = share of vote in %). The regression model\n",
    "\n",
    "$$voteA = \\beta_0 + \\beta_1 shareA + u$$\n",
    "\n",
    "is estimated in the following example. The OLS regression line turns out to be \n",
    "\n",
    "$$\\hat{voteA} = 26.81 + 0.464 \\cdot shareA$$\n",
    "\n",
    "We can also plot the regression line (fitted values) in the scatter plot with the actual data points using the **plot()** command."
   ]
  },
  {
   "cell_type": "code",
   "execution_count": 12,
   "id": "accomplished-final",
   "metadata": {},
   "outputs": [],
   "source": [
    "# Import modules\n",
    "import wooldridge as woo\n",
    "import statsmodels.formula.api as smf\n",
    "import matplotlib.pyplot as plt"
   ]
  },
  {
   "cell_type": "code",
   "execution_count": 13,
   "id": "fancy-interface",
   "metadata": {},
   "outputs": [],
   "source": [
    "# Load the vote1 data set\n",
    "vote1 =woo.dataWoo('vote1')"
   ]
  },
  {
   "cell_type": "code",
   "execution_count": 14,
   "id": "mobile-experience",
   "metadata": {},
   "outputs": [
    {
     "name": "stdout",
     "output_type": "stream",
     "text": [
      "Estimated Parameters: \n",
      "Intercept    26.812214\n",
      "shareA        0.463827\n",
      "dtype: float64\n",
      "\n"
     ]
    }
   ],
   "source": [
    "# Build the OLS regression model\n",
    "reg = smf.ols(formula = 'voteA ~ shareA', data = vote1)\n",
    "\n",
    "# Create the model fit\n",
    "results = reg.fit()\n",
    "\n",
    "# Extract and print the estimated parameters\n",
    "b = results.params\n",
    "print(f'Estimated Parameters: \\n{b}\\n')"
   ]
  },
  {
   "cell_type": "code",
   "execution_count": 15,
   "id": "novel-marsh",
   "metadata": {},
   "outputs": [
    {
     "data": {
      "image/png": "[encoded data removed]",
      "text/plain": [
       "<Figure size 432x288 with 1 Axes>"
      ]
     },
     "metadata": {
      "needs_background": "light"
     },
     "output_type": "display_data"
    }
   ],
   "source": [
    "# Create scatter plot with the fitted values\n",
    "plt.plot('shareA', 'voteA', data = vote1,\n",
    "        color = 'grey', marker = 'o', linestyle = '')\n",
    "plt.plot(vote1['shareA'], results.fittedvalues,\n",
    "        color = 'black', linestyle = '-')\n",
    "plt.ylabel('Share of Vote in %')\n",
    "plt.xlabel('Share of Campaign Spending in %')\n",
    "plt.show()\n",
    "plt.savefig('images/example_2.5.png')\n",
    "plt.close()"
   ]
  },
  {
   "cell_type": "markdown",
   "id": "assigned-japanese",
   "metadata": {},
   "source": [
    "### 2. Coefficients, Fitted Values, and Residuals\n",
    "\n",
    "The object returned by the model **fit** contains all relevant information on the regression. Since this information is distributed across multiple object local variables of the returned object, we can access them with the syntax **resultobject.local_var_name**. After defining the regression results object **result** in previous examples. For instance, we can access the OLS coefficients with\n",
    "\n",
    "``` Python\n",
    "results.params\n",
    "```\n",
    "\n",
    "The coefficient object has names attached to its elements. The name of the intercept parameter $\\hat{\\beta}_0$ is **Intercept** and the name of the slope parameter $\\hat{\\beta}_1$ is the variable name of the regressor **x**. In this way, we can access the parameters separately by using either the position (0 or 1) or the name as an index to the coefficients object. For example, we can access intercept and slope parameter by\n",
    "\n",
    "``` Python\n",
    "# Intercept parameter\n",
    "b[0]\n",
    "\n",
    "# Slope parameter\n",
    "b['roe']\n",
    "```\n",
    "\n",
    "Given these parameter estimates, calculating the predicted values $\\hat{y}_i$ and residual $\\hat{u}_i$ for each observation $i = 1, 2, 3, ..., n$ is easy:\n",
    "\n",
    "$$\\hat{y}_i = \\hat{\\beta}_0 + \\hat{\\beta}_1 \\cdot x_i$$\n",
    "\n",
    "$$\\hat{u}_i = y_i - \\hat{y}_i$$\n",
    "\n",
    "If the values of the dependent and independet variables are stored in a data frame **dataset** as **y** and **x** respectively, we can estimate the model and do the calculations fo these equations for all observations jointly using the code:\n",
    "\n",
    "``` Python\n",
    "reg = smf.ols(formula = 'y ~ x', data = dataset)\n",
    "results = reg.fit()\n",
    "b = results.params\n",
    "y_hat = b[0] + b[1] * dataset['x']\n",
    "u_hat = dataset['y'] - y_hat\n",
    "```\n",
    "\n",
    "We can also use a more black-box approach which will give exactly the same result using the precalculated variables **fittedvalues** and **resid** on the regression result object:\n",
    "\n",
    "``` Python\n",
    "reg = smf.ols(formula = 'y ~ x', data = dataset)\n",
    "results = reg.fit()\n",
    "y_hat = results.fittedvalues\n",
    "u_hat = results.resid\n",
    "```\n",
    "\n",
    "#### Wooldridge, Example 2.6: CEO Salary and Return on Equity\n",
    "\n",
    "We extend the regression example on the return on equity of a firm and the salary of its CEO in Example 2.3. After the OLS regression, we calculate fitted values and residuals. A table similar to Wooldridge (2019, Table 2.2) is generated displaying the values for the first 15 observations. "
   ]
  },
  {
   "cell_type": "code",
   "execution_count": 16,
   "id": "still-freight",
   "metadata": {},
   "outputs": [],
   "source": [
    "# Import modules\n",
    "import wooldridge as woo\n",
    "import pandas as pd\n",
    "import statsmodels.formula.api as smf"
   ]
  },
  {
   "cell_type": "code",
   "execution_count": 17,
   "id": "metropolitan-saudi",
   "metadata": {},
   "outputs": [],
   "source": [
    "# Load the CEOSAL1 data set \n",
    "ceosal1 = woo.dataWoo('ceosal1')"
   ]
  },
  {
   "cell_type": "code",
   "execution_count": 18,
   "id": "charged-bridal",
   "metadata": {},
   "outputs": [],
   "source": [
    "# Build the OLS regression model and create model fit\n",
    "reg = smf.ols(formula = 'salary ~ roe', data = ceosal1)\n",
    "results = reg.fit()"
   ]
  },
  {
   "cell_type": "code",
   "execution_count": 19,
   "id": "black-tunisia",
   "metadata": {},
   "outputs": [],
   "source": [
    "# Obtain predicted values and residuals\n",
    "salary_hat = results.fittedvalues\n",
    "u_hat = results.resid"
   ]
  },
  {
   "cell_type": "code",
   "execution_count": 20,
   "id": "middle-mount",
   "metadata": {},
   "outputs": [
    {
     "name": "stdout",
     "output_type": "stream",
     "text": [
      "Table 2.2: \n",
      "          roe  salary  Predicted Salary    Residual\n",
      "0   14.100000    1095       1224.058071 -129.058071\n",
      "1   10.900000    1001       1164.854261 -163.854261\n",
      "2   23.500000    1122       1397.969216 -275.969216\n",
      "3    5.900000     578       1072.348338 -494.348338\n",
      "4   13.800000    1368       1218.507712  149.492288\n",
      "5   20.000000    1145       1333.215063 -188.215063\n",
      "6   16.400000    1078       1266.610785 -188.610785\n",
      "7   16.299999    1094       1264.760660 -170.760660\n",
      "8   10.500000    1237       1157.453793   79.546207\n",
      "9   26.299999     833       1449.772523 -616.772523\n",
      "10  25.900000     567       1442.372056 -875.372056\n",
      "11  26.799999     933       1459.023116 -526.023116\n",
      "12  14.800000    1339       1237.008898  101.991102\n",
      "13  22.299999     937       1375.767778 -438.767778\n",
      "14  56.299999    2011       2004.808114    6.191886\n",
      "\n"
     ]
    }
   ],
   "source": [
    "# Create Wooldridge, Table 2.2\n",
    "table = pd.DataFrame({'roe': ceosal1['roe'],\n",
    "                     'salary': ceosal1['salary'],\n",
    "                     'Predicted Salary': salary_hat,\n",
    "                     'Residual': u_hat})\n",
    "print(f'Table 2.2: \\n{table.head(15)}\\n')"
   ]
  },
  {
   "cell_type": "markdown",
   "id": "effective-binding",
   "metadata": {},
   "source": [
    "Wooldridge (2019, Section 2.3) presents and discusses three properties of OLS statistics which we will confirm for an example.\n",
    "\n",
    "Property (1):\n",
    "$$\\sum_{i = 1}^{n} \\hat{u}_i = 0 \\Rightarrow \\bar{u}_i = 0$$\n",
    "\n",
    "Property (2):\n",
    "$$\\sum_{i = 1}^{n} x_i \\hat{u}_i =0 \\Rightarrow Cov(x_i, \\hat{u}_i) = 0$$\n",
    "\n",
    "Property (3):\n",
    "$$\\bar{y} = \\hat{\\beta}_0 + \\hat{\\beta}_1 \\cdot \\bar{x}$$\n",
    "\n",
    "\n",
    "#### Wooldridge, Example 2.7: Wage and Education\n",
    "\n",
    "We alreayd know the regression results when we regress wage on education form Example 2.4. In this example, we calculate fitted values and residuals to confirm the three properties from three equations. Note that *Python* does all calculations in \"double precision\" implying that it is accurate for at least 15 significant digits. The output that checks the first property shows that the average residual is -7.564713e-15 which in scientific notation means $-7.564713 \\cdot 10^{-15} = -0.000000000000007564713$. The reason it is not exactly equal to 0 is a rounding error in the 16th digit. The same holds for the second property: The covariance between the regressor and the residual is zero except for minimal rounding error. Note that running the following code will give you the same accurate digits, but the digits with rounding error will differ. The third property is also confirmed: if we plug the average value of the regressor into the regression line formula, we get the average value of the dependent variable."
   ]
  },
  {
   "cell_type": "code",
   "execution_count": 21,
   "id": "geographic-turkish",
   "metadata": {},
   "outputs": [],
   "source": [
    "# Import modules\n",
    "import wooldridge as woo\n",
    "import numpy as np\n",
    "import statsmodels.formula.api as smf"
   ]
  },
  {
   "cell_type": "code",
   "execution_count": 22,
   "id": "looking-trash",
   "metadata": {},
   "outputs": [],
   "source": [
    "# Loading the wage1 data set\n",
    "wage1 = woo.dataWoo('wage1')\n",
    "\n",
    "# Build the OLS regression model\n",
    "reg = smf.ols(formula = 'wage ~ educ', data = wage1)\n",
    "\n",
    "# Create the model fit\n",
    "results = reg.fit()\n",
    "\n",
    "# Obtain coefficients, predicted values and residuals\n",
    "b = results.params\n",
    "wage_hat = results.fittedvalues\n",
    "u_hat = results.resid"
   ]
  },
  {
   "cell_type": "code",
   "execution_count": 23,
   "id": "ignored-pulse",
   "metadata": {},
   "outputs": [
    {
     "name": "stdout",
     "output_type": "stream",
     "text": [
      "Average Residuals: -2.436580721724868e-15\n",
      "\n"
     ]
    }
   ],
   "source": [
    "# Confirm property (1)\n",
    "u_hat_mean = np.mean(u_hat)\n",
    "print(f'Average Residuals: {u_hat_mean}\\n')"
   ]
  },
  {
   "cell_type": "code",
   "execution_count": 24,
   "id": "dedicated-appreciation",
   "metadata": {},
   "outputs": [
    {
     "name": "stdout",
     "output_type": "stream",
     "text": [
      "Covariance between Education and Residuals: -8.391171355643088e-16\n",
      "\n"
     ]
    }
   ],
   "source": [
    "# Confirm property (2)\n",
    "educ_u_cov = np.cov(wage1['educ'], u_hat)[1, 0]\n",
    "print(f'Covariance between Education and Residuals: {educ_u_cov}\\n')"
   ]
  },
  {
   "cell_type": "code",
   "execution_count": 25,
   "id": "historic-mongolia",
   "metadata": {},
   "outputs": [
    {
     "name": "stdout",
     "output_type": "stream",
     "text": [
      "Predicted Average Wage: 5.896102674787037\n",
      "\n",
      "actual Average Wage: 5.896102674787035\n",
      "\n"
     ]
    }
   ],
   "source": [
    "# Confirm property (3)\n",
    "educ_mean = np.mean(wage1['educ'])\n",
    "wage_pred = b[0] + b[1] * educ_mean\n",
    "print(f'Predicted Average Wage: {wage_pred}\\n')\n",
    "\n",
    "wage_mean = np.mean(wage1['wage'])\n",
    "print(f'actual Average Wage: {wage_mean}\\n')"
   ]
  },
  {
   "cell_type": "markdown",
   "id": "outside-helping",
   "metadata": {},
   "source": [
    "### 3. Goodness of Fit\n",
    "\n",
    "The total sum of squares (SST), explained sum of squares (SSE) and residual sum of squares (SSR) can be written as\n",
    "\n",
    "$$SST = \\sum_{i = 1}^n (y_i - \\bar{y})^2 = (n - 1) \\cdot Var(y)$$\n",
    "\n",
    "$$SSE = \\sum_{i = 1}^n (\\hat{y}_i - \\bar{y})^2 = (n - 1) \\cdot Var(\\hat{y})$$\n",
    "\n",
    "$$SSR = \\sum_{i = 1}^n (\\hat{u}_i - 0)^2 = (n - 1) \\cdot Var(\\hat{u})$$\n",
    "\n",
    "where Var(x) is the sample variance $\\frac{1}{n - 1} \\sum_{i = 1}^n(x_i - \\bar{x})^2$.\n",
    "\n",
    "Wooldridge (2019, Equation 2.38) defines the coefficient of determination in terms of these terms. Because (n - 1) cancels out, it can be equivalently written as \n",
    "\n",
    "$$R^2 = \\frac{Var(\\hat{y})}{Var(y)} = 1 - \\frac{Var(\\hat{u})}{Var(y)}$$\n",
    "\n",
    "#### Wooldridge, Example 2.8: CEO Salary and Return on Equity\n",
    "\n",
    "In the regression alreayd studied in Example 2.6, the coefficient of determination is 0.0132. This is calculated in the two ways of $R^2$ equation in the following example. In addition, it is calculated as the squared correlation coefficient of $y$ and $\\hat{y}$. Not surprisingly, all versions of these calculations produce the same result (they are not exactly equal to each other because of the rounding error in the 16th digit)."
   ]
  },
  {
   "cell_type": "code",
   "execution_count": 26,
   "id": "transsexual-africa",
   "metadata": {},
   "outputs": [],
   "source": [
    "# Import modules\n",
    "import wooldridge as woo\n",
    "import numpy as np\n",
    "import statsmodels.formula.api as smf"
   ]
  },
  {
   "cell_type": "code",
   "execution_count": 27,
   "id": "private-covering",
   "metadata": {},
   "outputs": [],
   "source": [
    "# Load the CEOSAL1 data set \n",
    "ceosal1 = woo.dataWoo('ceosal1')\n",
    "\n",
    "# Build the OLS regression model and create model fit\n",
    "reg = smf.ols(formula = 'salary ~ roe', data = ceosal1)\n",
    "results = reg.fit()\n",
    "\n",
    "# Obtain predicted values and residuals\n",
    "salary_hat = results.fittedvalues\n",
    "u_hat = results.resid"
   ]
  },
  {
   "cell_type": "code",
   "execution_count": 28,
   "id": "miniature-bradford",
   "metadata": {},
   "outputs": [
    {
     "name": "stdout",
     "output_type": "stream",
     "text": [
      "R Square Method A: 0.013188624081034103\n",
      "\n",
      "R Square Method B: 0.01318862408103394\n",
      "\n",
      "R Square Method C: 0.013188624081034125\n",
      "\n"
     ]
    }
   ],
   "source": [
    "# Calculate R^2 in three different ways:\n",
    "sal = ceosal1['salary']\n",
    "R2_a = np.var(salary_hat, ddof = 1) / np.var(sal, ddof = 1)\n",
    "R2_b = 1 - np.var(u_hat, ddof = 1) / np.var(sal, ddof = 1)\n",
    "R2_c = np.corrcoef(sal, salary_hat)[1, 0] ** 2\n",
    "\n",
    "# Print the results\n",
    "print(f'R Square Method A: {R2_a}\\n')\n",
    "print(f'R Square Method B: {R2_b}\\n')\n",
    "print(f'R Square Method C: {R2_c}\\n')"
   ]
  },
  {
   "cell_type": "markdown",
   "id": "basic-rescue",
   "metadata": {},
   "source": [
    "Many interesting results for a regression can be displayed by calling the method **summary()**. You call this method on the object returned by the method **fit()**. The output will display\n",
    "\n",
    "- A block of general information about the regression model. It contains also other information about the estimation of which only $R^2$ is of interest to us so far. It is reported as **R-squared**.\n",
    "- A coefficient table. So far, we only discussed the OLS coefficients shown in the first column. The next columns will be introducd below.\n",
    "- A block of diagnostics regarding the residuals. We will discuss some of them later.\n",
    "\n",
    "When we are only interested in the coefficients and their significance, we will often switch to a more compact presentation of results. This is demonstrated with the object **table** in this example."
   ]
  },
  {
   "cell_type": "code",
   "execution_count": 29,
   "id": "environmental-corrections",
   "metadata": {},
   "outputs": [],
   "source": [
    "# Import modules\n",
    "import wooldridge as woo\n",
    "import pandas as pd\n",
    "import statsmodels.formula.api as smf"
   ]
  },
  {
   "cell_type": "code",
   "execution_count": 30,
   "id": "elect-former",
   "metadata": {},
   "outputs": [],
   "source": [
    "# Load the vote1 data set\n",
    "vote1 =woo.dataWoo('vote1')\n",
    "\n",
    "# Build the OLS regression model\n",
    "reg = smf.ols(formula = 'voteA ~ shareA', data = vote1)\n",
    "\n",
    "# Create the model fit\n",
    "results = reg.fit()"
   ]
  },
  {
   "cell_type": "code",
   "execution_count": 31,
   "id": "toxic-clearance",
   "metadata": {},
   "outputs": [
    {
     "name": "stdout",
     "output_type": "stream",
     "text": [
      "Summary Output: \n",
      "                            OLS Regression Results                            \n",
      "==============================================================================\n",
      "Dep. Variable:                  voteA   R-squared:                       0.856\n",
      "Model:                            OLS   Adj. R-squared:                  0.855\n",
      "Method:                 Least Squares   F-statistic:                     1018.\n",
      "Date:                Sat, 08 May 2021   Prob (F-statistic):           6.63e-74\n",
      "Time:                        23:22:09   Log-Likelihood:                -565.20\n",
      "No. Observations:                 173   AIC:                             1134.\n",
      "Df Residuals:                     171   BIC:                             1141.\n",
      "Df Model:                           1                                         \n",
      "Covariance Type:            nonrobust                                         \n",
      "==============================================================================\n",
      "                 coef    std err          t      P>|t|      [0.025      0.975]\n",
      "------------------------------------------------------------------------------\n",
      "Intercept     26.8122      0.887     30.221      0.000      25.061      28.564\n",
      "shareA         0.4638      0.015     31.901      0.000       0.435       0.493\n",
      "==============================================================================\n",
      "Omnibus:                       20.747   Durbin-Watson:                   1.826\n",
      "Prob(Omnibus):                  0.000   Jarque-Bera (JB):               44.613\n",
      "Skew:                           0.525   Prob(JB):                     2.05e-10\n",
      "Kurtosis:                       5.255   Cond. No.                         112.\n",
      "==============================================================================\n",
      "\n",
      "Notes:\n",
      "[1] Standard Errors assume that the covariance matrix of the errors is correctly specified.\n",
      "\n",
      "Regression Table: \n",
      "           Parameters  Standard Errors  t-values  p-values\n",
      "Intercept     26.8122           0.8872   30.2207       0.0\n",
      "shareA         0.4638           0.0145   31.9008       0.0\n",
      "\n"
     ]
    }
   ],
   "source": [
    "# Print results using summary\n",
    "print(f'Summary Output: \\n{results.summary()}\\n')\n",
    "\n",
    "# Print regression table\n",
    "table = pd.DataFrame({'Parameters': round(results.params, 4),\n",
    "                     'Standard Errors': round(results.bse, 4),\n",
    "                     't-values': round(results.tvalues, 4),\n",
    "                     'p-values': round(results.pvalues, 4)})\n",
    "print(f'Regression Table: \\n{table}\\n')"
   ]
  },
  {
   "cell_type": "markdown",
   "id": "affiliated-loading",
   "metadata": {},
   "source": [
    "### 4. Nonlinearities\n",
    "\n",
    "For the estimation of logarithmic or semi-logarithmic models, the respective formula can be directly entered into the specification of **smf.ols()** as demonstrated in the following examples. For the interpretation as percentage effects and elasticities, see Wooldridge (2019, Section 2.4).\n",
    "\n",
    "#### Wooldridge, Example 2.10: Wage and Education\n",
    "\n",
    "Compared to Example 2.7, we simply change the commnad for estimation to account for a logarithmic specification. The semi-logarithmic specification implies that wages are higher by about 8.3% for indivdiual with an additional year of education.\n",
    "\n",
    "$$log(wage) = \\beta_0 + \\beta_1 education + u$$"
   ]
  },
  {
   "cell_type": "code",
   "execution_count": 32,
   "id": "temporal-municipality",
   "metadata": {},
   "outputs": [],
   "source": [
    "# Import modules\n",
    "import wooldridge as woo\n",
    "import numpy as np\n",
    "import statsmodels.formula.api as smf"
   ]
  },
  {
   "cell_type": "code",
   "execution_count": 33,
   "id": "ordered-glucose",
   "metadata": {},
   "outputs": [],
   "source": [
    "# Loading the wage1 data set\n",
    "wage1 = woo.dataWoo('wage1')"
   ]
  },
  {
   "cell_type": "code",
   "execution_count": 34,
   "id": "portable-arizona",
   "metadata": {},
   "outputs": [
    {
     "name": "stdout",
     "output_type": "stream",
     "text": [
      "Estimated Parameters: \n",
      "Intercept    0.583773\n",
      "educ         0.082744\n",
      "dtype: float64\n",
      "\n"
     ]
    }
   ],
   "source": [
    "# Estimate log-level model\n",
    "reg = smf.ols(formula = 'np.log(wage) ~ educ', data = wage1)\n",
    "results = reg.fit()\n",
    "b = results.params\n",
    "print(f'Estimated Parameters: \\n{b}\\n')"
   ]
  },
  {
   "cell_type": "markdown",
   "id": "incorporate-elements",
   "metadata": {},
   "source": [
    "#### Wooldridge, Example 2.11: CEO Salary and Firm Sales\n",
    "\n",
    "We study the relationship between the sales of a firm and the salary of its CEO using a log-log specification. The result suggests that if sales increase by 1%, the salary of the CEO tends to increase by 0.257%.\n",
    "\n",
    "$$log(salary) = \\beta_0 + \\beta_1 log(sales) + u$$"
   ]
  },
  {
   "cell_type": "code",
   "execution_count": 35,
   "id": "waiting-produce",
   "metadata": {},
   "outputs": [],
   "source": [
    "# Import modules\n",
    "import wooldridge as woo\n",
    "import numpy as np\n",
    "import statsmodels.formula.api as smf"
   ]
  },
  {
   "cell_type": "code",
   "execution_count": 36,
   "id": "blind-flush",
   "metadata": {},
   "outputs": [],
   "source": [
    "# Load the CEOSAL1 data set \n",
    "ceosal1 = woo.dataWoo('ceosal1')"
   ]
  },
  {
   "cell_type": "code",
   "execution_count": 37,
   "id": "pretty-chuck",
   "metadata": {},
   "outputs": [
    {
     "name": "stdout",
     "output_type": "stream",
     "text": [
      "Estimated Parameters: \n",
      "Intercept        4.821996\n",
      "np.log(sales)    0.256672\n",
      "dtype: float64\n",
      "\n"
     ]
    }
   ],
   "source": [
    "# Estimate log-log model\n",
    "reg = smf.ols(formula = 'np.log(salary) ~ np.log(sales)', data = ceosal1)\n",
    "results = reg.fit()\n",
    "b = results.params\n",
    "print(f'Estimated Parameters: \\n{b}\\n')"
   ]
  },
  {
   "cell_type": "markdown",
   "id": "aerial-nevada",
   "metadata": {},
   "source": [
    "### 5. Regression through the Origin and Regression on a Constant\n",
    "\n",
    "Wooldridge (2019, Section 2.6) discusses models without an intercept. This implies that the regression line is forced to go through the origin. In *Python*, we can suppress the constant which is otherwise implicitly added to a formula by specifiying\n",
    "\n",
    "``` Python\n",
    "smf.ols('y ~ 0 + x', data = dataset)\n",
    "```\n",
    "\n",
    "instead of **smf.ols('y ~ x', data = dataset)**. The result is a model which only has a slope parameter.\n",
    "\n",
    "Another topic discussed in this section is a linear regression model without a slope parameter, i.e. with a constant only. In this case, the estimated constant will be the sample average of the dependent variable. This can be implemented in *Python* using the code\n",
    "\n",
    "``` Python\n",
    "smf.ols('y ~ 1', data = dataset)\n",
    "```\n",
    "\n",
    "Both special kinds of regression are implemented for the example of the CEO salary and ROE we already analyzed in Example 2.8 and others. The resulting regression lines are plotted which was generated using the last lines of code shown in the output."
   ]
  },
  {
   "cell_type": "code",
   "execution_count": 38,
   "id": "flexible-hacker",
   "metadata": {},
   "outputs": [],
   "source": [
    "# Import modules\n",
    "import wooldridge as woo\n",
    "import numpy as np\n",
    "import statsmodels.formula.api as smf\n",
    "import matplotlib.pyplot as plt"
   ]
  },
  {
   "cell_type": "code",
   "execution_count": 39,
   "id": "juvenile-coast",
   "metadata": {},
   "outputs": [],
   "source": [
    "# Load the CEOSAL1 data set \n",
    "ceosal1 = woo.dataWoo('ceosal1')"
   ]
  },
  {
   "cell_type": "code",
   "execution_count": 40,
   "id": "molecular-wings",
   "metadata": {},
   "outputs": [
    {
     "name": "stdout",
     "output_type": "stream",
     "text": [
      "Estimated Parameters: \n",
      "Intercept    963.191336\n",
      "roe           18.501186\n",
      "dtype: float64\n",
      "\n"
     ]
    }
   ],
   "source": [
    "# Usual OLS regression\n",
    "reg1 = smf.ols(formula = 'salary ~ roe', data = ceosal1)\n",
    "results1 = reg1.fit()\n",
    "b1 = results1.params\n",
    "print(f'Estimated Parameters: \\n{b1}\\n')"
   ]
  },
  {
   "cell_type": "code",
   "execution_count": 41,
   "id": "noted-norfolk",
   "metadata": {},
   "outputs": [
    {
     "name": "stdout",
     "output_type": "stream",
     "text": [
      "Estimated Parameters: \n",
      "roe    63.537955\n",
      "dtype: float64\n",
      "\n"
     ]
    }
   ],
   "source": [
    "# Regression without intercept (through origin)\n",
    "reg2 = smf.ols(formula = 'salary ~ 0 + roe', data = ceosal1)\n",
    "results2 = reg2.fit()\n",
    "b2 = results2.params\n",
    "print(f'Estimated Parameters: \\n{b2}\\n')"
   ]
  },
  {
   "cell_type": "code",
   "execution_count": 42,
   "id": "broken-absolute",
   "metadata": {},
   "outputs": [
    {
     "name": "stdout",
     "output_type": "stream",
     "text": [
      "Estimated Parameters: \n",
      "Intercept    1281.119617\n",
      "dtype: float64\n",
      "\n"
     ]
    }
   ],
   "source": [
    "# Regression without slope (on a constant)\n",
    "reg3 = smf.ols(formula = 'salary ~ 1', data = ceosal1)\n",
    "results3 = reg3.fit()\n",
    "b3 = results3.params\n",
    "print(f'Estimated Parameters: \\n{b3}\\n')"
   ]
  },
  {
   "cell_type": "code",
   "execution_count": 43,
   "id": "north-surrey",
   "metadata": {},
   "outputs": [
    {
     "name": "stdout",
     "output_type": "stream",
     "text": [
      "Average Salary: \n",
      "1281.1196172248804\n",
      "\n"
     ]
    }
   ],
   "source": [
    "# Average salary\n",
    "sal_mean = np.mean(ceosal1['salary'])\n",
    "print(f'Average Salary: \\n{sal_mean}\\n')"
   ]
  },
  {
   "cell_type": "code",
   "execution_count": 44,
   "id": "czech-suite",
   "metadata": {},
   "outputs": [
    {
     "data": {
      "image/png": "[encoded data removed]",
      "text/plain": [
       "<Figure size 432x288 with 1 Axes>"
      ]
     },
     "metadata": {
      "needs_background": "light"
     },
     "output_type": "display_data"
    }
   ],
   "source": [
    "# Scatter plot and fitted values:\n",
    "plt.plot('roe', 'salary', data = ceosal1, color = 'grey',\n",
    "        marker = 'o', linestyle = '', label = '')\n",
    "plt.plot(ceosal1['roe'], results1.fittedvalues, color = 'blue',\n",
    "        linestyle = '-', label = 'Regular OLS')\n",
    "plt.plot(ceosal1['roe'], results2.fittedvalues, color = 'green',\n",
    "        linestyle = ':', label = 'Through Origin')\n",
    "plt.plot(ceosal1['roe'], results3.fittedvalues, color = 'brown',\n",
    "        linestyle = '-.', label = 'Constant Only')\n",
    "plt.ylabel('Salary')\n",
    "plt.xlabel('Return on Equity')\n",
    "plt.legend()\n",
    "plt.show()\n",
    "plt.savefig('images/slr-origin-const.png')\n",
    "plt.close()"
   ]
  },
  {
   "cell_type": "markdown",
   "id": "massive-chapter",
   "metadata": {},
   "source": [
    "### 6. Expected Values, Variances, and Standard Errors\n",
    "\n",
    "Wooldridge (2019) discusses the role of the five assumptions under which the OLS parameter estimators have desirable properties. In short form they are\n",
    "\n",
    "- **SLR.1**: Linear population regression function: $y = \\beta_0 + \\beta_1 x + u$\n",
    "- **SLR.2**: Random sampling of *x* and *y* from the population\n",
    "- **SLR.3**: Variation in the sample values $x_1, x_2, ..., x_n$\n",
    "- **SLR.4**: Zero conditional mean: $E(u|x) = 0$\n",
    "- **SLR.5**: Homoscedasticity: $Var(u|x) = \\sigma^2$\n",
    "\n",
    "Based on those, Wooldridge (2019) shows in Section 2.5:\n",
    "\n",
    "- **Theorem 2.1**: Under **SLR.1 - SLR.4**, OLS parameter estimators are unbiased.\n",
    "- **Theorem 2.2**: Under **SLR.1 - SLR.5**, OLS parameter estimators have a specific sampling variance.\n",
    "\n",
    "Because the formulas for the sampling variance involve the variance of the error term, we also have to estimate it using the unbiased estimator\n",
    "\n",
    "$$\\hat{\\sigma}^2 = \\frac{1}{n - 2} \\cdot \\sum_{i = 1}^{n} \\hat{u}_i^2 = \\frac{n - 1}{n - 2} \\cdot Var(\\hat{u}_i)$$\n",
    "\n",
    "where $Var(\\hat{u}_i) = \\frac{1}{n - 1} \\cdot \\sum_{i = 1}^{n} \\hat{u}_i^2$ is the usual sample variance. We have to use the degrees-of-freedom adjustment to account for the fact that we estimated the two parameters $\\hat{\\beta}_0$ and $\\hat{\\beta}_1$ for constructing the residuals. Its square root $\\hat{\\sigma} = \\sqrt{\\hat{\\sigma}^2}$ is called standard error of the regression (SER) by Wooldridge (2019).\n",
    "\n",
    "The **standard errors (SE) of the estimators** are\n",
    "\n",
    "$$se(\\hat{\\beta}_0) = \\sqrt{\\frac{\\hat{\\sigma}^2 \\bar{x^2}}{\\sum_{i = 1}^n (x - \\bar{x})^2}} = \\frac{1}{\\sqrt{n - 1}} \\cdot \\frac{\\hat{\\sigma}}{sd(x)} \\cdot \\sqrt{\\bar{x^2}}$$\n",
    "\n",
    "$$se(\\hat{\\beta}_1) = \\sqrt{\\frac{\\hat{\\sigma}^2}{\\sum_{i = 1}^n (x - \\bar{x})^2}} = \\frac{1}{\\sqrt{n - 1}} \\cdot \\frac{\\hat{\\sigma}}{sd(x)}$$\n",
    "\n",
    "where $sd(x)$ is the same standard deviation $\\sqrt{\\frac{1}{n-1} \\cdot \\sum_{i=1}^n (x_i - \\bar{x})^2}$.\n",
    "\n",
    "In *Python*, we can obviously evaluate the standard error equations explicitly. But the output of the **summary** command for linear regression results already contains these values. We use the following example to calculate the results in both ways to open the black box of the canned routine and convince ourselves that form now on we can rely on it.\n",
    "\n",
    "#### Wooldridge, Example 2.12: Student Math Performance and the School Lunch Program\n",
    "\n",
    "Using the data set *MEAP93*, we regress a math performance score of schools on the share of students eligible for a federally funded lunch program. Wooldridge (2019) uses this example to demonstrate the importance of assumption SLR.4 and warns us against inerpreting the regression results in a causal way. Here we merely use the example to demonstrate the calculation of standard errors.\n",
    "\n",
    "First we calculate the SER manually using the fact that the residuals $\\hat{u}$ are available as **results.resid**. Then, the SE of the parameters are calculated according to the given SE equations, where the regressor is addressed as the variable in the data frame **meap93['lnchprg']**. Finally, we see the output of the **summary** method. The SE of the parameters are reported in teh second column of the regression table, next to the parameter estimates. We will look at the other colmuns later. All values are exactly the same as the manual results."
   ]
  },
  {
   "cell_type": "code",
   "execution_count": 45,
   "id": "tested-support",
   "metadata": {},
   "outputs": [],
   "source": [
    "# Import modules\n",
    "import wooldridge as woo\n",
    "import numpy as np\n",
    "import statsmodels.formula.api as smf"
   ]
  },
  {
   "cell_type": "code",
   "execution_count": 46,
   "id": "radical-actor",
   "metadata": {},
   "outputs": [],
   "source": [
    "# Load the data set 'meap93'\n",
    "meap93 = woo.dataWoo('meap93')"
   ]
  },
  {
   "cell_type": "code",
   "execution_count": 47,
   "id": "racial-difficulty",
   "metadata": {},
   "outputs": [],
   "source": [
    "# Estimate the model and save the results\n",
    "reg = smf.ols(formula = 'math10 ~ lnchprg', data = meap93)\n",
    "results = reg.fit()"
   ]
  },
  {
   "cell_type": "code",
   "execution_count": 48,
   "id": "adjacent-allocation",
   "metadata": {},
   "outputs": [],
   "source": [
    "# Number of observations\n",
    "n = results.nobs"
   ]
  },
  {
   "cell_type": "code",
   "execution_count": 49,
   "id": "applied-bubble",
   "metadata": {},
   "outputs": [
    {
     "name": "stdout",
     "output_type": "stream",
     "text": [
      "Standard Error of the Regressor: 9.565938459482764\n",
      "\n"
     ]
    }
   ],
   "source": [
    "# Calculate SER \n",
    "u_hat_var = np.var(results.resid, ddof = 1)\n",
    "ser = np.sqrt(u_hat_var) * np.sqrt((n - 1) / (n - 2))\n",
    "print(f'Standard Error of the Regressor: {ser}\\n')"
   ]
  },
  {
   "cell_type": "code",
   "execution_count": 50,
   "id": "composite-typing",
   "metadata": {},
   "outputs": [
    {
     "name": "stdout",
     "output_type": "stream",
     "text": [
      "Standard Error of Beta0: 0.034839334258369645\n",
      "\n",
      "Standard Error of Beta1: 0.9975823856755016\n",
      "\n"
     ]
    }
   ],
   "source": [
    "# Calculate SE of beta0 and beta1, respectively\n",
    "lnchprg_sq_mean = np.mean(meap93['lnchprg']**2)\n",
    "lnchprg_var = np.var(meap93['lnchprg'], ddof = 1)\n",
    "b1_se = ser / (np.sqrt(lnchprg_var) * np.sqrt(n - 1)) * np.sqrt(lnchprg_sq_mean)\n",
    "b0_se = ser / (np.sqrt(lnchprg_var) * np.sqrt(n - 1))\n",
    "\n",
    "print(f'Standard Error of Beta0: {b0_se}\\n')\n",
    "print(f'Standard Error of Beta1: {b1_se}\\n')"
   ]
  },
  {
   "cell_type": "code",
   "execution_count": 51,
   "id": "gorgeous-industry",
   "metadata": {},
   "outputs": [
    {
     "name": "stdout",
     "output_type": "stream",
     "text": [
      "Regression Summary Table: \n",
      "                            OLS Regression Results                            \n",
      "==============================================================================\n",
      "Dep. Variable:                 math10   R-squared:                       0.171\n",
      "Model:                            OLS   Adj. R-squared:                  0.169\n",
      "Method:                 Least Squares   F-statistic:                     83.77\n",
      "Date:                Sat, 08 May 2021   Prob (F-statistic):           2.75e-18\n",
      "Time:                        23:22:10   Log-Likelihood:                -1499.3\n",
      "No. Observations:                 408   AIC:                             3003.\n",
      "Df Residuals:                     406   BIC:                             3011.\n",
      "Df Model:                           1                                         \n",
      "Covariance Type:            nonrobust                                         \n",
      "==============================================================================\n",
      "                 coef    std err          t      P>|t|      [0.025      0.975]\n",
      "------------------------------------------------------------------------------\n",
      "Intercept     32.1427      0.998     32.221      0.000      30.182      34.104\n",
      "lnchprg       -0.3189      0.035     -9.152      0.000      -0.387      -0.250\n",
      "==============================================================================\n",
      "Omnibus:                       61.162   Durbin-Watson:                   1.908\n",
      "Prob(Omnibus):                  0.000   Jarque-Bera (JB):              105.062\n",
      "Skew:                           0.886   Prob(JB):                     1.53e-23\n",
      "Kurtosis:                       4.743   Cond. No.                         60.4\n",
      "==============================================================================\n",
      "\n",
      "Notes:\n",
      "[1] Standard Errors assume that the covariance matrix of the errors is correctly specified.\n",
      "\n"
     ]
    }
   ],
   "source": [
    "# Automatic calculations using summary method\n",
    "print(f'Regression Summary Table: \\n{results.summary()}\\n')"
   ]
  },
  {
   "cell_type": "markdown",
   "id": "mediterranean-collapse",
   "metadata": {},
   "source": [
    "### Monte Carlo Simulations\n",
    "\n",
    "In this section, we use Monte Carlo simulation experiments to revisit many of hte topics covered in this notebook. It can be skipped but can help quite a bit to grasp the concepts of estimators, estimates, unbiasedness, the sampling variance of the estimators, and the consequences of violated assumptions.\n",
    "\n",
    "#### One Sample:\n",
    "\n",
    "In the previous notebook, we used simulation experiments to analyze the features of a simple mean estimator. We also discussed the sampling from a given distribution, the random seed and simle examples. We can use exactly the same strategy to analyze OLS parameter estimators.\n",
    "\n",
    "In this example, we show how to draw a sample with is consistent with Assumptions SLR.1 through SLR.5. We simulate a sample of size *n* = 1000 with population parameters $\\beta_0$ = 1 and $\\beta_1$ = 0.5. We set the standard deviation of the error term $u$ to $\\sigma$ = 2. Obviously, these parameters can be freely chosen and every reader is strongly encouraged to play around."
   ]
  },
  {
   "cell_type": "code",
   "execution_count": 52,
   "id": "capable-frame",
   "metadata": {},
   "outputs": [],
   "source": [
    "# Import modules\n",
    "import pandas as pd\n",
    "import numpy as np\n",
    "import scipy.stats as stats\n",
    "import statsmodels.formula.api as smf\n",
    "import matplotlib.pyplot as plt"
   ]
  },
  {
   "cell_type": "code",
   "execution_count": 53,
   "id": "dependent-arcade",
   "metadata": {},
   "outputs": [],
   "source": [
    "# Set the random seed:\n",
    "np.random.seed(111111)"
   ]
  },
  {
   "cell_type": "code",
   "execution_count": 54,
   "id": "deluxe-switch",
   "metadata": {},
   "outputs": [],
   "source": [
    "# Set sample size:\n",
    "n = 1000"
   ]
  },
  {
   "cell_type": "code",
   "execution_count": 55,
   "id": "lightweight-tomorrow",
   "metadata": {},
   "outputs": [],
   "source": [
    "# Set true parameters (betas and sd of u):\n",
    "beta0 = 1\n",
    "beta1 = 0.5\n",
    "su = 2"
   ]
  },
  {
   "cell_type": "code",
   "execution_count": 56,
   "id": "valued-liability",
   "metadata": {},
   "outputs": [],
   "source": [
    "# Draw a sample of size n:\n",
    "x = stats.norm.rvs(4, 1, size = n)\n",
    "u = stats.norm.rvs(0, su, size = n)\n",
    "y = beta0 + beta1 * x + u\n",
    "df = pd.DataFrame({'y': y, 'x': x})"
   ]
  },
  {
   "cell_type": "code",
   "execution_count": 57,
   "id": "northern-style",
   "metadata": {},
   "outputs": [
    {
     "name": "stdout",
     "output_type": "stream",
     "text": [
      "Estimated Parameters: \n",
      "Intercept    0.775276\n",
      "x            0.566558\n",
      "dtype: float64\n",
      "\n"
     ]
    }
   ],
   "source": [
    "# Estimate parameters by OLS:\n",
    "reg = smf.ols(formula = 'y ~ x', data = df)\n",
    "results = reg.fit()\n",
    "b = results.params\n",
    "print(f'Estimated Parameters: \\n{b}\\n')"
   ]
  },
  {
   "cell_type": "code",
   "execution_count": 58,
   "id": "former-convention",
   "metadata": {},
   "outputs": [
    {
     "name": "stdout",
     "output_type": "stream",
     "text": [
      "Mean Squares of x: 16.705626765632925\n",
      "\n",
      "Variance of x: 983.696599242086\n",
      "\n"
     ]
    }
   ],
   "source": [
    "# Features of the sample for the variance formula:\n",
    "x_sq_mean = np.mean(x ** 2)\n",
    "print(f'Mean Squares of x: {x_sq_mean}\\n')\n",
    "\n",
    "x_var = np.sum((x - np.mean(x)) ** 2)\n",
    "print(f'Variance of x: {x_var}\\n')"
   ]
  },
  {
   "cell_type": "code",
   "execution_count": 59,
   "id": "hollow-wealth",
   "metadata": {},
   "outputs": [
    {
     "data": {
      "image/png": "[encoded data removed]",
      "text/plain": [
       "<Figure size 432x288 with 1 Axes>"
      ]
     },
     "metadata": {
      "needs_background": "light"
     },
     "output_type": "display_data"
    }
   ],
   "source": [
    "# Plot the data and model\n",
    "x_range = np.linspace(0, 8, num = 100)\n",
    "plt.ylim([-2, 10])\n",
    "plt.plot(x, y, color = 'lightgrey', marker = 'o', linestyle = '')\n",
    "plt.plot(x_range, beta0 + beta1 * x_range, color = \"black\",\n",
    "        linestyle = '-', linewidth = 2, label = 'Population Regression Function')\n",
    "plt.plot(x_range, b[0] + b[1] * x_range, color = 'grey',\n",
    "        linestyle = '-', linewidth = 2, label = 'OLS Regression Function')\n",
    "plt.ylabel('y')\n",
    "plt.xlabel('x')\n",
    "plt.legend()\n",
    "plt.savefig('images/SLR-sim-simple.png')\n",
    "plt.show()\n",
    "plt.close()"
   ]
  },
  {
   "cell_type": "markdown",
   "id": "gentle-hindu",
   "metadata": {},
   "source": [
    "Then a random sample of *x* and *y* is drawn in three steps:\n",
    "\n",
    "- A sample of regressor *x* is drawn from an arbitrary distribution. The only thing we have to make sure to stay consistent with Assumption SLR.3 is that its variance is strictly positive. We choose a normal distribution with mean 4 and a standard deviation of 1.\n",
    "\n",
    "- A sample of error term *u* is drawn according to Assumptions SLR.4 and SLR.5: It has a mean of zero, and both the mean and the variance are unrelated to *x*. We simply choose a normal distribution with mean 0 and standard devaition $\\sigma$ = 2 for all 1000 observations independet of *x*. Later we will adjust this to simulate the effects of violation of these assumptions.\n",
    "\n",
    "- Finally, we generate the dependent variable *y* according to the population regression function specified in Assumption SLR.1.\n",
    "\n",
    "In an empirical project, we only observe *x* and *y* and not the realizations of the error term *u*. In the simulation, we \"forgot\" them and the fact that we know the population parameters and estimate them from our sample using OLS. This will help us to study the behavior of the estimator in a sample like ours.\n",
    "\n",
    "For our particular sample, the OLS parameter estimates are $\\hat{\\beta}_0$ = 0.7753 and $\\hat{\\beta}_1$ = 0.5666. The result of the graph generated shows the population regression function with intercept $\\beta_0$ = 1 and $\\beta_1$ = 0.5. It also shows the scatter plot of the sample drawn from this population. This sample led to our OLS regression line with intercept $\\hat{\\beta}_0$ = 0.7753 and slope $\\hat{\\beta}_1$ = 0.5666 in gray.\n",
    "\n",
    "Since the SLR assumptions hold in our exercise, Theorems 2.1 and 2.2 of Wooldridge (2019) should apply. Theorem 2.1 implies for our model that the estimators are unbiased, i.e.\n",
    "\n",
    "$$E(\\hat{\\beta}_0) = \\beta_0 = 1$$\n",
    "\n",
    "$$E(\\hat{\\beta}_1) = \\beta_1 = 0.5$$\n",
    "\n",
    "The estimates obtained from our sample are relatively close to their population values. Obviously, we can never expect to hit the population parameter exactly. If we change the random seed by specifying a different number, we get a different sample and different parameter estimates.\n",
    "\n",
    "Theorem 2.2 of Wooldridge (2019) stats the sampling variance of the estimator conditional on the sample value ${x_1, x_2, x_3, ..., x_n}$. It involves the average squared value $\\bar{x^2}$ = 16.7056 and the sum of squares $\\sum_{i = 1}^n (x - \\bar{x})^2$ = 983.6966 which we also know from the *Python* output:\n",
    "\n",
    "$$Var(\\hat{\\beta}_0) = \\frac{\\sigma^2 \\bar{x^2}}{\\sum_{i = 1}^n (x - \\bar{x})^2} = \\frac{4 \\cdot 16.7056}{983.6966} = 0.0679$$\n",
    "\n",
    "$$Var(\\hat{\\beta}_0) = \\frac{\\sigma^2}{\\sum_{i = 1}^n (x - \\bar{x})^2} = \\frac{4}{983.6966} = 0.0041$$\n",
    "\n",
    "If Wooldridge (2019) is right, the standard error of $\\hat{\\beta}_1$ is $\\sqrt{0.0041}$ = 0.064. So getting an estimate of $\\hat{\\beta}_1$ = 0.5666 for one sample doesn't seem unreasonable given $\\beta_1$ = 0.5.\n",
    "\n",
    "#### Many Samples\n",
    "\n",
    "Since the expected values and variances of our estimator are defined over separate random samples from the same population, it makes sense for us to repeat our simulation exercise over many simulated samples. The distribution of OLS parameter estimates across these sampls will correspond to the sampling distribution of the estimators.\n",
    "\n",
    "In the following example, we implement this with the same **for** loop that we used for basic Monte Carlo simulation in the previous notebook. Remember that *Python* enthusiasts might choose a different technique but for us, this implementation has the big advantage that it is very transparent. We analyze *r* = 10,000 samples.\n",
    "\n",
    "Note that we use the same values for x in all samples since we draw them outside of the loop. We do this to simulate the exact setup of Theorem 2.2 which reports the sampling variance *coditional* on *x*. In a more realistic setup, we would sample *x* along with *y*. The conceptual difference is subtle and the results hardly differ in reasonably large samples. We will come back to these issue in the future notebook. For each sample, we estimate our parameters and store them in the respective position $j = 0, 1, 2, ..., r - 1$ of the arrays **b0** and **b1**."
   ]
  },
  {
   "cell_type": "code",
   "execution_count": 60,
   "id": "innocent-mechanism",
   "metadata": {},
   "outputs": [],
   "source": [
    "# Import modules\n",
    "import pandas as pd\n",
    "import numpy as np\n",
    "import scipy.stats as stats\n",
    "import statsmodels.formula.api as smf\n",
    "import matplotlib.pyplot as plt"
   ]
  },
  {
   "cell_type": "code",
   "execution_count": 61,
   "id": "appreciated-fundamental",
   "metadata": {},
   "outputs": [],
   "source": [
    "# Set the random seed:\n",
    "np.random.seed(111111)"
   ]
  },
  {
   "cell_type": "code",
   "execution_count": 62,
   "id": "ethical-princess",
   "metadata": {},
   "outputs": [],
   "source": [
    "# Set sample size and number of simulation:\n",
    "n = 1000\n",
    "r = 10000"
   ]
  },
  {
   "cell_type": "code",
   "execution_count": 63,
   "id": "abroad-portland",
   "metadata": {},
   "outputs": [],
   "source": [
    "# Set true parameters (betas and sd of u):\n",
    "beta0 = 1\n",
    "beta1 = 0.5\n",
    "su = 2"
   ]
  },
  {
   "cell_type": "code",
   "execution_count": 64,
   "id": "executive-secret",
   "metadata": {},
   "outputs": [],
   "source": [
    "# Initialize b0 and b1 to store results later:\n",
    "b0 = np.empty(r)\n",
    "b1 = np.empty(r)"
   ]
  },
  {
   "cell_type": "code",
   "execution_count": 65,
   "id": "colonial-silly",
   "metadata": {},
   "outputs": [],
   "source": [
    "# Draw a sample of x of size n:\n",
    "x = stats.norm.rvs(4, 1, size = n)"
   ]
  },
  {
   "cell_type": "code",
   "execution_count": 66,
   "id": "hired-kazakhstan",
   "metadata": {},
   "outputs": [],
   "source": [
    "# Create simulation for r times:\n",
    "for i in range(r):\n",
    "    # Draw a sample of u and y\n",
    "    u = stats.norm.rvs(0, su, size = n)\n",
    "    y = beta0 + beta1 * x + u\n",
    "    df = pd.DataFrame({'y': y, 'x': x})\n",
    "    \n",
    "    # Estimate and store parameters by OLS\n",
    "    reg = smf.ols(formula = 'y ~ x', data = df)\n",
    "    results = reg.fit()\n",
    "    b0[i] = results.params['Intercept']\n",
    "    b1[i] = results.params['x']"
   ]
  },
  {
   "cell_type": "code",
   "execution_count": 67,
   "id": "above-heather",
   "metadata": {},
   "outputs": [
    {
     "name": "stdout",
     "output_type": "stream",
     "text": [
      "Average of Intercept Parameter: 0.9959964853364949\n",
      "\n",
      "Average of Slope Parameter: 0.5013284088245124\n",
      "\n"
     ]
    }
   ],
   "source": [
    "# Calculate estimate of the expected values\n",
    "b0_avg = np.mean(b0)\n",
    "b1_avg = np.mean(b1)\n",
    "\n",
    "print(f'Average of Intercept Parameter: {b0_avg}\\n')\n",
    "print(f'Average of Slope Parameter: {b1_avg}\\n')"
   ]
  },
  {
   "cell_type": "code",
   "execution_count": 68,
   "id": "loose-necessity",
   "metadata": {},
   "outputs": [
    {
     "name": "stdout",
     "output_type": "stream",
     "text": [
      "Variance of Intercept Parameter: 0.06763015012288659\n",
      "\n",
      "Variance of Slope Parameter: 0.004051527699791584\n",
      "\n"
     ]
    }
   ],
   "source": [
    "# Calculate estimate of the variance\n",
    "b0_var = np.var(b0, ddof = 1)\n",
    "b1_var = np.var(b1, ddof = 1)\n",
    "\n",
    "print(f'Variance of Intercept Parameter: {b0_var}\\n')\n",
    "print(f'Variance of Slope Parameter: {b1_var}\\n')"
   ]
  },
  {
   "cell_type": "code",
   "execution_count": 69,
   "id": "complete-ordinary",
   "metadata": {},
   "outputs": [
    {
     "data": {
      "image/png": "[encoded data removed]",
      "text/plain": [
       "<Figure size 432x288 with 1 Axes>"
      ]
     },
     "metadata": {
      "needs_background": "light"
     },
     "output_type": "display_data"
    }
   ],
   "source": [
    "# Plot the population regression and the OLS models\n",
    "x_range = np.linspace(0, 8, num = 100)\n",
    "plt.ylim([0, 6])\n",
    "\n",
    "# Add population regression line\n",
    "plt.plot(x_range, beta0 + beta1 * x_range, color = \"black\",\n",
    "        linestyle = '-', linewidth = 2, label = 'Population Regression')\n",
    "\n",
    "# Add first OLS regression line (to attache a label)\n",
    "plt.plot(x_range, b0[0] + b1[0] * x_range, color = 'grey',\n",
    "        linestyle = '-', linewidth = 0.5, label = 'OLS Regressions')\n",
    "\n",
    "# Add OLS regression lines no. 2 to 10\n",
    "for i in range(1, 10):\n",
    "    plt.plot(x_range, b0[i] + b1[i] * x_range, color ='grey',\n",
    "            linestyle = '-', linewidth = 0.5)\n",
    "plt.ylabel('y')\n",
    "plt.xlabel('x')\n",
    "plt.legend()\n",
    "plt.savefig('images/SLR-sim-models.png')\n",
    "plt.show()\n",
    "plt.close()"
   ]
  },
  {
   "cell_type": "markdown",
   "id": "designing-style",
   "metadata": {},
   "source": [
    "This example gives descriptive statistics of the *r* = 10,000 estimates we got from our simulation exercise. Wooldridge (2019, Theorem 2.1) claims that the OLS estimators are unbiased, so we should expect to get estimates which are very close to the respective population parameters. This is clearly confirmed. The average value of $\\hat{\\beta}_0$ is very close to $\\beta_0$ = 1 and the average value of $\\hat{\\beta}_1$ is very close to $\\beta_1$ = 0.5.\n",
    "\n",
    "The simulated sampling variances are $\\tilde{Var}(\\hat{\\beta}_0)$ = 0.0676 and $\\tilde{Var}(\\hat{\\beta}_1)$ = 0.0042. Also these values are very close to the ones we expected from Theorem 2.2. The plot shows the OLS regression lines for the first 10 simulated samples together with the population regression function.\n",
    "\n",
    "#### Violation of SLR.4\n",
    "\n",
    "We will come back to a more systematic discussion of the consequences of violating the SLR assumption below. At this point, we can already simulate the effects. In order to implement a violation of SLR.4 (zero conditional mean), consider a case where in the population *u* is not mean independent of *x*. A simple example is\n",
    "\n",
    "$$E(u|x) = \\frac{x - 7}{13}$$\n",
    "\n",
    "What happens to our OLS estimator? In the following example, we implement a simulation of this model."
   ]
  },
  {
   "cell_type": "code",
   "execution_count": 70,
   "id": "desperate-settlement",
   "metadata": {},
   "outputs": [],
   "source": [
    "# Import modules\n",
    "import pandas as pd\n",
    "import numpy as np\n",
    "import scipy.stats as stats\n",
    "import statsmodels.formula.api as smf\n",
    "import matplotlib.pyplot as plt"
   ]
  },
  {
   "cell_type": "code",
   "execution_count": 71,
   "id": "roman-format",
   "metadata": {},
   "outputs": [],
   "source": [
    "# Set the random seed:\n",
    "np.random.seed(111111)"
   ]
  },
  {
   "cell_type": "code",
   "execution_count": 72,
   "id": "physical-walnut",
   "metadata": {},
   "outputs": [],
   "source": [
    "# Set sample size and number of simulation:\n",
    "n = 1000\n",
    "r = 10000"
   ]
  },
  {
   "cell_type": "code",
   "execution_count": 73,
   "id": "middle-bridal",
   "metadata": {},
   "outputs": [],
   "source": [
    "# Set true parameters (betas and sd of u):\n",
    "beta0 = 1\n",
    "beta1 = 0.5\n",
    "su = 2"
   ]
  },
  {
   "cell_type": "code",
   "execution_count": 74,
   "id": "undefined-entry",
   "metadata": {},
   "outputs": [],
   "source": [
    "# Initialize b0 and b1 to store results later:\n",
    "b0 = np.empty(r)\n",
    "b1 = np.empty(r)"
   ]
  },
  {
   "cell_type": "code",
   "execution_count": 75,
   "id": "golden-youth",
   "metadata": {},
   "outputs": [],
   "source": [
    "# Draw a sample of x of size n:\n",
    "x = stats.norm.rvs(4, 1, size = n)\n",
    "u_mean = np.array((x - 7) / 13)"
   ]
  },
  {
   "cell_type": "code",
   "execution_count": 76,
   "id": "statistical-indonesian",
   "metadata": {},
   "outputs": [],
   "source": [
    "# Create simulation for r times:\n",
    "for i in range(r):\n",
    "    # Draw a sample of u and y\n",
    "    u = stats.norm.rvs(u_mean, su, size = n)\n",
    "    y = beta0 + beta1 * x + u\n",
    "    df = pd.DataFrame({'y': y, 'x': x})\n",
    "    \n",
    "    # Estimate and store parameters by OLS\n",
    "    reg = smf.ols(formula = 'y ~ x', data = df)\n",
    "    results = reg.fit()\n",
    "    b0[i] = results.params['Intercept']\n",
    "    b1[i] = results.params['x']"
   ]
  },
  {
   "cell_type": "code",
   "execution_count": 77,
   "id": "wrong-sperm",
   "metadata": {},
   "outputs": [
    {
     "name": "stdout",
     "output_type": "stream",
     "text": [
      "Average of Intercept Parameter: 0.4575349468749564\n",
      "\n",
      "Average of Slope Parameter: 0.5782514857475892\n",
      "\n"
     ]
    }
   ],
   "source": [
    "# Calculate estimate of the expected values\n",
    "b0_avg = np.mean(b0)\n",
    "b1_avg = np.mean(b1)\n",
    "\n",
    "print(f'Average of Intercept Parameter: {b0_avg}\\n')\n",
    "print(f'Average of Slope Parameter: {b1_avg}\\n')"
   ]
  },
  {
   "cell_type": "code",
   "execution_count": 78,
   "id": "juvenile-power",
   "metadata": {},
   "outputs": [
    {
     "name": "stdout",
     "output_type": "stream",
     "text": [
      "Variance of Intercept Parameter: 0.06763015012288659\n",
      "\n",
      "Variance of Slope Parameter: 0.004051527699791584\n",
      "\n"
     ]
    }
   ],
   "source": [
    "# Calculate estimate of the variance\n",
    "b0_var = np.var(b0, ddof = 1)\n",
    "b1_var = np.var(b1, ddof = 1)\n",
    "\n",
    "print(f'Variance of Intercept Parameter: {b0_var}\\n')\n",
    "print(f'Variance of Slope Parameter: {b1_var}\\n')"
   ]
  },
  {
   "cell_type": "code",
   "execution_count": 79,
   "id": "variable-kernel",
   "metadata": {},
   "outputs": [
    {
     "data": {
      "image/png": "[encoded data removed]",
      "text/plain": [
       "<Figure size 432x288 with 1 Axes>"
      ]
     },
     "metadata": {
      "needs_background": "light"
     },
     "output_type": "display_data"
    }
   ],
   "source": [
    "# Plot the population regression and the OLS models\n",
    "x_range = np.linspace(0, 8, num = 100)\n",
    "plt.ylim([0, 6])\n",
    "\n",
    "# Add population regression line\n",
    "plt.plot(x_range, beta0 + beta1 * x_range, color = \"black\",\n",
    "        linestyle = '-', linewidth = 2, label = 'Population Regression')\n",
    "\n",
    "# Add first OLS regression line (to attache a label)\n",
    "plt.plot(x_range, b0[0] + b1[0] * x_range, color = 'grey',\n",
    "        linestyle = '-', linewidth = 0.5, label = 'OLS Regressions')\n",
    "\n",
    "# Add OLS regression lines no. 2 to 10\n",
    "for i in range(1, 10):\n",
    "    plt.plot(x_range, b0[i] + b1[i] * x_range, color ='grey',\n",
    "            linestyle = '-', linewidth = 0.5)\n",
    "plt.ylabel('y')\n",
    "plt.xlabel('x')\n",
    "plt.legend()\n",
    "plt.savefig('images/violate_slr.4.png')\n",
    "plt.show()\n",
    "plt.close()"
   ]
  },
  {
   "cell_type": "markdown",
   "id": "unknown-protocol",
   "metadata": {},
   "source": [
    "The only line changed compare to the previous simulation is the sampling of *u* which now reads\n",
    "\n",
    "``` Python\n",
    "u_mean = np.array((x - 7) / 13)\n",
    "u = stats.norm.rvs(u_mean, su, size = n)\n",
    "```\n",
    "\n",
    "Obviously, the OLS coefficent are now biased: The average estimates are far from the population parameter $\\beta_0$ = 1 and $\\beta_1$ = 0.5. This confirms that Assumption SLR.4 is required to hold for the unbiasedness shown in Theorem 2.1.\n",
    "\n",
    "#### Violation of SLR.5\n",
    "\n",
    "Theorem 2.1 (unbiasedness) does not require Assumption SLR.5 (homoscedasticity), but Theorem 2.2 (sampling variance) does. As an example for a violation consider the population specfication\n",
    "\n",
    "$$Var(u|x) = \\frac{4}{e^{4.5}} \\cdot e^x$$\n",
    "\n",
    "so SLR.5 is clearly violated since the variance depends on *x*. We assume exogeneity, so assumption SLR.4 holds. The factor in front ensures that the unconditional variance $Var(u)$ = 4. (Since $x \\backsim Normal(4, 1)$, $e^x$ is log-normally distributed and has a mean of $e^4.5$.) Based on this unconditional variance only, the sampling variance should not change compared to the results above and we would still expect $Var(\\hat{\\beta}_0)$ = 0.0676 and $Var(\\hat{\\beta}_1)$ = 0.0041. But since Assumption SLR.5 is violated, Theorem 2.2 is not applicable.\n",
    "\n",
    "We implement a simulation of this model. Here we only had to change the line of code for the sampling of *u* to \n",
    "\n",
    "``` Python\n",
    "u_var = np.array(4 / np.exp(4.5) * np.exp(x))\n",
    "u = stats.norm.rvs(0, np.sqrt(u_var), size = n)\n",
    "```\n",
    "\n",
    "The output demonstrates two effects: The unbiasedness provided by Theorem 2.1 is unaffected, but the formula of sampling variance provided by Theorem 2.2 is incorrect."
   ]
  },
  {
   "cell_type": "code",
   "execution_count": 80,
   "id": "fuzzy-ordinance",
   "metadata": {},
   "outputs": [],
   "source": [
    "# Import modules\n",
    "import pandas as pd\n",
    "import numpy as np\n",
    "import scipy.stats as stats\n",
    "import statsmodels.formula.api as smf\n",
    "import matplotlib.pyplot as plt"
   ]
  },
  {
   "cell_type": "code",
   "execution_count": 81,
   "id": "extensive-evanescence",
   "metadata": {},
   "outputs": [],
   "source": [
    "# Set the random seed:\n",
    "np.random.seed(111111)\n",
    "\n",
    "# Set sample size and number of simulation:\n",
    "n = 1000\n",
    "r = 10000\n",
    "\n",
    "# Set true parameters (betas and sd of u):\n",
    "beta0 = 1\n",
    "beta1 = 0.5\n",
    "su = 2\n",
    "\n",
    "# Initialize b0 and b1 to store results later:\n",
    "b0 = np.empty(r)\n",
    "b1 = np.empty(r)"
   ]
  },
  {
   "cell_type": "code",
   "execution_count": 82,
   "id": "contained-chambers",
   "metadata": {},
   "outputs": [],
   "source": [
    "# Draw a sample of x of size n:\n",
    "x = stats.norm.rvs(4, 1, size = n)\n",
    "u_var = np.array(4 / np.exp(4.5) * np.exp(x))"
   ]
  },
  {
   "cell_type": "code",
   "execution_count": 83,
   "id": "afraid-measure",
   "metadata": {},
   "outputs": [],
   "source": [
    "# Create simulation for r times:\n",
    "for i in range(r):\n",
    "    # Draw a sample of u and y\n",
    "    u = stats.norm.rvs(0, np.sqrt(u_var), size = n)\n",
    "    y = beta0 + beta1 * x + u\n",
    "    df = pd.DataFrame({'y': y, 'x': x})\n",
    "    \n",
    "    # Estimate and store parameters by OLS\n",
    "    reg = smf.ols(formula = 'y ~ x', data = df)\n",
    "    results = reg.fit()\n",
    "    b0[i] = results.params['Intercept']\n",
    "    b1[i] = results.params['x']"
   ]
  },
  {
   "cell_type": "code",
   "execution_count": 84,
   "id": "regulation-tower",
   "metadata": {},
   "outputs": [
    {
     "name": "stdout",
     "output_type": "stream",
     "text": [
      "Average of Intercept Parameter: 0.9948984583273667\n",
      "\n",
      "Average of Slope Parameter: 0.5016874973606862\n",
      "\n"
     ]
    }
   ],
   "source": [
    "# Calculate estimate of the expected values\n",
    "b0_avg = np.mean(b0)\n",
    "b1_avg = np.mean(b1)\n",
    "\n",
    "print(f'Average of Intercept Parameter: {b0_avg}\\n')\n",
    "print(f'Average of Slope Parameter: {b1_avg}\\n')"
   ]
  },
  {
   "cell_type": "code",
   "execution_count": 85,
   "id": "fuzzy-webcam",
   "metadata": {},
   "outputs": [
    {
     "name": "stdout",
     "output_type": "stream",
     "text": [
      "Variance of Intercept Parameter: 0.10003089612899757\n",
      "\n",
      "Variance of Slope Parameter: 0.00810688562802346\n",
      "\n"
     ]
    }
   ],
   "source": [
    "# Calculate estimate of the variance\n",
    "b0_var = np.var(b0, ddof = 1)\n",
    "b1_var = np.var(b1, ddof = 1)\n",
    "\n",
    "print(f'Variance of Intercept Parameter: {b0_var}\\n')\n",
    "print(f'Variance of Slope Parameter: {b1_var}\\n')"
   ]
  },
  {
   "cell_type": "code",
   "execution_count": 86,
   "id": "amended-sending",
   "metadata": {},
   "outputs": [
    {
     "data": {
      "image/png": "[encoded data removed]",
      "text/plain": [
       "<Figure size 432x288 with 1 Axes>"
      ]
     },
     "metadata": {
      "needs_background": "light"
     },
     "output_type": "display_data"
    }
   ],
   "source": [
    "# Plot the population regression and the OLS models\n",
    "x_range = np.linspace(0, 8, num = 100)\n",
    "plt.ylim([0, 6])\n",
    "\n",
    "# Add population regression line\n",
    "plt.plot(x_range, beta0 + beta1 * x_range, color = \"black\",\n",
    "        linestyle = '-', linewidth = 2, label = 'Population Regression')\n",
    "\n",
    "# Add first OLS regression line (to attache a label)\n",
    "plt.plot(x_range, b0[0] + b1[0] * x_range, color = 'grey',\n",
    "        linestyle = '-', linewidth = 0.5, label = 'OLS Regressions')\n",
    "\n",
    "# Add OLS regression lines no. 2 to 10\n",
    "for i in range(1, 10):\n",
    "    plt.plot(x_range, b0[i] + b1[i] * x_range, color ='grey',\n",
    "            linestyle = '-', linewidth = 0.5)\n",
    "plt.ylabel('y')\n",
    "plt.xlabel('x')\n",
    "plt.legend()\n",
    "plt.savefig('images/violate_slr.5.png')\n",
    "plt.show()\n",
    "plt.close()"
   ]
  }
 ],
 "metadata": {
  "hide_input": false,
  "kernelspec": {
   "display_name": "Python 3",
   "language": "python",
   "name": "python3"
  },
  "language_info": {
   "codemirror_mode": {
    "name": "ipython",
    "version": 3
   },
   "file_extension": ".py",
   "mimetype": "text/x-python",
   "name": "python",
   "nbconvert_exporter": "python",
   "pygments_lexer": "ipython3",
   "version": "3.7.1"
  },
  "nbTranslate": {
   "displayLangs": [
    "*"
   ],
   "hotkey": "alt-t",
   "langInMainMenu": true,
   "sourceLang": "en",
   "targetLang": "fr",
   "useGoogleTranslate": true
  },
  "varInspector": {
   "cols": {
    "lenName": 16,
    "lenType": 16,
    "lenVar": 40
   },
   "kernels_config": {
    "python": {
     "delete_cmd_postfix": "",
     "delete_cmd_prefix": "del ",
     "library": "var_list.py",
     "varRefreshCmd": "print(var_dic_list())"
    },
    "r": {
     "delete_cmd_postfix": ") ",
     "delete_cmd_prefix": "rm(",
     "library": "var_list.r",
     "varRefreshCmd": "cat(var_dic_list()) "
    }
   },
   "types_to_exclude": [
    "module",
    "function",
    "builtin_function_or_method",
    "instance",
    "_Feature"
   ],
   "window_display": false
  }
 },
 "nbformat": 4,
 "nbformat_minor": 5
}
