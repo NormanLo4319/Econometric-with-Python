{
 "cells": [
  {
   "cell_type": "markdown",
   "id": "excited-dependence",
   "metadata": {},
   "source": [
    "## I. Introduction to Python\n",
    "\n",
    "**Econometrics** is a powerful and essential study for solving real-world problems. The practical implementation and application of econometric methids and tools helps tremendously with undestanding the concepts. Nowadays, a vast majority of peole will have to deal with some sort of data analysis in their career. Learning how to use some serious data analysis software is an invaluable asset for anyone of economics, business adminstration, and related fields.\n",
    "\n",
    "Choosing a software package for learning econometrics could be a tough question to answer. Possibly the most important aspect is that it is widely used both in and outside academia. A large and active user community helps the software to remain up to date and increases the chances that somebody else has already solved the problem at hand. **Python** can be an ideal candidate for starting to learn econometrics and data analysis. It has a hugh user base, especially in the fields of data science, machine learning, and artificial intelligence, where it arguably is the most popular software overall. Also, Python is completely free and available for all relevant operating systems. \n",
    "\n",
    "In this section, we provide a gentle introduction of Python, cover some of the basic knowledge of the software, demonstrate with examples, and provide examples for practice.\n",
    "\n",
    "### Topics:\n",
    "\n",
    "1. Working Directory\n",
    "2. Python Objects\n",
    "3. Modules\n",
    "4. External Data"
   ]
  },
  {
   "cell_type": "markdown",
   "id": "upset-junior",
   "metadata": {},
   "source": [
    "### 1. Working Directory\n",
    "\n",
    "Similar to many statistical software, when we are working on a particar project with the software, we need to interact with different files, such as import or export a data file, save a generated figure as a graphic file, store regression tables as text, spreadsheet, or LATEX file. Whenever we provide Python with a file name, it can include the full path on the computer.  The full (i.e. \"absolute\") path to a script file might be something like below on a Mac or Linus system.\n",
    "\n",
    "```\n",
    "/Users/Econometric-with-Python/Introduction_to_Python.ipynb\n",
    "```\n",
    "\n",
    "The path is provided for Unix based operating systems using forward slashes. If you are a Window user, you usually use back slashes instead of forward slashes, but the Unix-style will also work in Python.  On a Window system, a valid path would be\n",
    "\n",
    "```\n",
    "C:/Users/MyUserName/Desktop/Econometric-with-Python/Introduction_to_Python.ipynb\n",
    "```\n",
    "\n",
    "If we do not provide any path, Python will use the current \"working directory\" for reading or writing files.  AFter importing the module **os**, it can be obtained by the command *os.getcwd()*. To change the working directry, use the command *os.chdir(path)*. Relative pathys, are interpreted related to the current working directory. For a neat file organization, best practice is to generate a directory for each project (say *MyEconProject*) with several sub-directories (say *PyScripts*, *data*, and *images*). At the beginning of the script, we can use the command *os.chdir()* to set the working directory for the project and afterwards refer to a data set in the respective sub-directory as **data/MyData.csv** and to a graphics file as **images/MyFigure.png**.\n",
    "\n",
    "Here is an example,\n",
    "\n",
    "``` Python\n",
    "# Loading the os module\n",
    "import os\n",
    "\n",
    "# Check the current working directory\n",
    "os.getcwd()\n",
    "\n",
    "# Change the working directory to desktop (Window)\n",
    "os.chdir('C:/Users/MyUserName/Desktop') # Note: \"MyUserName\" should be the actual username of the machine\n",
    "\n",
    "# Change the working directory to desktop (Mac / Linus)\n",
    "os.chdir('Users/Desktop')\n",
    "\n",
    "# Check to see if the working directory is changed\n",
    "os.getcwd()\n",
    "```\n",
    "\n",
    "#### Practice:\n",
    "\n",
    "Check your current working directory using the command *os.getcwd()*. Then, Change the working directory to **Desktop** using the command *os.chdir()*. Check to see if the working directory has changed. Again, using the command *os.chdir()* change back to the original directory and check afterward."
   ]
  },
  {
   "cell_type": "code",
   "execution_count": null,
   "id": "worse-campbell",
   "metadata": {},
   "outputs": [],
   "source": [
    "# Loading the os Module\n"
   ]
  },
  {
   "cell_type": "code",
   "execution_count": null,
   "id": "turkish-thunder",
   "metadata": {
    "scrolled": true
   },
   "outputs": [],
   "source": [
    "# Check your current working directory\n"
   ]
  },
  {
   "cell_type": "code",
   "execution_count": null,
   "id": "superb-blank",
   "metadata": {},
   "outputs": [],
   "source": [
    "# Change the working directory to the Desktop\n"
   ]
  },
  {
   "cell_type": "code",
   "execution_count": null,
   "id": "increased-quebec",
   "metadata": {},
   "outputs": [],
   "source": [
    "# Check to see if the directory has changed\n"
   ]
  },
  {
   "cell_type": "code",
   "execution_count": null,
   "id": "universal-praise",
   "metadata": {},
   "outputs": [],
   "source": [
    "# Change the directory back to the original one\n"
   ]
  },
  {
   "cell_type": "code",
   "execution_count": null,
   "id": "contrary-router",
   "metadata": {},
   "outputs": [],
   "source": [
    "# Check again to see if you are in the original directory\n"
   ]
  },
  {
   "cell_type": "markdown",
   "id": "rotary-progressive",
   "metadata": {},
   "source": [
    "### 2. Python Objects\n",
    "\n",
    "Python is an **Object Oriented Programming (OOP)** language, which relies on the concept of classes and objects. It is used to structure a software program into simple, reusable pieces of code blueprints (usually called classes), which are used to create individual instances of objects. Python can work with numbers, lists, arrays, texts, data sets, graphs, functions, and many objects of different types. This section covers the most important ones we will frequently encounter in econometric analysis. We begin with the built-in objects that are available with the standard distribution of Python, then introduce objects included in the modules **numpy** and **pandas**.\n",
    "\n",
    "#### Variables\n",
    "\n",
    "Just like many statistical software packages, we often want to store results of calculation to reuse them later. For this, we can assign result to a **variable**. A variable has a name and by this name we can access the assigned object. \n",
    "\n",
    "Here are some examples:\n",
    "\n",
    "``` Python\n",
    "# Assigning a value 5 to a variable x\n",
    "x = 5\n",
    "print(f'x has a value of: {x}')\n",
    "\n",
    "# Assigning a value 10 to a variable y\n",
    "y = 10\n",
    "print(f'y has a value of: {y}')\n",
    "\n",
    "# Assigning the value y divided by x to a varialbe z\n",
    "z = y / x\n",
    "print(f'z has a value of: {z}')\n",
    "```\n",
    "\n",
    "#### Practice:\n",
    "\n",
    "Try to complete the following assignments and print their values.\n",
    "\n",
    "- Assign 3 + 4 to variable \"a\"\n",
    "- Assign 3.14 to variable \"b\"\n",
    "- Assign \"Hello World\" to variable \"c\""
   ]
  },
  {
   "cell_type": "code",
   "execution_count": null,
   "id": "amazing-reduction",
   "metadata": {},
   "outputs": [],
   "source": [
    "# Assign 3 + 4 to variable \"a\"\n"
   ]
  },
  {
   "cell_type": "code",
   "execution_count": null,
   "id": "elegant-reason",
   "metadata": {},
   "outputs": [],
   "source": [
    "# Assign 3.14 to variable \"b\"\n"
   ]
  },
  {
   "cell_type": "code",
   "execution_count": null,
   "id": "cleared-acoustic",
   "metadata": {},
   "outputs": [],
   "source": [
    "# Assign \"Hello World\" to variable \"c\"\n"
   ]
  },
  {
   "cell_type": "markdown",
   "id": "conceptual-lesbian",
   "metadata": {},
   "source": [
    "#### Objects in Python\n",
    "\n",
    "Once you assigned different values to the variables, you might wonder what kind of objects we have dealth with so far. In fact, we can use the command \"**type**\" to identify the object type.\n",
    "\n",
    "Here are some examples:\n",
    "\n",
    "``` Python\n",
    "# Assigning a value 5 to a variable x\n",
    "x = 5\n",
    "x_type = type(x)\n",
    "print(f'x is a: {x_type}')\n",
    "\n",
    "# Assigning a value 2.5 to a variable y\n",
    "y = 2.5\n",
    "y_type = type(y)\n",
    "print(f'y is a: {y_type}')\n",
    "\n",
    "# Assigning the value \"Python\" to a varialbe z\n",
    "z = \"Python\"\n",
    "z_type = type(z)\n",
    "print(f'z is a: {z_type}')\n",
    "```\n",
    "\n",
    "The command **type** tells us that we have created integers (**int**), floating point numbers (**float**), and text object / string (**str**). The data type not only defines what values can be stored, but also the actions can be perform on these objects. For example, if we want to add an integer to a string, Python will return:\n",
    "\n",
    "```\n",
    "TypeError: unsupported operand type(s) for +: 'int' and 'str'\n",
    "```\n",
    "\n"
   ]
  },
  {
   "cell_type": "code",
   "execution_count": null,
   "id": "internal-smooth",
   "metadata": {},
   "outputs": [],
   "source": []
  },
  {
   "cell_type": "code",
   "execution_count": null,
   "id": "difficult-april",
   "metadata": {},
   "outputs": [],
   "source": []
  },
  {
   "cell_type": "code",
   "execution_count": null,
   "id": "chemical-south",
   "metadata": {},
   "outputs": [],
   "source": []
  },
  {
   "cell_type": "code",
   "execution_count": null,
   "id": "answering-wrong",
   "metadata": {},
   "outputs": [],
   "source": []
  },
  {
   "cell_type": "code",
   "execution_count": null,
   "id": "animated-storm",
   "metadata": {},
   "outputs": [],
   "source": []
  },
  {
   "cell_type": "code",
   "execution_count": null,
   "id": "unsigned-regard",
   "metadata": {},
   "outputs": [],
   "source": []
  },
  {
   "cell_type": "code",
   "execution_count": null,
   "id": "controlled-relaxation",
   "metadata": {},
   "outputs": [],
   "source": []
  },
  {
   "cell_type": "code",
   "execution_count": null,
   "id": "exterior-worth",
   "metadata": {},
   "outputs": [],
   "source": []
  },
  {
   "cell_type": "markdown",
   "id": "normal-soviet",
   "metadata": {},
   "source": [
    "### 3. Modules"
   ]
  },
  {
   "cell_type": "code",
   "execution_count": null,
   "id": "appointed-translator",
   "metadata": {},
   "outputs": [],
   "source": []
  },
  {
   "cell_type": "code",
   "execution_count": null,
   "id": "bearing-provincial",
   "metadata": {},
   "outputs": [],
   "source": []
  },
  {
   "cell_type": "code",
   "execution_count": null,
   "id": "deluxe-handle",
   "metadata": {},
   "outputs": [],
   "source": []
  },
  {
   "cell_type": "markdown",
   "id": "immediate-conservative",
   "metadata": {},
   "source": [
    "### 4. External Data"
   ]
  },
  {
   "cell_type": "code",
   "execution_count": null,
   "id": "binary-victoria",
   "metadata": {},
   "outputs": [],
   "source": []
  },
  {
   "cell_type": "code",
   "execution_count": null,
   "id": "grave-defensive",
   "metadata": {},
   "outputs": [],
   "source": []
  },
  {
   "cell_type": "code",
   "execution_count": null,
   "id": "italic-bulgaria",
   "metadata": {},
   "outputs": [],
   "source": []
  },
  {
   "cell_type": "code",
   "execution_count": null,
   "id": "piano-plenty",
   "metadata": {},
   "outputs": [],
   "source": []
  },
  {
   "cell_type": "code",
   "execution_count": null,
   "id": "close-physics",
   "metadata": {},
   "outputs": [],
   "source": []
  },
  {
   "cell_type": "code",
   "execution_count": null,
   "id": "wound-conversion",
   "metadata": {},
   "outputs": [],
   "source": []
  },
  {
   "cell_type": "code",
   "execution_count": null,
   "id": "rolled-potato",
   "metadata": {},
   "outputs": [],
   "source": []
  }
 ],
 "metadata": {
  "kernelspec": {
   "display_name": "Python 3",
   "language": "python",
   "name": "python3"
  },
  "language_info": {
   "codemirror_mode": {
    "name": "ipython",
    "version": 3
   },
   "file_extension": ".py",
   "mimetype": "text/x-python",
   "name": "python",
   "nbconvert_exporter": "python",
   "pygments_lexer": "ipython3",
   "version": "3.7.1"
  }
 },
 "nbformat": 4,
 "nbformat_minor": 5
}
